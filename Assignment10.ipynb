{
  "nbformat": 4,
  "nbformat_minor": 0,
  "metadata": {
    "colab": {
      "name": "FatAmaDeeLeaAss10.ipynb",
      "provenance": []
    },
    "kernelspec": {
      "name": "python3",
      "display_name": "Python 3"
    },
    "accelerator": "GPU"
  },
  "cells": [
    {
      "cell_type": "code",
      "metadata": {
        "id": "hk8LM74VnIt-"
      },
      "source": [
        "!pip install optuna"
      ],
      "execution_count": null,
      "outputs": []
    },
    {
      "cell_type": "code",
      "metadata": {
        "id": "M-9H4eDGSuCH"
      },
      "source": [
        "import torch\r\n",
        "from torchvision import datasets, transforms\r\n",
        "from torch import nn\r\n",
        "import optuna\r\n",
        "import numpy as np\r\n",
        "from optuna.pruners import ThresholdPruner\r\n",
        "import torch.nn.functional as F"
      ],
      "execution_count": 175,
      "outputs": []
    },
    {
      "cell_type": "code",
      "metadata": {
        "id": "NYPnd7sVa0AE"
      },
      "source": [
        "criterion = nn.CrossEntropyLoss()\r\n",
        "class CifarNet(nn.Module):\r\n",
        "    def __init__(self):\r\n",
        "        super(CifarNet, self).__init__()\r\n",
        "        self.conv1 = nn.Conv2d(3, 32, 5)\r\n",
        "        self.conv2 = nn.Conv2d(32, 64, 5)\r\n",
        "        self.conv3 = nn.Conv2d(64, 64, 5)\r\n",
        "        self.conv4 = nn.Conv2d(64, 128, 3)\r\n",
        "        self.conv5 = nn.Conv2d(128, 128, 3)\r\n",
        "        self.conv6 = nn.Conv2d(128, 256, 3)\r\n",
        "        self.conv7 = nn.Conv2d(256, 256, 3)\r\n",
        "        self.flat = nn.Flatten()\r\n",
        "        self.fc1 = nn.Linear(36864, 512)\r\n",
        "        self.fc2 = nn.Linear(512, 128)\r\n",
        "        self.dropout = nn.Dropout(p=0.3)\r\n",
        "        self.fc3 = nn.Linear(128, 10)\r\n",
        "        \r\n",
        "    def forward(self, x):\r\n",
        "        x = F.relu(self.conv1(x))\r\n",
        "        x = F.relu(self.conv2(x))\r\n",
        "        x = F.relu(self.conv3(x))\r\n",
        "        x = F.relu(self.conv4(x))\r\n",
        "        x = F.relu(self.conv5(x))\r\n",
        "        x = F.relu(self.conv6(x))\r\n",
        "        x = F.relu(self.conv7(x))\r\n",
        "        x = self.flat(x)\r\n",
        "        # print(x.shape)\r\n",
        "        x = F.relu(self.fc1(x))\r\n",
        "        x = F.relu(self.fc2(x))\r\n",
        "        x = self.dropout(x)        \r\n",
        "        x = self.fc3(x)\r\n",
        "        return x"
      ],
      "execution_count": 176,
      "outputs": []
    },
    {
      "cell_type": "code",
      "metadata": {
        "id": "j6V0SxyCfvcv"
      },
      "source": [
        "def train(trial,num_epochs,optimizer,training_generator,validation_generator,model,device):\r\n",
        "    train_accuracy = []\r\n",
        "    valid_accuracy = []\r\n",
        "    for epoch in range(num_epochs):\r\n",
        "        model.train()\r\n",
        "        running_accuracy = []\r\n",
        "        for local_batch, local_labels in training_generator:\r\n",
        "            local_batch, local_labels = local_batch.to(device), local_labels.to(device)\r\n",
        "            optimizer.zero_grad()\r\n",
        "            outputs = model(local_batch)\r\n",
        "            loss = criterion(outputs, local_labels)\r\n",
        "            loss.backward()\r\n",
        "            optimizer.step()\r\n",
        "            _, predicted = torch.max(outputs, 1)\r\n",
        "            running_accuracy.append((predicted == local_labels).sum().item()/training_generator.batch_size)\r\n",
        "        # Compute Training Accuracy\r\n",
        "        train_accuracy.append(np.mean(running_accuracy))\r\n",
        "        model.eval()\r\n",
        "        running_accuracy = []\r\n",
        "        with torch.no_grad():\r\n",
        "            for local_batch, local_labels in validation_generator:\r\n",
        "                local_batch, local_labels = local_batch.to(device), local_labels.to(device)\r\n",
        "                outputs = model(local_batch)\r\n",
        "                _, predicted = torch.max(outputs, 1)\r\n",
        "                running_accuracy.append((predicted == local_labels).sum().item()/training_generator.batch_size)\r\n",
        "        valid_accuracy.append(np.mean(running_accuracy))\r\n",
        "        print('[{:d}] | train accuracy {:5.2f} | validation accuracy {:5.2f}'.format(epoch + 1,train_accuracy[-1]*100,valid_accuracy[-1]*100))\r\n",
        "        # Study Parameters\r\n",
        "        if len(valid_accuracy) > 4:\r\n",
        "            trial.report(np.var(valid_accuracy[-5:]), epoch)\r\n",
        "            if trial.should_prune():\r\n",
        "                raise optuna.TrialPruned()\r\n",
        "    return valid_accuracy[-1]"
      ],
      "execution_count": 177,
      "outputs": []
    },
    {
      "cell_type": "code",
      "metadata": {
        "colab": {
          "base_uri": "https://localhost:8080/"
        },
        "id": "NSxoo5R7YgEV",
        "outputId": "b129442e-0300-4d50-e7a6-65582bd04b1f"
      },
      "source": [
        "data_transform = transforms.Compose([\r\n",
        "        transforms.ToTensor(),\r\n",
        "        transforms.Normalize((0.5,), (0.5,))\r\n",
        "    ])\r\n",
        "\r\n",
        "train_ds = datasets.CIFAR10(root ='data/',\r\n",
        "                            train=True,\r\n",
        "                            download=True,\r\n",
        "                            transform=data_transform)\r\n",
        "\r\n",
        "val_ds = datasets.CIFAR10(root ='data/',\r\n",
        "                          train=False,\r\n",
        "                          download=True,\r\n",
        "                          transform=data_transform)"
      ],
      "execution_count": 178,
      "outputs": [
        {
          "output_type": "stream",
          "text": [
            "Files already downloaded and verified\n",
            "Files already downloaded and verified\n"
          ],
          "name": "stdout"
        }
      ]
    },
    {
      "cell_type": "code",
      "metadata": {
        "id": "Zao-0unsiiAy"
      },
      "source": [
        "def objective(trial):\r\n",
        "    device = torch.device(\"cuda:0\")\r\n",
        "    learning_rate = trial.suggest_uniform(\"lr\", 0.0001, 0.005)\r\n",
        "    batch_size = trial.suggest_categorical('batch_size',[16, 32, 64])\r\n",
        "    num_epochs = trial.suggest_categorical('num_epoch',[30,50,70])\r\n",
        "    training_generator = torch.utils.data.DataLoader(train_ds,\r\n",
        "                                             batch_size=batch_size,\r\n",
        "                                              shuffle=True)\r\n",
        "    validation_generator = torch.utils.data.DataLoader(val_ds,\r\n",
        "                                             batch_size=batch_size,\r\n",
        "                                              shuffle=True)\r\n",
        "    model = CifarNet()\r\n",
        "    model.to(device)\r\n",
        "    optimizer = torch.optim.RMSprop(model.parameters(),lr=learning_rate)\r\n",
        "    print(f'lr {learning_rate} \\t batch size {batch_size} \\t epochs {num_epochs}')\r\n",
        "    intermediate_value=train(trial,\r\n",
        "                             num_epochs,\r\n",
        "                             optimizer,\r\n",
        "                             training_generator,\r\n",
        "                             validation_generator,\r\n",
        "                             model,\r\n",
        "                             device)\r\n",
        "\r\n",
        "    return intermediate_value"
      ],
      "execution_count": 180,
      "outputs": []
    },
    {
      "cell_type": "code",
      "metadata": {
        "colab": {
          "base_uri": "https://localhost:8080/"
        },
        "id": "gPLfUnS0mMFd",
        "outputId": "75453e12-f2c7-4b48-e2bc-9f6c96c0912f"
      },
      "source": [
        "study = optuna.create_study(pruner=ThresholdPruner(lower=0.001),study_name='StudyCifar10.v1')\r\n",
        "study.optimize(objective, n_trials=50)"
      ],
      "execution_count": 181,
      "outputs": [
        {
          "output_type": "stream",
          "text": [
            "\u001b[32m[I 2021-02-02 09:40:46,638]\u001b[0m A new study created in memory with name: StudyCifar10.v1\u001b[0m\n"
          ],
          "name": "stderr"
        },
        {
          "output_type": "stream",
          "text": [
            "lr 0.0008224072901753402 \t batch size 16 \t epochs 30\n",
            "[1] | train accuracy 25.99 | validation accuracy 36.94\n",
            "[2] | train accuracy 41.60 | validation accuracy 45.95\n",
            "[3] | train accuracy 47.96 | validation accuracy 50.47\n",
            "[4] | train accuracy 52.60 | validation accuracy 53.04\n",
            "[5] | train accuracy 55.64 | validation accuracy 56.72\n",
            "[6] | train accuracy 57.99 | validation accuracy 57.21\n"
          ],
          "name": "stdout"
        },
        {
          "output_type": "stream",
          "text": [
            "\u001b[32m[I 2021-02-02 09:47:42,573]\u001b[0m Trial 0 pruned. \u001b[0m\n"
          ],
          "name": "stderr"
        },
        {
          "output_type": "stream",
          "text": [
            "[7] | train accuracy 58.98 | validation accuracy 55.66\n",
            "lr 0.002795108174238946 \t batch size 32 \t epochs 50\n",
            "[1] | train accuracy  9.82 | validation accuracy  9.98\n",
            "[2] | train accuracy  9.83 | validation accuracy  9.98\n",
            "[3] | train accuracy  9.62 | validation accuracy  9.98\n",
            "[4] | train accuracy  9.88 | validation accuracy  9.98\n"
          ],
          "name": "stdout"
        },
        {
          "output_type": "stream",
          "text": [
            "\u001b[32m[I 2021-02-02 09:50:59,855]\u001b[0m Trial 1 pruned. \u001b[0m\n"
          ],
          "name": "stderr"
        },
        {
          "output_type": "stream",
          "text": [
            "[5] | train accuracy  9.86 | validation accuracy  9.98\n",
            "lr 0.002224533795017733 \t batch size 16 \t epochs 30\n",
            "[1] | train accuracy 19.78 | validation accuracy 26.25\n",
            "[2] | train accuracy 22.23 | validation accuracy 10.00\n",
            "[3] | train accuracy  9.92 | validation accuracy 10.00\n",
            "[4] | train accuracy  9.63 | validation accuracy 10.00\n",
            "[5] | train accuracy 10.11 | validation accuracy 10.00\n"
          ],
          "name": "stdout"
        },
        {
          "output_type": "stream",
          "text": [
            "\u001b[32m[I 2021-02-02 09:56:52,297]\u001b[0m Trial 2 pruned. \u001b[0m\n"
          ],
          "name": "stderr"
        },
        {
          "output_type": "stream",
          "text": [
            "[6] | train accuracy  9.93 | validation accuracy 10.00\n",
            "lr 0.0027394411848104564 \t batch size 16 \t epochs 70\n",
            "[1] | train accuracy 10.47 | validation accuracy 10.00\n",
            "[2] | train accuracy 10.00 | validation accuracy 10.00\n",
            "[3] | train accuracy  9.83 | validation accuracy 10.00\n",
            "[4] | train accuracy  9.85 | validation accuracy 10.00\n"
          ],
          "name": "stdout"
        },
        {
          "output_type": "stream",
          "text": [
            "\u001b[32m[I 2021-02-02 10:01:44,227]\u001b[0m Trial 3 pruned. \u001b[0m\n"
          ],
          "name": "stderr"
        },
        {
          "output_type": "stream",
          "text": [
            "[5] | train accuracy  9.76 | validation accuracy 10.00\n",
            "lr 0.002806792521178422 \t batch size 32 \t epochs 50\n",
            "[1] | train accuracy 10.13 | validation accuracy  9.98\n",
            "[2] | train accuracy  9.89 | validation accuracy  9.98\n",
            "[3] | train accuracy  9.82 | validation accuracy  9.98\n",
            "[4] | train accuracy  9.83 | validation accuracy  9.98\n"
          ],
          "name": "stdout"
        },
        {
          "output_type": "stream",
          "text": [
            "\u001b[32m[I 2021-02-02 10:04:57,608]\u001b[0m Trial 4 pruned. \u001b[0m\n"
          ],
          "name": "stderr"
        },
        {
          "output_type": "stream",
          "text": [
            "[5] | train accuracy 10.03 | validation accuracy  9.98\n",
            "lr 0.002610346512903775 \t batch size 32 \t epochs 70\n",
            "[1] | train accuracy 16.28 | validation accuracy 21.73\n",
            "[2] | train accuracy 13.42 | validation accuracy  9.98\n",
            "[3] | train accuracy 10.07 | validation accuracy  9.98\n",
            "[4] | train accuracy  9.87 | validation accuracy  9.98\n",
            "[5] | train accuracy  9.92 | validation accuracy  9.98\n"
          ],
          "name": "stdout"
        },
        {
          "output_type": "stream",
          "text": [
            "\u001b[32m[I 2021-02-02 10:08:51,688]\u001b[0m Trial 5 pruned. \u001b[0m\n"
          ],
          "name": "stderr"
        },
        {
          "output_type": "stream",
          "text": [
            "[6] | train accuracy  9.85 | validation accuracy  9.98\n",
            "lr 0.002020901657090837 \t batch size 16 \t epochs 70\n",
            "[1] | train accuracy 11.54 | validation accuracy 10.00\n",
            "[2] | train accuracy 10.03 | validation accuracy 10.00\n",
            "[3] | train accuracy 10.03 | validation accuracy 10.00\n",
            "[4] | train accuracy 10.01 | validation accuracy 10.00\n"
          ],
          "name": "stdout"
        },
        {
          "output_type": "stream",
          "text": [
            "\u001b[32m[I 2021-02-02 10:13:45,545]\u001b[0m Trial 6 pruned. \u001b[0m\n"
          ],
          "name": "stderr"
        },
        {
          "output_type": "stream",
          "text": [
            "[5] | train accuracy  9.75 | validation accuracy 10.00\n",
            "lr 0.003742807075847453 \t batch size 32 \t epochs 50\n",
            "[1] | train accuracy 10.09 | validation accuracy  9.98\n",
            "[2] | train accuracy  9.86 | validation accuracy  9.98\n",
            "[3] | train accuracy 10.13 | validation accuracy  9.98\n",
            "[4] | train accuracy  9.71 | validation accuracy  9.98\n"
          ],
          "name": "stdout"
        },
        {
          "output_type": "stream",
          "text": [
            "\u001b[32m[I 2021-02-02 10:16:59,508]\u001b[0m Trial 7 pruned. \u001b[0m\n"
          ],
          "name": "stderr"
        },
        {
          "output_type": "stream",
          "text": [
            "[5] | train accuracy  9.86 | validation accuracy  9.98\n",
            "lr 0.0006276257962740375 \t batch size 64 \t epochs 30\n",
            "[1] | train accuracy 10.04 | validation accuracy  9.95\n",
            "[2] | train accuracy 10.01 | validation accuracy  9.95\n",
            "[3] | train accuracy  9.73 | validation accuracy  9.95\n",
            "[4] | train accuracy  9.90 | validation accuracy  9.95\n"
          ],
          "name": "stdout"
        },
        {
          "output_type": "stream",
          "text": [
            "\u001b[32m[I 2021-02-02 10:19:32,782]\u001b[0m Trial 8 pruned. \u001b[0m\n"
          ],
          "name": "stderr"
        },
        {
          "output_type": "stream",
          "text": [
            "[5] | train accuracy  9.90 | validation accuracy  9.95\n",
            "lr 0.000925040374472112 \t batch size 32 \t epochs 30\n",
            "[1] | train accuracy  9.74 | validation accuracy  9.98\n",
            "[2] | train accuracy  9.84 | validation accuracy  9.98\n",
            "[3] | train accuracy  9.76 | validation accuracy  9.98\n",
            "[4] | train accuracy  9.80 | validation accuracy  9.98\n"
          ],
          "name": "stdout"
        },
        {
          "output_type": "stream",
          "text": [
            "\u001b[32m[I 2021-02-02 10:22:46,307]\u001b[0m Trial 9 pruned. \u001b[0m\n"
          ],
          "name": "stderr"
        },
        {
          "output_type": "stream",
          "text": [
            "[5] | train accuracy  9.78 | validation accuracy  9.98\n",
            "lr 0.00023826096217880745 \t batch size 16 \t epochs 30\n",
            "[1] | train accuracy 33.95 | validation accuracy 45.38\n",
            "[2] | train accuracy 50.62 | validation accuracy 55.26\n",
            "[3] | train accuracy 58.24 | validation accuracy 58.27\n",
            "[4] | train accuracy 62.83 | validation accuracy 64.92\n",
            "[5] | train accuracy 66.29 | validation accuracy 65.84\n",
            "[6] | train accuracy 69.45 | validation accuracy 68.13\n",
            "[7] | train accuracy 72.27 | validation accuracy 68.25\n"
          ],
          "name": "stdout"
        },
        {
          "output_type": "stream",
          "text": [
            "\u001b[32m[I 2021-02-02 10:30:38,227]\u001b[0m Trial 10 pruned. \u001b[0m\n"
          ],
          "name": "stderr"
        },
        {
          "output_type": "stream",
          "text": [
            "[8] | train accuracy 74.60 | validation accuracy 68.95\n",
            "lr 0.00020793904456999155 \t batch size 16 \t epochs 30\n",
            "[1] | train accuracy 34.64 | validation accuracy 45.44\n",
            "[2] | train accuracy 50.78 | validation accuracy 53.82\n",
            "[3] | train accuracy 58.83 | validation accuracy 61.22\n",
            "[4] | train accuracy 63.59 | validation accuracy 64.41\n",
            "[5] | train accuracy 67.33 | validation accuracy 65.58\n",
            "[6] | train accuracy 70.37 | validation accuracy 67.19\n"
          ],
          "name": "stdout"
        },
        {
          "output_type": "stream",
          "text": [
            "\u001b[32m[I 2021-02-02 10:37:32,002]\u001b[0m Trial 11 pruned. \u001b[0m\n"
          ],
          "name": "stderr"
        },
        {
          "output_type": "stream",
          "text": [
            "[7] | train accuracy 73.06 | validation accuracy 66.97\n",
            "lr 0.00018065072271068912 \t batch size 16 \t epochs 30\n",
            "[1] | train accuracy 33.01 | validation accuracy 46.92\n",
            "[2] | train accuracy 50.33 | validation accuracy 53.85\n",
            "[3] | train accuracy 58.38 | validation accuracy 60.21\n",
            "[4] | train accuracy 63.45 | validation accuracy 63.69\n",
            "[5] | train accuracy 67.68 | validation accuracy 64.86\n",
            "[6] | train accuracy 71.03 | validation accuracy 67.13\n",
            "[7] | train accuracy 74.27 | validation accuracy 70.49\n"
          ],
          "name": "stdout"
        },
        {
          "output_type": "stream",
          "text": [
            "\u001b[32m[I 2021-02-02 10:45:23,333]\u001b[0m Trial 12 pruned. \u001b[0m\n"
          ],
          "name": "stderr"
        },
        {
          "output_type": "stream",
          "text": [
            "[8] | train accuracy 76.87 | validation accuracy 70.40\n",
            "lr 0.004960835502624373 \t batch size 64 \t epochs 30\n",
            "[1] | train accuracy  9.95 | validation accuracy  9.95\n",
            "[2] | train accuracy  9.80 | validation accuracy  9.94\n",
            "[3] | train accuracy  9.90 | validation accuracy  9.95\n",
            "[4] | train accuracy  9.87 | validation accuracy  9.94\n"
          ],
          "name": "stdout"
        },
        {
          "output_type": "stream",
          "text": [
            "\u001b[32m[I 2021-02-02 10:47:56,034]\u001b[0m Trial 13 pruned. \u001b[0m\n"
          ],
          "name": "stderr"
        },
        {
          "output_type": "stream",
          "text": [
            "[5] | train accuracy 10.06 | validation accuracy  9.95\n",
            "lr 0.0014296763822039223 \t batch size 16 \t epochs 30\n",
            "[1] | train accuracy  9.91 | validation accuracy 10.00\n",
            "[2] | train accuracy  9.95 | validation accuracy 10.00\n",
            "[3] | train accuracy  9.64 | validation accuracy 10.00\n",
            "[4] | train accuracy 10.03 | validation accuracy 10.00\n"
          ],
          "name": "stdout"
        },
        {
          "output_type": "stream",
          "text": [
            "\u001b[32m[I 2021-02-02 10:52:47,260]\u001b[0m Trial 14 pruned. \u001b[0m\n"
          ],
          "name": "stderr"
        },
        {
          "output_type": "stream",
          "text": [
            "[5] | train accuracy  9.88 | validation accuracy 10.00\n",
            "lr 0.00022143026797594756 \t batch size 16 \t epochs 30\n",
            "[1] | train accuracy 34.91 | validation accuracy 46.96\n",
            "[2] | train accuracy 50.95 | validation accuracy 54.41\n",
            "[3] | train accuracy 58.68 | validation accuracy 61.39\n",
            "[4] | train accuracy 63.66 | validation accuracy 64.76\n",
            "[5] | train accuracy 67.35 | validation accuracy 63.11\n",
            "[6] | train accuracy 70.65 | validation accuracy 68.22\n"
          ],
          "name": "stdout"
        },
        {
          "output_type": "stream",
          "text": [
            "\u001b[32m[I 2021-02-02 10:59:39,933]\u001b[0m Trial 15 pruned. \u001b[0m\n"
          ],
          "name": "stderr"
        },
        {
          "output_type": "stream",
          "text": [
            "[7] | train accuracy 73.35 | validation accuracy 69.88\n",
            "lr 0.0013517004150047408 \t batch size 16 \t epochs 30\n",
            "[1] | train accuracy 10.09 | validation accuracy 10.00\n",
            "[2] | train accuracy  9.81 | validation accuracy 10.00\n",
            "[3] | train accuracy  9.95 | validation accuracy 10.00\n",
            "[4] | train accuracy  9.71 | validation accuracy 10.00\n"
          ],
          "name": "stdout"
        },
        {
          "output_type": "stream",
          "text": [
            "\u001b[32m[I 2021-02-02 11:04:30,712]\u001b[0m Trial 16 pruned. \u001b[0m\n"
          ],
          "name": "stderr"
        },
        {
          "output_type": "stream",
          "text": [
            "[5] | train accuracy  9.67 | validation accuracy 10.00\n",
            "lr 0.00013985908861295073 \t batch size 64 \t epochs 30\n",
            "[1] | train accuracy 30.66 | validation accuracy 40.31\n",
            "[2] | train accuracy 45.09 | validation accuracy 38.36\n",
            "[3] | train accuracy 52.38 | validation accuracy 46.88\n",
            "[4] | train accuracy 57.38 | validation accuracy 56.50\n",
            "[5] | train accuracy 61.01 | validation accuracy 55.24\n",
            "[6] | train accuracy 64.03 | validation accuracy 61.85\n",
            "[7] | train accuracy 66.33 | validation accuracy 61.56\n"
          ],
          "name": "stdout"
        },
        {
          "output_type": "stream",
          "text": [
            "\u001b[32m[I 2021-02-02 11:08:42,858]\u001b[0m Trial 17 pruned. \u001b[0m\n"
          ],
          "name": "stderr"
        },
        {
          "output_type": "stream",
          "text": [
            "[8] | train accuracy 68.26 | validation accuracy 62.96\n",
            "lr 0.0036795076617962275 \t batch size 16 \t epochs 30\n",
            "[1] | train accuracy  9.84 | validation accuracy 10.00\n",
            "[2] | train accuracy 10.02 | validation accuracy 10.00\n",
            "[3] | train accuracy  9.82 | validation accuracy 10.00\n",
            "[4] | train accuracy  9.71 | validation accuracy 10.00\n"
          ],
          "name": "stdout"
        },
        {
          "output_type": "stream",
          "text": [
            "\u001b[32m[I 2021-02-02 11:13:34,527]\u001b[0m Trial 18 pruned. \u001b[0m\n"
          ],
          "name": "stderr"
        },
        {
          "output_type": "stream",
          "text": [
            "[5] | train accuracy 10.00 | validation accuracy 10.00\n",
            "lr 0.001394656906624271 \t batch size 16 \t epochs 30\n",
            "[1] | train accuracy 24.32 | validation accuracy 33.52\n",
            "[2] | train accuracy 35.62 | validation accuracy 39.79\n",
            "[3] | train accuracy 40.40 | validation accuracy 37.04\n",
            "[4] | train accuracy 42.73 | validation accuracy 46.44\n",
            "[5] | train accuracy 45.05 | validation accuracy 46.60\n",
            "[6] | train accuracy 46.77 | validation accuracy 46.80\n",
            "[7] | train accuracy 48.09 | validation accuracy 46.10\n"
          ],
          "name": "stdout"
        },
        {
          "output_type": "stream",
          "text": [
            "\u001b[32m[I 2021-02-02 11:21:23,996]\u001b[0m Trial 19 pruned. \u001b[0m\n"
          ],
          "name": "stderr"
        },
        {
          "output_type": "stream",
          "text": [
            "[8] | train accuracy 48.80 | validation accuracy 47.91\n",
            "lr 0.0015495611037441655 \t batch size 16 \t epochs 50\n",
            "[1] | train accuracy 19.99 | validation accuracy 27.36\n",
            "[2] | train accuracy 31.10 | validation accuracy 36.22\n",
            "[3] | train accuracy 38.70 | validation accuracy 40.72\n",
            "[4] | train accuracy 41.31 | validation accuracy 43.46\n",
            "[5] | train accuracy 43.34 | validation accuracy 44.34\n"
          ],
          "name": "stdout"
        },
        {
          "output_type": "stream",
          "text": [
            "\u001b[32m[I 2021-02-02 11:27:15,965]\u001b[0m Trial 20 pruned. \u001b[0m\n"
          ],
          "name": "stderr"
        },
        {
          "output_type": "stream",
          "text": [
            "[6] | train accuracy 44.13 | validation accuracy 43.26\n",
            "lr 0.0005448110569332627 \t batch size 16 \t epochs 30\n",
            "[1] | train accuracy 31.41 | validation accuracy 42.64\n",
            "[2] | train accuracy 45.51 | validation accuracy 48.86\n",
            "[3] | train accuracy 53.03 | validation accuracy 53.19\n",
            "[4] | train accuracy 58.00 | validation accuracy 59.44\n",
            "[5] | train accuracy 61.38 | validation accuracy 61.24\n",
            "[6] | train accuracy 64.76 | validation accuracy 59.28\n",
            "[7] | train accuracy 66.60 | validation accuracy 63.27\n"
          ],
          "name": "stdout"
        },
        {
          "output_type": "stream",
          "text": [
            "\u001b[32m[I 2021-02-02 11:35:05,819]\u001b[0m Trial 21 pruned. \u001b[0m\n"
          ],
          "name": "stderr"
        },
        {
          "output_type": "stream",
          "text": [
            "[8] | train accuracy 68.07 | validation accuracy 62.83\n",
            "lr 0.0006562045824466661 \t batch size 16 \t epochs 30\n",
            "[1] | train accuracy 32.14 | validation accuracy 40.38\n",
            "[2] | train accuracy 44.79 | validation accuracy 48.73\n",
            "[3] | train accuracy 51.77 | validation accuracy 53.59\n",
            "[4] | train accuracy 56.70 | validation accuracy 57.98\n",
            "[5] | train accuracy 60.12 | validation accuracy 58.45\n",
            "[6] | train accuracy 61.81 | validation accuracy 61.23\n"
          ],
          "name": "stdout"
        },
        {
          "output_type": "stream",
          "text": [
            "\u001b[32m[I 2021-02-02 11:41:57,720]\u001b[0m Trial 22 pruned. \u001b[0m\n"
          ],
          "name": "stderr"
        },
        {
          "output_type": "stream",
          "text": [
            "[7] | train accuracy 63.56 | validation accuracy 60.20\n",
            "lr 0.0011295439929121086 \t batch size 16 \t epochs 30\n",
            "[1] | train accuracy 25.22 | validation accuracy 36.13\n",
            "[2] | train accuracy 37.46 | validation accuracy 40.57\n",
            "[3] | train accuracy 42.55 | validation accuracy 41.90\n",
            "[4] | train accuracy 46.23 | validation accuracy 47.61\n",
            "[5] | train accuracy 48.92 | validation accuracy 49.37\n",
            "[6] | train accuracy 50.61 | validation accuracy 49.12\n",
            "[7] | train accuracy 51.85 | validation accuracy 51.21\n"
          ],
          "name": "stdout"
        },
        {
          "output_type": "stream",
          "text": [
            "\u001b[32m[I 2021-02-02 11:49:48,782]\u001b[0m Trial 23 pruned. \u001b[0m\n"
          ],
          "name": "stderr"
        },
        {
          "output_type": "stream",
          "text": [
            "[8] | train accuracy 53.38 | validation accuracy 54.58\n",
            "lr 0.0019592331022821423 \t batch size 16 \t epochs 30\n",
            "[1] | train accuracy 17.51 | validation accuracy 20.72\n",
            "[2] | train accuracy 24.97 | validation accuracy 28.01\n",
            "[3] | train accuracy 28.15 | validation accuracy 30.72\n",
            "[4] | train accuracy 30.80 | validation accuracy 29.99\n",
            "[5] | train accuracy 31.97 | validation accuracy 34.43\n"
          ],
          "name": "stdout"
        },
        {
          "output_type": "stream",
          "text": [
            "\u001b[32m[I 2021-02-02 11:55:40,217]\u001b[0m Trial 24 pruned. \u001b[0m\n"
          ],
          "name": "stderr"
        },
        {
          "output_type": "stream",
          "text": [
            "[6] | train accuracy 33.77 | validation accuracy 35.23\n",
            "lr 0.0004428086946731797 \t batch size 16 \t epochs 70\n",
            "[1] | train accuracy 31.66 | validation accuracy 41.54\n",
            "[2] | train accuracy 48.81 | validation accuracy 48.26\n",
            "[3] | train accuracy 56.61 | validation accuracy 59.03\n",
            "[4] | train accuracy 61.44 | validation accuracy 62.57\n",
            "[5] | train accuracy 64.80 | validation accuracy 63.16\n",
            "[6] | train accuracy 67.33 | validation accuracy 65.09\n"
          ],
          "name": "stdout"
        },
        {
          "output_type": "stream",
          "text": [
            "\u001b[32m[I 2021-02-02 12:02:31,077]\u001b[0m Trial 25 pruned. \u001b[0m\n"
          ],
          "name": "stderr"
        },
        {
          "output_type": "stream",
          "text": [
            "[7] | train accuracy 69.42 | validation accuracy 65.87\n",
            "lr 0.001643071450964645 \t batch size 64 \t epochs 30\n",
            "[1] | train accuracy 19.72 | validation accuracy 16.28\n",
            "[2] | train accuracy 27.33 | validation accuracy 25.59\n",
            "[3] | train accuracy 30.73 | validation accuracy 31.45\n",
            "[4] | train accuracy 37.06 | validation accuracy 34.03\n",
            "[5] | train accuracy 42.11 | validation accuracy 37.38\n",
            "[6] | train accuracy 46.07 | validation accuracy 42.87\n",
            "[7] | train accuracy 48.91 | validation accuracy 46.04\n",
            "[8] | train accuracy 51.57 | validation accuracy 44.30\n",
            "[9] | train accuracy 54.11 | validation accuracy 47.66\n"
          ],
          "name": "stdout"
        },
        {
          "output_type": "stream",
          "text": [
            "\u001b[32m[I 2021-02-02 12:07:39,407]\u001b[0m Trial 26 pruned. \u001b[0m\n"
          ],
          "name": "stderr"
        },
        {
          "output_type": "stream",
          "text": [
            "[10] | train accuracy 56.01 | validation accuracy 49.30\n",
            "lr 0.0016167966418189183 \t batch size 64 \t epochs 30\n",
            "[1] | train accuracy 20.80 | validation accuracy 27.36\n",
            "[2] | train accuracy 29.61 | validation accuracy 27.47\n",
            "[3] | train accuracy 29.67 | validation accuracy 31.63\n",
            "[4] | train accuracy 37.86 | validation accuracy 36.53\n",
            "[5] | train accuracy 43.26 | validation accuracy 41.74\n",
            "[6] | train accuracy 47.17 | validation accuracy 45.58\n",
            "[7] | train accuracy 50.40 | validation accuracy 49.15\n",
            "[8] | train accuracy 53.05 | validation accuracy 51.10\n",
            "[9] | train accuracy 55.49 | validation accuracy 50.17\n"
          ],
          "name": "stdout"
        },
        {
          "output_type": "stream",
          "text": [
            "\u001b[32m[I 2021-02-02 12:12:48,724]\u001b[0m Trial 27 pruned. \u001b[0m\n"
          ],
          "name": "stderr"
        },
        {
          "output_type": "stream",
          "text": [
            "[10] | train accuracy 57.90 | validation accuracy 51.74\n",
            "lr 0.0018061943462559914 \t batch size 64 \t epochs 30\n",
            "[1] | train accuracy 22.97 | validation accuracy 31.92\n",
            "[2] | train accuracy 32.97 | validation accuracy 33.84\n",
            "[3] | train accuracy 39.10 | validation accuracy 36.33\n",
            "[4] | train accuracy 43.95 | validation accuracy 41.49\n",
            "[5] | train accuracy 48.73 | validation accuracy 47.18\n",
            "[6] | train accuracy 53.02 | validation accuracy 49.25\n",
            "[7] | train accuracy 56.36 | validation accuracy 51.55\n",
            "[8] | train accuracy 59.13 | validation accuracy 54.00\n"
          ],
          "name": "stdout"
        },
        {
          "output_type": "stream",
          "text": [
            "\u001b[32m[I 2021-02-02 12:17:27,819]\u001b[0m Trial 28 pruned. \u001b[0m\n"
          ],
          "name": "stderr"
        },
        {
          "output_type": "stream",
          "text": [
            "[9] | train accuracy 62.01 | validation accuracy 50.38\n",
            "lr 0.0018116102086662637 \t batch size 64 \t epochs 30\n",
            "[1] | train accuracy 10.10 | validation accuracy  9.95\n",
            "[2] | train accuracy  9.88 | validation accuracy  9.95\n",
            "[3] | train accuracy  9.96 | validation accuracy  9.95\n",
            "[4] | train accuracy  9.79 | validation accuracy  9.95\n"
          ],
          "name": "stdout"
        },
        {
          "output_type": "stream",
          "text": [
            "\u001b[32m[I 2021-02-02 12:20:01,836]\u001b[0m Trial 29 pruned. \u001b[0m\n"
          ],
          "name": "stderr"
        },
        {
          "output_type": "stream",
          "text": [
            "[5] | train accuracy 10.02 | validation accuracy  9.95\n",
            "lr 0.003340340334769762 \t batch size 64 \t epochs 30\n",
            "[1] | train accuracy  9.88 | validation accuracy  9.95\n",
            "[2] | train accuracy 10.10 | validation accuracy  9.95\n",
            "[3] | train accuracy  9.58 | validation accuracy  9.95\n",
            "[4] | train accuracy  9.96 | validation accuracy  9.95\n"
          ],
          "name": "stdout"
        },
        {
          "output_type": "stream",
          "text": [
            "\u001b[32m[I 2021-02-02 12:22:35,535]\u001b[0m Trial 30 pruned. \u001b[0m\n"
          ],
          "name": "stderr"
        },
        {
          "output_type": "stream",
          "text": [
            "[5] | train accuracy  9.80 | validation accuracy  9.95\n",
            "lr 0.0022990403703968985 \t batch size 64 \t epochs 30\n",
            "[1] | train accuracy  9.95 | validation accuracy  9.95\n",
            "[2] | train accuracy  9.68 | validation accuracy  9.95\n",
            "[3] | train accuracy  9.77 | validation accuracy  9.95\n",
            "[4] | train accuracy  9.72 | validation accuracy  9.95\n"
          ],
          "name": "stdout"
        },
        {
          "output_type": "stream",
          "text": [
            "\u001b[32m[I 2021-02-02 12:25:14,249]\u001b[0m Trial 31 pruned. \u001b[0m\n"
          ],
          "name": "stderr"
        },
        {
          "output_type": "stream",
          "text": [
            "[5] | train accuracy  9.72 | validation accuracy  9.95\n",
            "lr 0.0016727502724822683 \t batch size 64 \t epochs 30\n",
            "[1] | train accuracy 18.70 | validation accuracy 23.83\n",
            "[2] | train accuracy 27.69 | validation accuracy 28.60\n",
            "[3] | train accuracy 31.83 | validation accuracy 21.74\n",
            "[4] | train accuracy 36.53 | validation accuracy 31.24\n",
            "[5] | train accuracy 40.37 | validation accuracy 35.58\n",
            "[6] | train accuracy 43.76 | validation accuracy 43.80\n",
            "[7] | train accuracy 46.71 | validation accuracy 41.38\n",
            "[8] | train accuracy 49.40 | validation accuracy 47.94\n",
            "[9] | train accuracy 51.40 | validation accuracy 51.94\n",
            "[10] | train accuracy 53.08 | validation accuracy 50.70\n",
            "[11] | train accuracy 54.77 | validation accuracy 50.59\n"
          ],
          "name": "stdout"
        },
        {
          "output_type": "stream",
          "text": [
            "\u001b[32m[I 2021-02-02 12:31:26,224]\u001b[0m Trial 32 pruned. \u001b[0m\n"
          ],
          "name": "stderr"
        },
        {
          "output_type": "stream",
          "text": [
            "[12] | train accuracy 56.26 | validation accuracy 53.46\n",
            "lr 0.0016248868724979793 \t batch size 64 \t epochs 30\n",
            "[1] | train accuracy 17.65 | validation accuracy 26.20\n",
            "[2] | train accuracy 30.05 | validation accuracy 25.14\n",
            "[3] | train accuracy 36.56 | validation accuracy 39.15\n",
            "[4] | train accuracy 42.14 | validation accuracy 35.50\n",
            "[5] | train accuracy 45.61 | validation accuracy 45.35\n",
            "[6] | train accuracy 48.93 | validation accuracy 47.06\n",
            "[7] | train accuracy 52.16 | validation accuracy 47.22\n",
            "[8] | train accuracy 54.99 | validation accuracy 50.75\n",
            "[9] | train accuracy 57.06 | validation accuracy 54.29\n",
            "[10] | train accuracy 58.89 | validation accuracy 54.92\n"
          ],
          "name": "stdout"
        },
        {
          "output_type": "stream",
          "text": [
            "\u001b[32m[I 2021-02-02 12:37:06,260]\u001b[0m Trial 33 pruned. \u001b[0m\n"
          ],
          "name": "stderr"
        },
        {
          "output_type": "stream",
          "text": [
            "[11] | train accuracy 60.87 | validation accuracy 53.84\n",
            "lr 0.001097950240915968 \t batch size 64 \t epochs 50\n",
            "[1] | train accuracy 26.48 | validation accuracy 31.57\n",
            "[2] | train accuracy 37.53 | validation accuracy 38.11\n",
            "[3] | train accuracy 43.12 | validation accuracy 42.60\n",
            "[4] | train accuracy 48.06 | validation accuracy 47.03\n",
            "[5] | train accuracy 52.56 | validation accuracy 54.33\n",
            "[6] | train accuracy 56.21 | validation accuracy 54.62\n",
            "[7] | train accuracy 59.39 | validation accuracy 54.17\n"
          ],
          "name": "stdout"
        },
        {
          "output_type": "stream",
          "text": [
            "\u001b[32m[I 2021-02-02 12:41:14,363]\u001b[0m Trial 34 pruned. \u001b[0m\n"
          ],
          "name": "stderr"
        },
        {
          "output_type": "stream",
          "text": [
            "[8] | train accuracy 62.15 | validation accuracy 55.67\n",
            "lr 0.0022918954304469025 \t batch size 64 \t epochs 30\n",
            "[1] | train accuracy  9.93 | validation accuracy  9.95\n",
            "[2] | train accuracy  9.85 | validation accuracy  9.95\n",
            "[3] | train accuracy  9.66 | validation accuracy  9.95\n",
            "[4] | train accuracy  9.75 | validation accuracy  9.95\n"
          ],
          "name": "stdout"
        },
        {
          "output_type": "stream",
          "text": [
            "\u001b[32m[I 2021-02-02 12:43:48,141]\u001b[0m Trial 35 pruned. \u001b[0m\n"
          ],
          "name": "stderr"
        },
        {
          "output_type": "stream",
          "text": [
            "[5] | train accuracy 10.00 | validation accuracy  9.95\n",
            "lr 0.0030083001404905747 \t batch size 64 \t epochs 70\n",
            "[1] | train accuracy  9.96 | validation accuracy  9.95\n",
            "[2] | train accuracy  9.85 | validation accuracy  9.95\n",
            "[3] | train accuracy  9.95 | validation accuracy  9.95\n",
            "[4] | train accuracy  9.90 | validation accuracy  9.95\n"
          ],
          "name": "stdout"
        },
        {
          "output_type": "stream",
          "text": [
            "\u001b[32m[I 2021-02-02 12:46:21,498]\u001b[0m Trial 36 pruned. \u001b[0m\n"
          ],
          "name": "stderr"
        },
        {
          "output_type": "stream",
          "text": [
            "[5] | train accuracy 10.05 | validation accuracy  9.95\n",
            "lr 0.001673064636722233 \t batch size 64 \t epochs 30\n",
            "[1] | train accuracy 14.60 | validation accuracy 19.90\n",
            "[2] | train accuracy 28.85 | validation accuracy 24.71\n",
            "[3] | train accuracy 37.20 | validation accuracy 38.31\n",
            "[4] | train accuracy 42.12 | validation accuracy 41.89\n",
            "[5] | train accuracy 46.07 | validation accuracy 47.02\n",
            "[6] | train accuracy 49.90 | validation accuracy 48.10\n",
            "[7] | train accuracy 52.67 | validation accuracy 45.44\n"
          ],
          "name": "stdout"
        },
        {
          "output_type": "stream",
          "text": [
            "\u001b[32m[I 2021-02-02 12:50:28,393]\u001b[0m Trial 37 pruned. \u001b[0m\n"
          ],
          "name": "stderr"
        },
        {
          "output_type": "stream",
          "text": [
            "[8] | train accuracy 55.81 | validation accuracy 41.14\n",
            "lr 0.002072313774975747 \t batch size 64 \t epochs 50\n",
            "[1] | train accuracy 19.66 | validation accuracy 16.42\n",
            "[2] | train accuracy 29.85 | validation accuracy 31.65\n",
            "[3] | train accuracy 34.34 | validation accuracy 37.90\n",
            "[4] | train accuracy 37.46 | validation accuracy 37.30\n",
            "[5] | train accuracy 42.10 | validation accuracy 42.47\n",
            "[6] | train accuracy 44.75 | validation accuracy 38.29\n",
            "[7] | train accuracy 48.07 | validation accuracy 46.61\n",
            "[8] | train accuracy 50.37 | validation accuracy 47.36\n",
            "[9] | train accuracy 52.39 | validation accuracy 45.42\n",
            "[10] | train accuracy 54.51 | validation accuracy 43.83\n"
          ],
          "name": "stdout"
        },
        {
          "output_type": "stream",
          "text": [
            "\u001b[32m[I 2021-02-02 12:56:07,967]\u001b[0m Trial 38 pruned. \u001b[0m\n"
          ],
          "name": "stderr"
        },
        {
          "output_type": "stream",
          "text": [
            "[11] | train accuracy 56.02 | validation accuracy 52.83\n",
            "lr 0.002154807463414705 \t batch size 64 \t epochs 50\n",
            "[1] | train accuracy 17.57 | validation accuracy 25.67\n",
            "[2] | train accuracy 29.68 | validation accuracy 30.34\n",
            "[3] | train accuracy 35.23 | validation accuracy 32.87\n",
            "[4] | train accuracy 38.35 | validation accuracy 35.95\n",
            "[5] | train accuracy 41.43 | validation accuracy 33.16\n"
          ],
          "name": "stdout"
        },
        {
          "output_type": "stream",
          "text": [
            "\u001b[32m[I 2021-02-02 12:59:13,328]\u001b[0m Trial 39 pruned. \u001b[0m\n"
          ],
          "name": "stderr"
        },
        {
          "output_type": "stream",
          "text": [
            "[6] | train accuracy 44.44 | validation accuracy 39.29\n",
            "lr 0.00248374048429827 \t batch size 64 \t epochs 50\n",
            "[1] | train accuracy  9.92 | validation accuracy  9.95\n",
            "[2] | train accuracy 10.05 | validation accuracy  9.95\n",
            "[3] | train accuracy  9.78 | validation accuracy  9.95\n",
            "[4] | train accuracy  9.81 | validation accuracy  9.95\n"
          ],
          "name": "stdout"
        },
        {
          "output_type": "stream",
          "text": [
            "\u001b[32m[I 2021-02-02 13:01:46,498]\u001b[0m Trial 40 pruned. \u001b[0m\n"
          ],
          "name": "stderr"
        },
        {
          "output_type": "stream",
          "text": [
            "[5] | train accuracy  9.73 | validation accuracy  9.95\n",
            "lr 0.0011636156193920294 \t batch size 64 \t epochs 50\n",
            "[1] | train accuracy 15.72 | validation accuracy 25.21\n",
            "[2] | train accuracy 29.69 | validation accuracy 32.61\n",
            "[3] | train accuracy 37.91 | validation accuracy 42.73\n",
            "[4] | train accuracy 44.35 | validation accuracy 38.22\n",
            "[5] | train accuracy 49.00 | validation accuracy 42.57\n",
            "[6] | train accuracy 53.09 | validation accuracy 52.46\n",
            "[7] | train accuracy 56.69 | validation accuracy 49.05\n",
            "[8] | train accuracy 60.07 | validation accuracy 53.87\n",
            "[9] | train accuracy 63.14 | validation accuracy 53.59\n"
          ],
          "name": "stdout"
        },
        {
          "output_type": "stream",
          "text": [
            "\u001b[32m[I 2021-02-02 13:06:56,078]\u001b[0m Trial 41 pruned. \u001b[0m\n"
          ],
          "name": "stderr"
        },
        {
          "output_type": "stream",
          "text": [
            "[10] | train accuracy 66.40 | validation accuracy 58.10\n",
            "lr 0.0019490047392119974 \t batch size 64 \t epochs 50\n",
            "[1] | train accuracy 13.69 | validation accuracy 22.95\n",
            "[2] | train accuracy 23.92 | validation accuracy 26.60\n",
            "[3] | train accuracy 27.60 | validation accuracy 26.60\n",
            "[4] | train accuracy 31.86 | validation accuracy 27.74\n",
            "[5] | train accuracy 36.89 | validation accuracy 38.74\n",
            "[6] | train accuracy 40.63 | validation accuracy 36.17\n",
            "[7] | train accuracy 43.28 | validation accuracy 37.14\n",
            "[8] | train accuracy 46.33 | validation accuracy 47.05\n",
            "[9] | train accuracy 49.06 | validation accuracy 45.43\n",
            "[10] | train accuracy 51.31 | validation accuracy 47.73\n",
            "[11] | train accuracy 53.60 | validation accuracy 48.84\n"
          ],
          "name": "stdout"
        },
        {
          "output_type": "stream",
          "text": [
            "\u001b[32m[I 2021-02-02 13:13:06,325]\u001b[0m Trial 42 pruned. \u001b[0m\n"
          ],
          "name": "stderr"
        },
        {
          "output_type": "stream",
          "text": [
            "[12] | train accuracy 55.82 | validation accuracy 45.64\n",
            "lr 0.002045992267017997 \t batch size 64 \t epochs 50\n",
            "[1] | train accuracy  9.98 | validation accuracy  9.95\n",
            "[2] | train accuracy  9.80 | validation accuracy  9.95\n",
            "[3] | train accuracy  9.79 | validation accuracy  9.95\n",
            "[4] | train accuracy  9.84 | validation accuracy  9.95\n"
          ],
          "name": "stdout"
        },
        {
          "output_type": "stream",
          "text": [
            "\u001b[32m[I 2021-02-02 13:15:40,482]\u001b[0m Trial 43 pruned. \u001b[0m\n"
          ],
          "name": "stderr"
        },
        {
          "output_type": "stream",
          "text": [
            "[5] | train accuracy  9.99 | validation accuracy  9.95\n",
            "lr 0.0029062490959400116 \t batch size 64 \t epochs 50\n",
            "[1] | train accuracy 11.55 | validation accuracy 14.08\n",
            "[2] | train accuracy 13.78 | validation accuracy 15.33\n",
            "[3] | train accuracy 18.21 | validation accuracy 10.12\n",
            "[4] | train accuracy  9.98 | validation accuracy  9.95\n"
          ],
          "name": "stdout"
        },
        {
          "output_type": "stream",
          "text": [
            "\u001b[32m[I 2021-02-02 13:18:15,898]\u001b[0m Trial 44 pruned. \u001b[0m\n"
          ],
          "name": "stderr"
        },
        {
          "output_type": "stream",
          "text": [
            "[5] | train accuracy  9.73 | validation accuracy  9.95\n",
            "lr 0.002512533943863177 \t batch size 64 \t epochs 50\n",
            "[1] | train accuracy 16.20 | validation accuracy 21.95\n",
            "[2] | train accuracy 23.40 | validation accuracy 23.16\n",
            "[3] | train accuracy 28.62 | validation accuracy 33.76\n",
            "[4] | train accuracy 32.77 | validation accuracy 32.37\n",
            "[5] | train accuracy 36.54 | validation accuracy 36.66\n",
            "[6] | train accuracy 39.35 | validation accuracy 40.19\n",
            "[7] | train accuracy 41.86 | validation accuracy 40.03\n",
            "[8] | train accuracy 43.89 | validation accuracy 41.62\n"
          ],
          "name": "stdout"
        },
        {
          "output_type": "stream",
          "text": [
            "\u001b[32m[I 2021-02-02 13:22:56,965]\u001b[0m Trial 45 pruned. \u001b[0m\n"
          ],
          "name": "stderr"
        },
        {
          "output_type": "stream",
          "text": [
            "[9] | train accuracy 44.09 | validation accuracy 45.75\n",
            "lr 0.0008929066009348266 \t batch size 32 \t epochs 50\n",
            "[1] | train accuracy 28.80 | validation accuracy 38.42\n",
            "[2] | train accuracy 42.49 | validation accuracy 45.29\n",
            "[3] | train accuracy 49.86 | validation accuracy 51.02\n",
            "[4] | train accuracy 55.27 | validation accuracy 48.70\n",
            "[5] | train accuracy 58.70 | validation accuracy 57.70\n",
            "[6] | train accuracy 61.46 | validation accuracy 59.19\n",
            "[7] | train accuracy 63.60 | validation accuracy 60.74\n",
            "[8] | train accuracy 65.40 | validation accuracy 59.83\n"
          ],
          "name": "stdout"
        },
        {
          "output_type": "stream",
          "text": [
            "\u001b[32m[I 2021-02-02 13:28:51,690]\u001b[0m Trial 46 pruned. \u001b[0m\n"
          ],
          "name": "stderr"
        },
        {
          "output_type": "stream",
          "text": [
            "[9] | train accuracy 66.94 | validation accuracy 62.10\n",
            "lr 0.0018146892131125818 \t batch size 64 \t epochs 50\n",
            "[1] | train accuracy  9.99 | validation accuracy  9.95\n",
            "[2] | train accuracy  9.99 | validation accuracy  9.95\n",
            "[3] | train accuracy  9.99 | validation accuracy  9.95\n",
            "[4] | train accuracy  9.67 | validation accuracy  9.95\n"
          ],
          "name": "stdout"
        },
        {
          "output_type": "stream",
          "text": [
            "\u001b[32m[I 2021-02-02 13:31:25,771]\u001b[0m Trial 47 pruned. \u001b[0m\n"
          ],
          "name": "stderr"
        },
        {
          "output_type": "stream",
          "text": [
            "[5] | train accuracy  9.61 | validation accuracy  9.95\n",
            "lr 0.00266683661870935 \t batch size 64 \t epochs 70\n",
            "[1] | train accuracy 20.44 | validation accuracy 25.05\n",
            "[2] | train accuracy 18.23 | validation accuracy  9.95\n",
            "[3] | train accuracy  9.88 | validation accuracy  9.95\n",
            "[4] | train accuracy  9.74 | validation accuracy  9.95\n",
            "[5] | train accuracy  9.80 | validation accuracy  9.95\n"
          ],
          "name": "stdout"
        },
        {
          "output_type": "stream",
          "text": [
            "\u001b[32m[I 2021-02-02 13:34:31,307]\u001b[0m Trial 48 pruned. \u001b[0m\n"
          ],
          "name": "stderr"
        },
        {
          "output_type": "stream",
          "text": [
            "[6] | train accuracy  9.96 | validation accuracy  9.95\n",
            "lr 0.0019109806809108959 \t batch size 64 \t epochs 50\n",
            "[1] | train accuracy  9.89 | validation accuracy  9.95\n",
            "[2] | train accuracy  9.80 | validation accuracy  9.95\n",
            "[3] | train accuracy  9.93 | validation accuracy  9.95\n",
            "[4] | train accuracy  9.80 | validation accuracy  9.95\n"
          ],
          "name": "stdout"
        },
        {
          "output_type": "stream",
          "text": [
            "\u001b[32m[I 2021-02-02 13:37:05,108]\u001b[0m Trial 49 pruned. \u001b[0m\n"
          ],
          "name": "stderr"
        },
        {
          "output_type": "stream",
          "text": [
            "[5] | train accuracy  9.84 | validation accuracy  9.95\n"
          ],
          "name": "stdout"
        }
      ]
    },
    {
      "cell_type": "code",
      "metadata": {
        "colab": {
          "base_uri": "https://localhost:8080/",
          "height": 1000
        },
        "id": "L6Vaaw0mqsVD",
        "outputId": "3be7670b-3ab4-4e1f-f5e6-6c4f74b5a111"
      },
      "source": [
        "study.trials_dataframe()"
      ],
      "execution_count": 182,
      "outputs": [
        {
          "output_type": "execute_result",
          "data": {
            "text/html": [
              "<div>\n",
              "<style scoped>\n",
              "    .dataframe tbody tr th:only-of-type {\n",
              "        vertical-align: middle;\n",
              "    }\n",
              "\n",
              "    .dataframe tbody tr th {\n",
              "        vertical-align: top;\n",
              "    }\n",
              "\n",
              "    .dataframe thead th {\n",
              "        text-align: right;\n",
              "    }\n",
              "</style>\n",
              "<table border=\"1\" class=\"dataframe\">\n",
              "  <thead>\n",
              "    <tr style=\"text-align: right;\">\n",
              "      <th></th>\n",
              "      <th>number</th>\n",
              "      <th>value</th>\n",
              "      <th>datetime_start</th>\n",
              "      <th>datetime_complete</th>\n",
              "      <th>duration</th>\n",
              "      <th>params_batch_size</th>\n",
              "      <th>params_lr</th>\n",
              "      <th>params_num_epoch</th>\n",
              "      <th>state</th>\n",
              "    </tr>\n",
              "  </thead>\n",
              "  <tbody>\n",
              "    <tr>\n",
              "      <th>0</th>\n",
              "      <td>0</td>\n",
              "      <td>6.383720e-04</td>\n",
              "      <td>2021-02-02 09:40:46.641518</td>\n",
              "      <td>2021-02-02 09:47:42.573412</td>\n",
              "      <td>0 days 00:06:55.931894</td>\n",
              "      <td>16</td>\n",
              "      <td>0.000822</td>\n",
              "      <td>30</td>\n",
              "      <td>PRUNED</td>\n",
              "    </tr>\n",
              "    <tr>\n",
              "      <th>1</th>\n",
              "      <td>1</td>\n",
              "      <td>0.000000e+00</td>\n",
              "      <td>2021-02-02 09:47:42.574333</td>\n",
              "      <td>2021-02-02 09:50:59.855900</td>\n",
              "      <td>0 days 00:03:17.281567</td>\n",
              "      <td>32</td>\n",
              "      <td>0.002795</td>\n",
              "      <td>50</td>\n",
              "      <td>PRUNED</td>\n",
              "    </tr>\n",
              "    <tr>\n",
              "      <th>2</th>\n",
              "      <td>2</td>\n",
              "      <td>0.000000e+00</td>\n",
              "      <td>2021-02-02 09:50:59.856847</td>\n",
              "      <td>2021-02-02 09:56:52.297398</td>\n",
              "      <td>0 days 00:05:52.440551</td>\n",
              "      <td>16</td>\n",
              "      <td>0.002225</td>\n",
              "      <td>30</td>\n",
              "      <td>PRUNED</td>\n",
              "    </tr>\n",
              "    <tr>\n",
              "      <th>3</th>\n",
              "      <td>3</td>\n",
              "      <td>0.000000e+00</td>\n",
              "      <td>2021-02-02 09:56:52.298821</td>\n",
              "      <td>2021-02-02 10:01:44.227261</td>\n",
              "      <td>0 days 00:04:51.928440</td>\n",
              "      <td>16</td>\n",
              "      <td>0.002739</td>\n",
              "      <td>70</td>\n",
              "      <td>PRUNED</td>\n",
              "    </tr>\n",
              "    <tr>\n",
              "      <th>4</th>\n",
              "      <td>4</td>\n",
              "      <td>0.000000e+00</td>\n",
              "      <td>2021-02-02 10:01:44.228838</td>\n",
              "      <td>2021-02-02 10:04:57.608039</td>\n",
              "      <td>0 days 00:03:13.379201</td>\n",
              "      <td>32</td>\n",
              "      <td>0.002807</td>\n",
              "      <td>50</td>\n",
              "      <td>PRUNED</td>\n",
              "    </tr>\n",
              "    <tr>\n",
              "      <th>5</th>\n",
              "      <td>5</td>\n",
              "      <td>0.000000e+00</td>\n",
              "      <td>2021-02-02 10:04:57.609395</td>\n",
              "      <td>2021-02-02 10:08:51.688044</td>\n",
              "      <td>0 days 00:03:54.078649</td>\n",
              "      <td>32</td>\n",
              "      <td>0.002610</td>\n",
              "      <td>70</td>\n",
              "      <td>PRUNED</td>\n",
              "    </tr>\n",
              "    <tr>\n",
              "      <th>6</th>\n",
              "      <td>6</td>\n",
              "      <td>0.000000e+00</td>\n",
              "      <td>2021-02-02 10:08:51.689012</td>\n",
              "      <td>2021-02-02 10:13:45.545729</td>\n",
              "      <td>0 days 00:04:53.856717</td>\n",
              "      <td>16</td>\n",
              "      <td>0.002021</td>\n",
              "      <td>70</td>\n",
              "      <td>PRUNED</td>\n",
              "    </tr>\n",
              "    <tr>\n",
              "      <th>7</th>\n",
              "      <td>7</td>\n",
              "      <td>0.000000e+00</td>\n",
              "      <td>2021-02-02 10:13:45.546596</td>\n",
              "      <td>2021-02-02 10:16:59.508462</td>\n",
              "      <td>0 days 00:03:13.961866</td>\n",
              "      <td>32</td>\n",
              "      <td>0.003743</td>\n",
              "      <td>50</td>\n",
              "      <td>PRUNED</td>\n",
              "    </tr>\n",
              "    <tr>\n",
              "      <th>8</th>\n",
              "      <td>8</td>\n",
              "      <td>0.000000e+00</td>\n",
              "      <td>2021-02-02 10:16:59.509280</td>\n",
              "      <td>2021-02-02 10:19:32.782728</td>\n",
              "      <td>0 days 00:02:33.273448</td>\n",
              "      <td>64</td>\n",
              "      <td>0.000628</td>\n",
              "      <td>30</td>\n",
              "      <td>PRUNED</td>\n",
              "    </tr>\n",
              "    <tr>\n",
              "      <th>9</th>\n",
              "      <td>9</td>\n",
              "      <td>0.000000e+00</td>\n",
              "      <td>2021-02-02 10:19:32.783921</td>\n",
              "      <td>2021-02-02 10:22:46.307482</td>\n",
              "      <td>0 days 00:03:13.523561</td>\n",
              "      <td>32</td>\n",
              "      <td>0.000925</td>\n",
              "      <td>30</td>\n",
              "      <td>PRUNED</td>\n",
              "    </tr>\n",
              "    <tr>\n",
              "      <th>10</th>\n",
              "      <td>10</td>\n",
              "      <td>2.415256e-04</td>\n",
              "      <td>2021-02-02 10:22:46.308800</td>\n",
              "      <td>2021-02-02 10:30:38.227688</td>\n",
              "      <td>0 days 00:07:51.918888</td>\n",
              "      <td>16</td>\n",
              "      <td>0.000238</td>\n",
              "      <td>30</td>\n",
              "      <td>PRUNED</td>\n",
              "    </tr>\n",
              "    <tr>\n",
              "      <th>11</th>\n",
              "      <td>11</td>\n",
              "      <td>4.724504e-04</td>\n",
              "      <td>2021-02-02 10:30:38.228446</td>\n",
              "      <td>2021-02-02 10:37:32.002847</td>\n",
              "      <td>0 days 00:06:53.774401</td>\n",
              "      <td>16</td>\n",
              "      <td>0.000208</td>\n",
              "      <td>30</td>\n",
              "      <td>PRUNED</td>\n",
              "    </tr>\n",
              "    <tr>\n",
              "      <th>12</th>\n",
              "      <td>12</td>\n",
              "      <td>7.759944e-04</td>\n",
              "      <td>2021-02-02 10:37:32.003680</td>\n",
              "      <td>2021-02-02 10:45:23.333029</td>\n",
              "      <td>0 days 00:07:51.329349</td>\n",
              "      <td>16</td>\n",
              "      <td>0.000181</td>\n",
              "      <td>30</td>\n",
              "      <td>PRUNED</td>\n",
              "    </tr>\n",
              "    <tr>\n",
              "      <th>13</th>\n",
              "      <td>13</td>\n",
              "      <td>2.377125e-09</td>\n",
              "      <td>2021-02-02 10:45:23.334194</td>\n",
              "      <td>2021-02-02 10:47:56.034672</td>\n",
              "      <td>0 days 00:02:32.700478</td>\n",
              "      <td>64</td>\n",
              "      <td>0.004961</td>\n",
              "      <td>30</td>\n",
              "      <td>PRUNED</td>\n",
              "    </tr>\n",
              "    <tr>\n",
              "      <th>14</th>\n",
              "      <td>14</td>\n",
              "      <td>0.000000e+00</td>\n",
              "      <td>2021-02-02 10:47:56.035973</td>\n",
              "      <td>2021-02-02 10:52:47.260536</td>\n",
              "      <td>0 days 00:04:51.224563</td>\n",
              "      <td>16</td>\n",
              "      <td>0.001430</td>\n",
              "      <td>30</td>\n",
              "      <td>PRUNED</td>\n",
              "    </tr>\n",
              "    <tr>\n",
              "      <th>15</th>\n",
              "      <td>15</td>\n",
              "      <td>9.946136e-04</td>\n",
              "      <td>2021-02-02 10:52:47.261359</td>\n",
              "      <td>2021-02-02 10:59:39.933346</td>\n",
              "      <td>0 days 00:06:52.671987</td>\n",
              "      <td>16</td>\n",
              "      <td>0.000221</td>\n",
              "      <td>30</td>\n",
              "      <td>PRUNED</td>\n",
              "    </tr>\n",
              "    <tr>\n",
              "      <th>16</th>\n",
              "      <td>16</td>\n",
              "      <td>0.000000e+00</td>\n",
              "      <td>2021-02-02 10:59:39.934675</td>\n",
              "      <td>2021-02-02 11:04:30.712621</td>\n",
              "      <td>0 days 00:04:50.777946</td>\n",
              "      <td>16</td>\n",
              "      <td>0.001352</td>\n",
              "      <td>30</td>\n",
              "      <td>PRUNED</td>\n",
              "    </tr>\n",
              "    <tr>\n",
              "      <th>17</th>\n",
              "      <td>17</td>\n",
              "      <td>9.758533e-04</td>\n",
              "      <td>2021-02-02 11:04:30.713532</td>\n",
              "      <td>2021-02-02 11:08:42.858590</td>\n",
              "      <td>0 days 00:04:12.145058</td>\n",
              "      <td>64</td>\n",
              "      <td>0.000140</td>\n",
              "      <td>30</td>\n",
              "      <td>PRUNED</td>\n",
              "    </tr>\n",
              "    <tr>\n",
              "      <th>18</th>\n",
              "      <td>18</td>\n",
              "      <td>0.000000e+00</td>\n",
              "      <td>2021-02-02 11:08:42.859435</td>\n",
              "      <td>2021-02-02 11:13:34.526930</td>\n",
              "      <td>0 days 00:04:51.667495</td>\n",
              "      <td>16</td>\n",
              "      <td>0.003680</td>\n",
              "      <td>30</td>\n",
              "      <td>PRUNED</td>\n",
              "    </tr>\n",
              "    <tr>\n",
              "      <th>19</th>\n",
              "      <td>19</td>\n",
              "      <td>3.774400e-05</td>\n",
              "      <td>2021-02-02 11:13:34.527909</td>\n",
              "      <td>2021-02-02 11:21:23.996905</td>\n",
              "      <td>0 days 00:07:49.468996</td>\n",
              "      <td>16</td>\n",
              "      <td>0.001395</td>\n",
              "      <td>30</td>\n",
              "      <td>PRUNED</td>\n",
              "    </tr>\n",
              "    <tr>\n",
              "      <th>20</th>\n",
              "      <td>20</td>\n",
              "      <td>8.688320e-04</td>\n",
              "      <td>2021-02-02 11:21:23.998290</td>\n",
              "      <td>2021-02-02 11:27:15.965064</td>\n",
              "      <td>0 days 00:05:51.966774</td>\n",
              "      <td>16</td>\n",
              "      <td>0.001550</td>\n",
              "      <td>50</td>\n",
              "      <td>PRUNED</td>\n",
              "    </tr>\n",
              "    <tr>\n",
              "      <th>21</th>\n",
              "      <td>21</td>\n",
              "      <td>2.745336e-04</td>\n",
              "      <td>2021-02-02 11:27:15.965909</td>\n",
              "      <td>2021-02-02 11:35:05.818978</td>\n",
              "      <td>0 days 00:07:49.853069</td>\n",
              "      <td>16</td>\n",
              "      <td>0.000545</td>\n",
              "      <td>30</td>\n",
              "      <td>PRUNED</td>\n",
              "    </tr>\n",
              "    <tr>\n",
              "      <th>22</th>\n",
              "      <td>22</td>\n",
              "      <td>6.900680e-04</td>\n",
              "      <td>2021-02-02 11:35:05.819840</td>\n",
              "      <td>2021-02-02 11:41:57.720163</td>\n",
              "      <td>0 days 00:06:51.900323</td>\n",
              "      <td>16</td>\n",
              "      <td>0.000656</td>\n",
              "      <td>30</td>\n",
              "      <td>PRUNED</td>\n",
              "    </tr>\n",
              "    <tr>\n",
              "      <th>23</th>\n",
              "      <td>23</td>\n",
              "      <td>5.721896e-04</td>\n",
              "      <td>2021-02-02 11:41:57.720940</td>\n",
              "      <td>2021-02-02 11:49:48.782552</td>\n",
              "      <td>0 days 00:07:51.061612</td>\n",
              "      <td>16</td>\n",
              "      <td>0.001130</td>\n",
              "      <td>30</td>\n",
              "      <td>PRUNED</td>\n",
              "    </tr>\n",
              "    <tr>\n",
              "      <th>24</th>\n",
              "      <td>24</td>\n",
              "      <td>7.482304e-04</td>\n",
              "      <td>2021-02-02 11:49:48.783813</td>\n",
              "      <td>2021-02-02 11:55:40.217117</td>\n",
              "      <td>0 days 00:05:51.433304</td>\n",
              "      <td>16</td>\n",
              "      <td>0.001959</td>\n",
              "      <td>30</td>\n",
              "      <td>PRUNED</td>\n",
              "    </tr>\n",
              "    <tr>\n",
              "      <th>25</th>\n",
              "      <td>25</td>\n",
              "      <td>5.694544e-04</td>\n",
              "      <td>2021-02-02 11:55:40.217850</td>\n",
              "      <td>2021-02-02 12:02:31.076986</td>\n",
              "      <td>0 days 00:06:50.859136</td>\n",
              "      <td>16</td>\n",
              "      <td>0.000443</td>\n",
              "      <td>70</td>\n",
              "      <td>PRUNED</td>\n",
              "    </tr>\n",
              "    <tr>\n",
              "      <th>26</th>\n",
              "      <td>26</td>\n",
              "      <td>5.267336e-04</td>\n",
              "      <td>2021-02-02 12:02:31.077775</td>\n",
              "      <td>2021-02-02 12:07:39.406962</td>\n",
              "      <td>0 days 00:05:08.329187</td>\n",
              "      <td>64</td>\n",
              "      <td>0.001643</td>\n",
              "      <td>30</td>\n",
              "      <td>PRUNED</td>\n",
              "    </tr>\n",
              "    <tr>\n",
              "      <th>27</th>\n",
              "      <td>27</td>\n",
              "      <td>4.702365e-04</td>\n",
              "      <td>2021-02-02 12:07:39.407751</td>\n",
              "      <td>2021-02-02 12:12:48.724214</td>\n",
              "      <td>0 days 00:05:09.316463</td>\n",
              "      <td>64</td>\n",
              "      <td>0.001617</td>\n",
              "      <td>30</td>\n",
              "      <td>PRUNED</td>\n",
              "    </tr>\n",
              "    <tr>\n",
              "      <th>28</th>\n",
              "      <td>28</td>\n",
              "      <td>5.185484e-04</td>\n",
              "      <td>2021-02-02 12:12:48.725044</td>\n",
              "      <td>2021-02-02 12:17:27.819884</td>\n",
              "      <td>0 days 00:04:39.094840</td>\n",
              "      <td>64</td>\n",
              "      <td>0.001806</td>\n",
              "      <td>30</td>\n",
              "      <td>PRUNED</td>\n",
              "    </tr>\n",
              "    <tr>\n",
              "      <th>29</th>\n",
              "      <td>29</td>\n",
              "      <td>0.000000e+00</td>\n",
              "      <td>2021-02-02 12:17:27.821104</td>\n",
              "      <td>2021-02-02 12:20:01.836177</td>\n",
              "      <td>0 days 00:02:34.015073</td>\n",
              "      <td>64</td>\n",
              "      <td>0.001812</td>\n",
              "      <td>30</td>\n",
              "      <td>PRUNED</td>\n",
              "    </tr>\n",
              "    <tr>\n",
              "      <th>30</th>\n",
              "      <td>30</td>\n",
              "      <td>0.000000e+00</td>\n",
              "      <td>2021-02-02 12:20:01.837259</td>\n",
              "      <td>2021-02-02 12:22:35.535319</td>\n",
              "      <td>0 days 00:02:33.698060</td>\n",
              "      <td>64</td>\n",
              "      <td>0.003340</td>\n",
              "      <td>30</td>\n",
              "      <td>PRUNED</td>\n",
              "    </tr>\n",
              "    <tr>\n",
              "      <th>31</th>\n",
              "      <td>31</td>\n",
              "      <td>0.000000e+00</td>\n",
              "      <td>2021-02-02 12:22:35.536625</td>\n",
              "      <td>2021-02-02 12:25:14.249797</td>\n",
              "      <td>0 days 00:02:38.713172</td>\n",
              "      <td>64</td>\n",
              "      <td>0.002299</td>\n",
              "      <td>30</td>\n",
              "      <td>PRUNED</td>\n",
              "    </tr>\n",
              "    <tr>\n",
              "      <th>32</th>\n",
              "      <td>32</td>\n",
              "      <td>3.310424e-04</td>\n",
              "      <td>2021-02-02 12:25:14.250654</td>\n",
              "      <td>2021-02-02 12:31:26.224260</td>\n",
              "      <td>0 days 00:06:11.973606</td>\n",
              "      <td>64</td>\n",
              "      <td>0.001673</td>\n",
              "      <td>30</td>\n",
              "      <td>PRUNED</td>\n",
              "    </tr>\n",
              "    <tr>\n",
              "      <th>33</th>\n",
              "      <td>33</td>\n",
              "      <td>8.263861e-04</td>\n",
              "      <td>2021-02-02 12:31:26.225067</td>\n",
              "      <td>2021-02-02 12:37:06.260429</td>\n",
              "      <td>0 days 00:05:40.035362</td>\n",
              "      <td>64</td>\n",
              "      <td>0.001625</td>\n",
              "      <td>30</td>\n",
              "      <td>PRUNED</td>\n",
              "    </tr>\n",
              "    <tr>\n",
              "      <th>34</th>\n",
              "      <td>34</td>\n",
              "      <td>9.670263e-04</td>\n",
              "      <td>2021-02-02 12:37:06.261281</td>\n",
              "      <td>2021-02-02 12:41:14.363249</td>\n",
              "      <td>0 days 00:04:08.101968</td>\n",
              "      <td>64</td>\n",
              "      <td>0.001098</td>\n",
              "      <td>50</td>\n",
              "      <td>PRUNED</td>\n",
              "    </tr>\n",
              "    <tr>\n",
              "      <th>35</th>\n",
              "      <td>35</td>\n",
              "      <td>0.000000e+00</td>\n",
              "      <td>2021-02-02 12:41:14.364390</td>\n",
              "      <td>2021-02-02 12:43:48.141098</td>\n",
              "      <td>0 days 00:02:33.776708</td>\n",
              "      <td>64</td>\n",
              "      <td>0.002292</td>\n",
              "      <td>30</td>\n",
              "      <td>PRUNED</td>\n",
              "    </tr>\n",
              "    <tr>\n",
              "      <th>36</th>\n",
              "      <td>36</td>\n",
              "      <td>0.000000e+00</td>\n",
              "      <td>2021-02-02 12:43:48.141900</td>\n",
              "      <td>2021-02-02 12:46:21.498650</td>\n",
              "      <td>0 days 00:02:33.356750</td>\n",
              "      <td>64</td>\n",
              "      <td>0.003008</td>\n",
              "      <td>70</td>\n",
              "      <td>PRUNED</td>\n",
              "    </tr>\n",
              "    <tr>\n",
              "      <th>37</th>\n",
              "      <td>37</td>\n",
              "      <td>7.612528e-04</td>\n",
              "      <td>2021-02-02 12:46:21.499982</td>\n",
              "      <td>2021-02-02 12:50:28.393198</td>\n",
              "      <td>0 days 00:04:06.893216</td>\n",
              "      <td>64</td>\n",
              "      <td>0.001673</td>\n",
              "      <td>30</td>\n",
              "      <td>PRUNED</td>\n",
              "    </tr>\n",
              "    <tr>\n",
              "      <th>38</th>\n",
              "      <td>38</td>\n",
              "      <td>9.311222e-04</td>\n",
              "      <td>2021-02-02 12:50:28.394577</td>\n",
              "      <td>2021-02-02 12:56:07.967425</td>\n",
              "      <td>0 days 00:05:39.572848</td>\n",
              "      <td>64</td>\n",
              "      <td>0.002072</td>\n",
              "      <td>50</td>\n",
              "      <td>PRUNED</td>\n",
              "    </tr>\n",
              "    <tr>\n",
              "      <th>39</th>\n",
              "      <td>39</td>\n",
              "      <td>9.321792e-04</td>\n",
              "      <td>2021-02-02 12:56:07.968746</td>\n",
              "      <td>2021-02-02 12:59:13.328143</td>\n",
              "      <td>0 days 00:03:05.359397</td>\n",
              "      <td>64</td>\n",
              "      <td>0.002155</td>\n",
              "      <td>50</td>\n",
              "      <td>PRUNED</td>\n",
              "    </tr>\n",
              "    <tr>\n",
              "      <th>40</th>\n",
              "      <td>40</td>\n",
              "      <td>0.000000e+00</td>\n",
              "      <td>2021-02-02 12:59:13.329150</td>\n",
              "      <td>2021-02-02 13:01:46.498943</td>\n",
              "      <td>0 days 00:02:33.169793</td>\n",
              "      <td>64</td>\n",
              "      <td>0.002484</td>\n",
              "      <td>50</td>\n",
              "      <td>PRUNED</td>\n",
              "    </tr>\n",
              "    <tr>\n",
              "      <th>41</th>\n",
              "      <td>41</td>\n",
              "      <td>8.425735e-04</td>\n",
              "      <td>2021-02-02 13:01:46.499783</td>\n",
              "      <td>2021-02-02 13:06:56.078846</td>\n",
              "      <td>0 days 00:05:09.579063</td>\n",
              "      <td>64</td>\n",
              "      <td>0.001164</td>\n",
              "      <td>50</td>\n",
              "      <td>PRUNED</td>\n",
              "    </tr>\n",
              "    <tr>\n",
              "      <th>42</th>\n",
              "      <td>42</td>\n",
              "      <td>1.638734e-04</td>\n",
              "      <td>2021-02-02 13:06:56.079694</td>\n",
              "      <td>2021-02-02 13:13:06.325054</td>\n",
              "      <td>0 days 00:06:10.245360</td>\n",
              "      <td>64</td>\n",
              "      <td>0.001949</td>\n",
              "      <td>50</td>\n",
              "      <td>PRUNED</td>\n",
              "    </tr>\n",
              "    <tr>\n",
              "      <th>43</th>\n",
              "      <td>43</td>\n",
              "      <td>0.000000e+00</td>\n",
              "      <td>2021-02-02 13:13:06.325870</td>\n",
              "      <td>2021-02-02 13:15:40.482616</td>\n",
              "      <td>0 days 00:02:34.156746</td>\n",
              "      <td>64</td>\n",
              "      <td>0.002046</td>\n",
              "      <td>50</td>\n",
              "      <td>PRUNED</td>\n",
              "    </tr>\n",
              "    <tr>\n",
              "      <th>44</th>\n",
              "      <td>44</td>\n",
              "      <td>5.450692e-04</td>\n",
              "      <td>2021-02-02 13:15:40.483917</td>\n",
              "      <td>2021-02-02 13:18:15.898777</td>\n",
              "      <td>0 days 00:02:35.414860</td>\n",
              "      <td>64</td>\n",
              "      <td>0.002906</td>\n",
              "      <td>50</td>\n",
              "      <td>PRUNED</td>\n",
              "    </tr>\n",
              "    <tr>\n",
              "      <th>45</th>\n",
              "      <td>45</td>\n",
              "      <td>8.648994e-04</td>\n",
              "      <td>2021-02-02 13:18:15.899638</td>\n",
              "      <td>2021-02-02 13:22:56.965409</td>\n",
              "      <td>0 days 00:04:41.065771</td>\n",
              "      <td>64</td>\n",
              "      <td>0.002513</td>\n",
              "      <td>50</td>\n",
              "      <td>PRUNED</td>\n",
              "    </tr>\n",
              "    <tr>\n",
              "      <th>46</th>\n",
              "      <td>46</td>\n",
              "      <td>2.183543e-04</td>\n",
              "      <td>2021-02-02 13:22:56.966921</td>\n",
              "      <td>2021-02-02 13:28:51.690660</td>\n",
              "      <td>0 days 00:05:54.723739</td>\n",
              "      <td>32</td>\n",
              "      <td>0.000893</td>\n",
              "      <td>50</td>\n",
              "      <td>PRUNED</td>\n",
              "    </tr>\n",
              "    <tr>\n",
              "      <th>47</th>\n",
              "      <td>47</td>\n",
              "      <td>0.000000e+00</td>\n",
              "      <td>2021-02-02 13:28:51.691534</td>\n",
              "      <td>2021-02-02 13:31:25.771509</td>\n",
              "      <td>0 days 00:02:34.079975</td>\n",
              "      <td>64</td>\n",
              "      <td>0.001815</td>\n",
              "      <td>50</td>\n",
              "      <td>PRUNED</td>\n",
              "    </tr>\n",
              "    <tr>\n",
              "      <th>48</th>\n",
              "      <td>48</td>\n",
              "      <td>0.000000e+00</td>\n",
              "      <td>2021-02-02 13:31:25.772366</td>\n",
              "      <td>2021-02-02 13:34:31.307594</td>\n",
              "      <td>0 days 00:03:05.535228</td>\n",
              "      <td>64</td>\n",
              "      <td>0.002667</td>\n",
              "      <td>70</td>\n",
              "      <td>PRUNED</td>\n",
              "    </tr>\n",
              "    <tr>\n",
              "      <th>49</th>\n",
              "      <td>49</td>\n",
              "      <td>0.000000e+00</td>\n",
              "      <td>2021-02-02 13:34:31.308478</td>\n",
              "      <td>2021-02-02 13:37:05.108218</td>\n",
              "      <td>0 days 00:02:33.799740</td>\n",
              "      <td>64</td>\n",
              "      <td>0.001911</td>\n",
              "      <td>50</td>\n",
              "      <td>PRUNED</td>\n",
              "    </tr>\n",
              "  </tbody>\n",
              "</table>\n",
              "</div>"
            ],
            "text/plain": [
              "    number         value  ... params_num_epoch   state\n",
              "0        0  6.383720e-04  ...               30  PRUNED\n",
              "1        1  0.000000e+00  ...               50  PRUNED\n",
              "2        2  0.000000e+00  ...               30  PRUNED\n",
              "3        3  0.000000e+00  ...               70  PRUNED\n",
              "4        4  0.000000e+00  ...               50  PRUNED\n",
              "5        5  0.000000e+00  ...               70  PRUNED\n",
              "6        6  0.000000e+00  ...               70  PRUNED\n",
              "7        7  0.000000e+00  ...               50  PRUNED\n",
              "8        8  0.000000e+00  ...               30  PRUNED\n",
              "9        9  0.000000e+00  ...               30  PRUNED\n",
              "10      10  2.415256e-04  ...               30  PRUNED\n",
              "11      11  4.724504e-04  ...               30  PRUNED\n",
              "12      12  7.759944e-04  ...               30  PRUNED\n",
              "13      13  2.377125e-09  ...               30  PRUNED\n",
              "14      14  0.000000e+00  ...               30  PRUNED\n",
              "15      15  9.946136e-04  ...               30  PRUNED\n",
              "16      16  0.000000e+00  ...               30  PRUNED\n",
              "17      17  9.758533e-04  ...               30  PRUNED\n",
              "18      18  0.000000e+00  ...               30  PRUNED\n",
              "19      19  3.774400e-05  ...               30  PRUNED\n",
              "20      20  8.688320e-04  ...               50  PRUNED\n",
              "21      21  2.745336e-04  ...               30  PRUNED\n",
              "22      22  6.900680e-04  ...               30  PRUNED\n",
              "23      23  5.721896e-04  ...               30  PRUNED\n",
              "24      24  7.482304e-04  ...               30  PRUNED\n",
              "25      25  5.694544e-04  ...               70  PRUNED\n",
              "26      26  5.267336e-04  ...               30  PRUNED\n",
              "27      27  4.702365e-04  ...               30  PRUNED\n",
              "28      28  5.185484e-04  ...               30  PRUNED\n",
              "29      29  0.000000e+00  ...               30  PRUNED\n",
              "30      30  0.000000e+00  ...               30  PRUNED\n",
              "31      31  0.000000e+00  ...               30  PRUNED\n",
              "32      32  3.310424e-04  ...               30  PRUNED\n",
              "33      33  8.263861e-04  ...               30  PRUNED\n",
              "34      34  9.670263e-04  ...               50  PRUNED\n",
              "35      35  0.000000e+00  ...               30  PRUNED\n",
              "36      36  0.000000e+00  ...               70  PRUNED\n",
              "37      37  7.612528e-04  ...               30  PRUNED\n",
              "38      38  9.311222e-04  ...               50  PRUNED\n",
              "39      39  9.321792e-04  ...               50  PRUNED\n",
              "40      40  0.000000e+00  ...               50  PRUNED\n",
              "41      41  8.425735e-04  ...               50  PRUNED\n",
              "42      42  1.638734e-04  ...               50  PRUNED\n",
              "43      43  0.000000e+00  ...               50  PRUNED\n",
              "44      44  5.450692e-04  ...               50  PRUNED\n",
              "45      45  8.648994e-04  ...               50  PRUNED\n",
              "46      46  2.183543e-04  ...               50  PRUNED\n",
              "47      47  0.000000e+00  ...               50  PRUNED\n",
              "48      48  0.000000e+00  ...               70  PRUNED\n",
              "49      49  0.000000e+00  ...               50  PRUNED\n",
              "\n",
              "[50 rows x 9 columns]"
            ]
          },
          "metadata": {
            "tags": []
          },
          "execution_count": 182
        }
      ]
    }
  ]
}