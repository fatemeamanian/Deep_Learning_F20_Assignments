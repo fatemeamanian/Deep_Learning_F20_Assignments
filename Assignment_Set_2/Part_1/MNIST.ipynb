{
  "nbformat": 4,
  "nbformat_minor": 0,
  "metadata": {
    "accelerator": "GPU",
    "colab": {
      "name": "ARBITRARY_2.ipynb",
      "provenance": [],
      "collapsed_sections": []
    },
    "kernelspec": {
      "display_name": "Python 3",
      "language": "python",
      "name": "python3"
    },
    "language_info": {
      "codemirror_mode": {
        "name": "ipython",
        "version": 3
      },
      "file_extension": ".py",
      "mimetype": "text/x-python",
      "name": "python",
      "nbconvert_exporter": "python",
      "pygments_lexer": "ipython3",
      "version": "3.7.7"
    }
  },
  "cells": [
    {
      "cell_type": "markdown",
      "metadata": {
        "id": "0nYQqaK8TQHG"
      },
      "source": [
        "Fatemeh Amanian"
      ]
    },
    {
      "cell_type": "markdown",
      "metadata": {
        "id": "I4kWnkgyTQHL"
      },
      "source": [
        "Train neural network models (at least two different networks for each dataset, i.e., no. layers, no. neurons, activation, ...) in either Tensorflow or Pytorch to perform classification on the following datasets:\n",
        "\n",
        "MNIST"
      ]
    },
    {
      "cell_type": "code",
      "metadata": {
        "id": "DOorW6XQTQHP"
      },
      "source": [
        "import sys\n",
        "from matplotlib import pyplot\n",
        "import numpy as np\n",
        "import PIL\n",
        "\n",
        "from tensorflow.keras.utils import to_categorical\n",
        "from tensorflow.keras.models import Sequential\n",
        "from tensorflow.keras.layers import Conv2D\n",
        "from tensorflow.keras.layers import MaxPooling2D\n",
        "from tensorflow.keras.layers import Dense\n",
        "from tensorflow.keras.layers import Flatten\n",
        "from tensorflow.keras.optimizers import SGD"
      ],
      "execution_count": 1,
      "outputs": []
    },
    {
      "cell_type": "markdown",
      "metadata": {
        "id": "0MUGdfJpvQJz"
      },
      "source": [
        "Download the data:"
      ]
    },
    {
      "cell_type": "code",
      "metadata": {
        "id": "49CwJMWSxfTw",
        "outputId": "45abf648-cb5c-4ebc-8359-da7ddb1fddb8",
        "colab": {
          "base_uri": "https://localhost:8080/",
          "height": 994
        }
      },
      "source": [
        "!mkdir /content/data\n",
        "!mkdir /content/data/mnist\n",
        "!wget \"http://yann.lecun.com/exdb/mnist/train-images-idx3-ubyte.gz\"\n",
        "!wget \"http://yann.lecun.com/exdb/mnist/train-labels-idx1-ubyte.gz\"\n",
        "!wget \"http://yann.lecun.com/exdb/mnist/t10k-images-idx3-ubyte.gz\"\n",
        "!wget \"http://yann.lecun.com/exdb/mnist/t10k-labels-idx1-ubyte.gz\"\n",
        "!mv  -v * /content/data/mnist"
      ],
      "execution_count": 2,
      "outputs": [
        {
          "output_type": "stream",
          "text": [
            "--2020-10-26 03:30:03--  http://yann.lecun.com/exdb/mnist/train-images-idx3-ubyte.gz\n",
            "Resolving yann.lecun.com (yann.lecun.com)... 104.28.7.204, 172.67.171.76, 104.28.6.204, ...\n",
            "Connecting to yann.lecun.com (yann.lecun.com)|104.28.7.204|:80... connected.\n",
            "HTTP request sent, awaiting response... 200 OK\n",
            "Length: 9912422 (9.5M) [application/x-gzip]\n",
            "Saving to: ‘train-images-idx3-ubyte.gz’\n",
            "\n",
            "train-images-idx3-u 100%[===================>]   9.45M  11.1MB/s    in 0.9s    \n",
            "\n",
            "2020-10-26 03:30:04 (11.1 MB/s) - ‘train-images-idx3-ubyte.gz’ saved [9912422/9912422]\n",
            "\n",
            "--2020-10-26 03:30:04--  http://yann.lecun.com/exdb/mnist/train-labels-idx1-ubyte.gz\n",
            "Resolving yann.lecun.com (yann.lecun.com)... 104.28.7.204, 172.67.171.76, 104.28.6.204, ...\n",
            "Connecting to yann.lecun.com (yann.lecun.com)|104.28.7.204|:80... connected.\n",
            "HTTP request sent, awaiting response... 200 OK\n",
            "Length: 28881 (28K) [application/x-gzip]\n",
            "Saving to: ‘train-labels-idx1-ubyte.gz’\n",
            "\n",
            "train-labels-idx1-u 100%[===================>]  28.20K  --.-KB/s    in 0.07s   \n",
            "\n",
            "2020-10-26 03:30:05 (409 KB/s) - ‘train-labels-idx1-ubyte.gz’ saved [28881/28881]\n",
            "\n",
            "--2020-10-26 03:30:05--  http://yann.lecun.com/exdb/mnist/t10k-images-idx3-ubyte.gz\n",
            "Resolving yann.lecun.com (yann.lecun.com)... 104.28.7.204, 172.67.171.76, 104.28.6.204, ...\n",
            "Connecting to yann.lecun.com (yann.lecun.com)|104.28.7.204|:80... connected.\n",
            "HTTP request sent, awaiting response... 200 OK\n",
            "Length: 1648877 (1.6M) [application/x-gzip]\n",
            "Saving to: ‘t10k-images-idx3-ubyte.gz’\n",
            "\n",
            "t10k-images-idx3-ub 100%[===================>]   1.57M  3.48MB/s    in 0.5s    \n",
            "\n",
            "2020-10-26 03:30:05 (3.48 MB/s) - ‘t10k-images-idx3-ubyte.gz’ saved [1648877/1648877]\n",
            "\n",
            "--2020-10-26 03:30:06--  http://yann.lecun.com/exdb/mnist/t10k-labels-idx1-ubyte.gz\n",
            "Resolving yann.lecun.com (yann.lecun.com)... 104.28.7.204, 172.67.171.76, 104.28.6.204, ...\n",
            "Connecting to yann.lecun.com (yann.lecun.com)|104.28.7.204|:80... connected.\n",
            "HTTP request sent, awaiting response... 200 OK\n",
            "Length: 4542 (4.4K) [application/x-gzip]\n",
            "Saving to: ‘t10k-labels-idx1-ubyte.gz’\n",
            "\n",
            "t10k-labels-idx1-ub 100%[===================>]   4.44K  --.-KB/s    in 0s      \n",
            "\n",
            "2020-10-26 03:30:06 (490 MB/s) - ‘t10k-labels-idx1-ubyte.gz’ saved [4542/4542]\n",
            "\n",
            "mv: cannot move 'data' to a subdirectory of itself, '/content/data/mnist/data'\n",
            "created directory '/content/data/mnist/sample_data'\n",
            "renamed 'sample_data/README.md' -> '/content/data/mnist/sample_data/README.md'\n",
            "renamed 'sample_data/anscombe.json' -> '/content/data/mnist/sample_data/anscombe.json'\n",
            "renamed 'sample_data/california_housing_test.csv' -> '/content/data/mnist/sample_data/california_housing_test.csv'\n",
            "renamed 'sample_data/california_housing_train.csv' -> '/content/data/mnist/sample_data/california_housing_train.csv'\n",
            "renamed 'sample_data/mnist_test.csv' -> '/content/data/mnist/sample_data/mnist_test.csv'\n",
            "renamed 'sample_data/mnist_train_small.csv' -> '/content/data/mnist/sample_data/mnist_train_small.csv'\n",
            "removed directory 'sample_data'\n",
            "renamed 't10k-images-idx3-ubyte.gz' -> '/content/data/mnist/t10k-images-idx3-ubyte.gz'\n",
            "renamed 't10k-labels-idx1-ubyte.gz' -> '/content/data/mnist/t10k-labels-idx1-ubyte.gz'\n",
            "renamed 'train-images-idx3-ubyte.gz' -> '/content/data/mnist/train-images-idx3-ubyte.gz'\n",
            "renamed 'train-labels-idx1-ubyte.gz' -> '/content/data/mnist/train-labels-idx1-ubyte.gz'\n"
          ],
          "name": "stdout"
        }
      ]
    },
    {
      "cell_type": "code",
      "metadata": {
        "id": "FdC2_TxvkkOO"
      },
      "source": [
        "!gunzip /content/data/mnist/*.gz"
      ],
      "execution_count": 3,
      "outputs": []
    },
    {
      "cell_type": "markdown",
      "metadata": {
        "id": "25otVEtgTQHh"
      },
      "source": [
        "Import data:"
      ]
    },
    {
      "cell_type": "code",
      "metadata": {
        "id": "MzKNBvFgTQIO",
        "outputId": "248cd0e7-07ba-45ce-90ca-41a4fad72558",
        "colab": {
          "base_uri": "https://localhost:8080/",
          "height": 86
        }
      },
      "source": [
        "def loadMNIST( prefix, folder ):\n",
        "    intType = np.dtype( 'int32' ).newbyteorder( '>' )\n",
        "    nMetaDataBytes = 4 * intType.itemsize\n",
        "\n",
        "    data = np.fromfile( folder + \"/\" + prefix + '-images-idx3-ubyte', dtype = 'ubyte' )\n",
        "    magicBytes, nImages, width, height = np.frombuffer( data[:nMetaDataBytes].tobytes(), intType )\n",
        "    data = data[nMetaDataBytes:].astype( dtype = 'float32' ).reshape( [ nImages, width, height ] )\n",
        "\n",
        "    labels = np.fromfile( folder + \"/\" + prefix + '-labels-idx1-ubyte',\n",
        "                          dtype = 'ubyte' )[2 * intType.itemsize:]\n",
        "\n",
        "    return data, labels\n",
        "\n",
        "path='./data/mnist'\n",
        "train_data, train_labels = loadMNIST( \"train\", path)\n",
        "test_data, test_labels = loadMNIST( \"t10k\", path)\n",
        "\n",
        "print(train_data.shape)\n",
        "print(len(train_labels))\n",
        "\n",
        "print(test_data.shape)\n",
        "print(len(test_labels))"
      ],
      "execution_count": 4,
      "outputs": [
        {
          "output_type": "stream",
          "text": [
            "(60000, 28, 28)\n",
            "60000\n",
            "(10000, 28, 28)\n",
            "10000\n"
          ],
          "name": "stdout"
        }
      ]
    },
    {
      "cell_type": "code",
      "metadata": {
        "id": "HUJxce7XiPCf"
      },
      "source": [
        "classes = [ '0', '1', '2', '3', '4', '5', '6', '7', '8', '9' ]"
      ],
      "execution_count": 5,
      "outputs": []
    },
    {
      "cell_type": "markdown",
      "metadata": {
        "id": "TgVvpmq1TQH_"
      },
      "source": [
        "Normalization:"
      ]
    },
    {
      "cell_type": "code",
      "metadata": {
        "id": "BiIYwVWgTQIB",
        "outputId": "1f289e3a-ba6e-4895-ad71-6f3b2457a7a1",
        "colab": {
          "base_uri": "https://localhost:8080/",
          "height": 51
        }
      },
      "source": [
        "train_set = ((train_data[..., np.newaxis]/255.0), np.asarray(train_labels))\n",
        "test_set = (test_data[..., np.newaxis]/255.0, np.asarray(test_labels))\n",
        "# (x_train-x_train.mean())/x_train.std()\n",
        "print(train_set[0].shape, train_set[1].shape)\n",
        "print(test_set[0].shape, test_set[1].shape)"
      ],
      "execution_count": 6,
      "outputs": [
        {
          "output_type": "stream",
          "text": [
            "(60000, 28, 28, 1) (60000,)\n",
            "(10000, 28, 28, 1) (10000,)\n"
          ],
          "name": "stdout"
        }
      ]
    },
    {
      "cell_type": "code",
      "metadata": {
        "id": "TcVwbJriDBn1",
        "outputId": "afd7f5a4-3523-44d1-db2e-ef91bbdfa803",
        "colab": {
          "base_uri": "https://localhost:8080/",
          "height": 282
        }
      },
      "source": [
        "pyplot.imshow(np.squeeze(train_set[0][0]))\n",
        "print(classes[train_set[1][0]])"
      ],
      "execution_count": 7,
      "outputs": [
        {
          "output_type": "stream",
          "text": [
            "5\n"
          ],
          "name": "stdout"
        },
        {
          "output_type": "display_data",
          "data": {
            "image/png": "[encoded data removed]",
            "text/plain": [
              "<Figure size 432x288 with 1 Axes>"
            ]
          },
          "metadata": {
            "tags": [],
            "needs_background": "light"
          }
        }
      ]
    },
    {
      "cell_type": "markdown",
      "metadata": {
        "id": "DmyMmMxoTQKD"
      },
      "source": [
        "Define a Convolutional Neural Network"
      ]
    },
    {
      "cell_type": "code",
      "metadata": {
        "id": "pEolrQ248qO7"
      },
      "source": [
        "model1 = Sequential()\n",
        "model1.add(Conv2D(32, (3, 3), activation='relu', kernel_initializer='he_uniform', padding='same', input_shape=(28, 28, 1)))\n",
        "model1.add(Conv2D(64, (3, 3), activation='relu', kernel_initializer='he_uniform', padding='same'))\n",
        "model1.add(MaxPooling2D((2, 2)))\n",
        "model1.add(Flatten())\n",
        "model1.add(Dense(128, activation='relu', kernel_initializer='he_uniform'))\n",
        "model1.add(Dense(10, activation='softmax'))"
      ],
      "execution_count": 8,
      "outputs": []
    },
    {
      "cell_type": "markdown",
      "metadata": {
        "id": "UmkmVq_PTQKR"
      },
      "source": [
        "Define a Loss function and optimizer"
      ]
    },
    {
      "cell_type": "code",
      "metadata": {
        "id": "SE_hEc8r9_Yu"
      },
      "source": [
        "# compile model\n",
        "opt1 = SGD(lr=0.001, momentum=0.9)\n",
        "model1.compile(optimizer=opt1, loss='sparse_categorical_crossentropy', metrics=['accuracy'])"
      ],
      "execution_count": 9,
      "outputs": []
    },
    {
      "cell_type": "markdown",
      "metadata": {
        "id": "dW-WISEBTQKf"
      },
      "source": [
        "Train the network\n",
        "\n",
        "This is when things start to get interesting. We simply have to loop over our data iterator, and feed the inputs to the network and optimize"
      ]
    },
    {
      "cell_type": "code",
      "metadata": {
        "id": "JJUR_jga9yO2",
        "outputId": "2a1cf74e-6488-492d-d1a5-5938d7ee80eb",
        "colab": {
          "base_uri": "https://localhost:8080/",
          "height": 1000
        }
      },
      "source": [
        "epochs=30\n",
        "# fit model\n",
        "history1 = model1.fit(train_set[0], train_set[1], epochs=epochs, batch_size=64, validation_data=(test_set[0], test_set[1]), verbose=1)\n",
        "# evaluate model\n",
        "_, acc1 = model1.evaluate(test_set[0], test_set[1], verbose=1)\n",
        "print('> %.3f' % (acc1 * 100.0))"
      ],
      "execution_count": 10,
      "outputs": [
        {
          "output_type": "stream",
          "text": [
            "Epoch 1/30\n",
            "938/938 [==============================] - 5s 6ms/step - loss: 0.2952 - accuracy: 0.9125 - val_loss: 0.1537 - val_accuracy: 0.9568\n",
            "Epoch 2/30\n",
            "938/938 [==============================] - 5s 5ms/step - loss: 0.1307 - accuracy: 0.9615 - val_loss: 0.1047 - val_accuracy: 0.9697\n",
            "Epoch 3/30\n",
            "938/938 [==============================] - 5s 5ms/step - loss: 0.0891 - accuracy: 0.9742 - val_loss: 0.0829 - val_accuracy: 0.9745\n",
            "Epoch 4/30\n",
            "938/938 [==============================] - 5s 5ms/step - loss: 0.0685 - accuracy: 0.9804 - val_loss: 0.0595 - val_accuracy: 0.9821\n",
            "Epoch 5/30\n",
            "938/938 [==============================] - 5s 5ms/step - loss: 0.0559 - accuracy: 0.9839 - val_loss: 0.0500 - val_accuracy: 0.9840\n",
            "Epoch 6/30\n",
            "938/938 [==============================] - 5s 5ms/step - loss: 0.0483 - accuracy: 0.9863 - val_loss: 0.0464 - val_accuracy: 0.9846\n",
            "Epoch 7/30\n",
            "938/938 [==============================] - 5s 5ms/step - loss: 0.0419 - accuracy: 0.9875 - val_loss: 0.0465 - val_accuracy: 0.9838\n",
            "Epoch 8/30\n",
            "938/938 [==============================] - 5s 5ms/step - loss: 0.0361 - accuracy: 0.9897 - val_loss: 0.0444 - val_accuracy: 0.9845\n",
            "Epoch 9/30\n",
            "938/938 [==============================] - 5s 5ms/step - loss: 0.0325 - accuracy: 0.9905 - val_loss: 0.0399 - val_accuracy: 0.9865\n",
            "Epoch 10/30\n",
            "938/938 [==============================] - 5s 5ms/step - loss: 0.0291 - accuracy: 0.9916 - val_loss: 0.0396 - val_accuracy: 0.9871\n",
            "Epoch 11/30\n",
            "938/938 [==============================] - 5s 5ms/step - loss: 0.0268 - accuracy: 0.9920 - val_loss: 0.0388 - val_accuracy: 0.9862\n",
            "Epoch 12/30\n",
            "938/938 [==============================] - 5s 5ms/step - loss: 0.0239 - accuracy: 0.9932 - val_loss: 0.0433 - val_accuracy: 0.9852\n",
            "Epoch 13/30\n",
            "938/938 [==============================] - 5s 5ms/step - loss: 0.0221 - accuracy: 0.9936 - val_loss: 0.0371 - val_accuracy: 0.9867\n",
            "Epoch 14/30\n",
            "938/938 [==============================] - 5s 5ms/step - loss: 0.0201 - accuracy: 0.9945 - val_loss: 0.0336 - val_accuracy: 0.9885\n",
            "Epoch 15/30\n",
            "938/938 [==============================] - 5s 5ms/step - loss: 0.0179 - accuracy: 0.9951 - val_loss: 0.0367 - val_accuracy: 0.9870\n",
            "Epoch 16/30\n",
            "938/938 [==============================] - 5s 5ms/step - loss: 0.0163 - accuracy: 0.9956 - val_loss: 0.0346 - val_accuracy: 0.9891\n",
            "Epoch 17/30\n",
            "938/938 [==============================] - 5s 5ms/step - loss: 0.0150 - accuracy: 0.9962 - val_loss: 0.0355 - val_accuracy: 0.9879\n",
            "Epoch 18/30\n",
            "938/938 [==============================] - 5s 5ms/step - loss: 0.0136 - accuracy: 0.9966 - val_loss: 0.0377 - val_accuracy: 0.9875\n",
            "Epoch 19/30\n",
            "938/938 [==============================] - 5s 5ms/step - loss: 0.0124 - accuracy: 0.9970 - val_loss: 0.0374 - val_accuracy: 0.9870\n",
            "Epoch 20/30\n",
            "938/938 [==============================] - 5s 5ms/step - loss: 0.0115 - accuracy: 0.9972 - val_loss: 0.0361 - val_accuracy: 0.9880\n",
            "Epoch 21/30\n",
            "938/938 [==============================] - 5s 5ms/step - loss: 0.0104 - accuracy: 0.9975 - val_loss: 0.0359 - val_accuracy: 0.9881\n",
            "Epoch 22/30\n",
            "938/938 [==============================] - 5s 5ms/step - loss: 0.0094 - accuracy: 0.9981 - val_loss: 0.0327 - val_accuracy: 0.9887\n",
            "Epoch 23/30\n",
            "938/938 [==============================] - 5s 5ms/step - loss: 0.0086 - accuracy: 0.9982 - val_loss: 0.0345 - val_accuracy: 0.9886\n",
            "Epoch 24/30\n",
            "938/938 [==============================] - 5s 5ms/step - loss: 0.0080 - accuracy: 0.9984 - val_loss: 0.0344 - val_accuracy: 0.9884\n",
            "Epoch 25/30\n",
            "938/938 [==============================] - 5s 5ms/step - loss: 0.0073 - accuracy: 0.9985 - val_loss: 0.0327 - val_accuracy: 0.9888\n",
            "Epoch 26/30\n",
            "938/938 [==============================] - 5s 5ms/step - loss: 0.0070 - accuracy: 0.9987 - val_loss: 0.0335 - val_accuracy: 0.9888\n",
            "Epoch 27/30\n",
            "938/938 [==============================] - 5s 5ms/step - loss: 0.0062 - accuracy: 0.9990 - val_loss: 0.0360 - val_accuracy: 0.9875\n",
            "Epoch 28/30\n",
            "938/938 [==============================] - 5s 5ms/step - loss: 0.0057 - accuracy: 0.9990 - val_loss: 0.0365 - val_accuracy: 0.9875\n",
            "Epoch 29/30\n",
            "938/938 [==============================] - 5s 5ms/step - loss: 0.0055 - accuracy: 0.9991 - val_loss: 0.0344 - val_accuracy: 0.9885\n",
            "Epoch 30/30\n",
            "938/938 [==============================] - 5s 5ms/step - loss: 0.0052 - accuracy: 0.9992 - val_loss: 0.0360 - val_accuracy: 0.9878\n",
            "313/313 [==============================] - 1s 2ms/step - loss: 0.0360 - accuracy: 0.9878\n",
            "> 98.780\n"
          ],
          "name": "stdout"
        }
      ]
    },
    {
      "cell_type": "code",
      "metadata": {
        "id": "vBJJegetTQLC",
        "outputId": "dbf9c3ef-c04c-4341-efa3-01115f476454",
        "colab": {
          "base_uri": "https://localhost:8080/",
          "height": 282
        }
      },
      "source": [
        "pyplot.plot(range(0,epochs), history1.history['accuracy'])\n",
        "pyplot.plot(range(0,epochs), history1.history['val_accuracy'])"
      ],
      "execution_count": 11,
      "outputs": [
        {
          "output_type": "execute_result",
          "data": {
            "text/plain": [
              "[<matplotlib.lines.Line2D at 0x7f59eac5dac8>]"
            ]
          },
          "metadata": {
            "tags": []
          },
          "execution_count": 11
        },
        {
          "output_type": "display_data",
          "data": {
            "image/png": "[encoded data removed]",
            "text/plain": [
              "<Figure size 432x288 with 1 Axes>"
            ]
          },
          "metadata": {
            "tags": [],
            "needs_background": "light"
          }
        }
      ]
    },
    {
      "cell_type": "markdown",
      "metadata": {
        "id": "iMqnGPRLid3R"
      },
      "source": [
        "Model 2:"
      ]
    },
    {
      "cell_type": "code",
      "metadata": {
        "id": "HTCURVP_idZI"
      },
      "source": [
        "from tensorflow.keras.layers import Dropout\n",
        "model2 = Sequential()\n",
        "model2.add(Conv2D(32, (6, 6), activation='relu', kernel_initializer='he_uniform', padding='same', input_shape=(28, 28, 1)))\n",
        "model2.add(Conv2D(64, (3, 3), activation='relu', kernel_initializer='he_uniform', padding='same'))\n",
        "model2.add(MaxPooling2D((2, 2)))\n",
        "model2.add(Flatten())\n",
        "model2.add(Dropout(0.4))\n",
        "model2.add(Dense(198, activation='relu', kernel_initializer='he_uniform'))\n",
        "model2.add(Dropout(0.4))\n",
        "model2.add(Dense(10, activation='softmax'))\n",
        "# compile model\n",
        "opt2 = SGD(lr=0.001, momentum=0.9)\n",
        "model2.compile(optimizer=opt2, loss='sparse_categorical_crossentropy', metrics=['accuracy'])"
      ],
      "execution_count": 12,
      "outputs": []
    },
    {
      "cell_type": "code",
      "metadata": {
        "id": "Dz4MeDezcB87",
        "outputId": "41ee5dc8-2f56-425d-d168-eff73ba3e0a1",
        "colab": {
          "base_uri": "https://localhost:8080/",
          "height": 1000
        }
      },
      "source": [
        "epochs2=30\n",
        "# fit model\n",
        "history2 = model2.fit(train_set[0], train_set[1], epochs=epochs2, batch_size=64, validation_data=(test_set[0], test_set[1]), verbose=1)\n",
        "# evaluate model\n",
        "_, acc2 = model2.evaluate(test_set[0], test_set[1], verbose=1)\n",
        "print('> %.3f' % (acc2 * 100.0))"
      ],
      "execution_count": 13,
      "outputs": [
        {
          "output_type": "stream",
          "text": [
            "Epoch 1/30\n",
            "938/938 [==============================] - 5s 6ms/step - loss: 0.4490 - accuracy: 0.8604 - val_loss: 0.1455 - val_accuracy: 0.9573\n",
            "Epoch 2/30\n",
            "938/938 [==============================] - 5s 6ms/step - loss: 0.1896 - accuracy: 0.9439 - val_loss: 0.0907 - val_accuracy: 0.9727\n",
            "Epoch 3/30\n",
            "938/938 [==============================] - 5s 6ms/step - loss: 0.1361 - accuracy: 0.9595 - val_loss: 0.0684 - val_accuracy: 0.9790\n",
            "Epoch 4/30\n",
            "938/938 [==============================] - 5s 6ms/step - loss: 0.1093 - accuracy: 0.9679 - val_loss: 0.0565 - val_accuracy: 0.9816\n",
            "Epoch 5/30\n",
            "938/938 [==============================] - 5s 6ms/step - loss: 0.0939 - accuracy: 0.9714 - val_loss: 0.0499 - val_accuracy: 0.9831\n",
            "Epoch 6/30\n",
            "938/938 [==============================] - 5s 6ms/step - loss: 0.0830 - accuracy: 0.9750 - val_loss: 0.0442 - val_accuracy: 0.9854\n",
            "Epoch 7/30\n",
            "938/938 [==============================] - 5s 6ms/step - loss: 0.0733 - accuracy: 0.9781 - val_loss: 0.0417 - val_accuracy: 0.9867\n",
            "Epoch 8/30\n",
            "938/938 [==============================] - 5s 6ms/step - loss: 0.0671 - accuracy: 0.9792 - val_loss: 0.0391 - val_accuracy: 0.9873\n",
            "Epoch 9/30\n",
            "938/938 [==============================] - 5s 6ms/step - loss: 0.0628 - accuracy: 0.9806 - val_loss: 0.0350 - val_accuracy: 0.9882\n",
            "Epoch 10/30\n",
            "938/938 [==============================] - 5s 6ms/step - loss: 0.0584 - accuracy: 0.9820 - val_loss: 0.0346 - val_accuracy: 0.9888\n",
            "Epoch 11/30\n",
            "938/938 [==============================] - 5s 6ms/step - loss: 0.0558 - accuracy: 0.9826 - val_loss: 0.0328 - val_accuracy: 0.9882\n",
            "Epoch 12/30\n",
            "938/938 [==============================] - 5s 6ms/step - loss: 0.0517 - accuracy: 0.9845 - val_loss: 0.0326 - val_accuracy: 0.9888\n",
            "Epoch 13/30\n",
            "938/938 [==============================] - 5s 6ms/step - loss: 0.0498 - accuracy: 0.9841 - val_loss: 0.0312 - val_accuracy: 0.9898\n",
            "Epoch 14/30\n",
            "938/938 [==============================] - 5s 6ms/step - loss: 0.0475 - accuracy: 0.9852 - val_loss: 0.0302 - val_accuracy: 0.9901\n",
            "Epoch 15/30\n",
            "938/938 [==============================] - 5s 6ms/step - loss: 0.0471 - accuracy: 0.9853 - val_loss: 0.0288 - val_accuracy: 0.9898\n",
            "Epoch 16/30\n",
            "938/938 [==============================] - 5s 6ms/step - loss: 0.0430 - accuracy: 0.9866 - val_loss: 0.0284 - val_accuracy: 0.9906\n",
            "Epoch 17/30\n",
            "938/938 [==============================] - 5s 6ms/step - loss: 0.0399 - accuracy: 0.9876 - val_loss: 0.0280 - val_accuracy: 0.9906\n",
            "Epoch 18/30\n",
            "938/938 [==============================] - 5s 6ms/step - loss: 0.0393 - accuracy: 0.9884 - val_loss: 0.0277 - val_accuracy: 0.9907\n",
            "Epoch 19/30\n",
            "938/938 [==============================] - 5s 6ms/step - loss: 0.0395 - accuracy: 0.9877 - val_loss: 0.0265 - val_accuracy: 0.9908\n",
            "Epoch 20/30\n",
            "938/938 [==============================] - 5s 6ms/step - loss: 0.0379 - accuracy: 0.9877 - val_loss: 0.0257 - val_accuracy: 0.9914\n",
            "Epoch 21/30\n",
            "938/938 [==============================] - 5s 6ms/step - loss: 0.0356 - accuracy: 0.9886 - val_loss: 0.0267 - val_accuracy: 0.9907\n",
            "Epoch 22/30\n",
            "938/938 [==============================] - 5s 6ms/step - loss: 0.0343 - accuracy: 0.9895 - val_loss: 0.0259 - val_accuracy: 0.9909\n",
            "Epoch 23/30\n",
            "938/938 [==============================] - 5s 6ms/step - loss: 0.0340 - accuracy: 0.9895 - val_loss: 0.0251 - val_accuracy: 0.9911\n",
            "Epoch 24/30\n",
            "938/938 [==============================] - 5s 6ms/step - loss: 0.0311 - accuracy: 0.9898 - val_loss: 0.0247 - val_accuracy: 0.9917\n",
            "Epoch 25/30\n",
            "938/938 [==============================] - 5s 6ms/step - loss: 0.0317 - accuracy: 0.9900 - val_loss: 0.0246 - val_accuracy: 0.9917\n",
            "Epoch 26/30\n",
            "938/938 [==============================] - 5s 6ms/step - loss: 0.0306 - accuracy: 0.9904 - val_loss: 0.0242 - val_accuracy: 0.9913\n",
            "Epoch 27/30\n",
            "938/938 [==============================] - 5s 6ms/step - loss: 0.0298 - accuracy: 0.9905 - val_loss: 0.0239 - val_accuracy: 0.9915\n",
            "Epoch 28/30\n",
            "938/938 [==============================] - 5s 6ms/step - loss: 0.0290 - accuracy: 0.9906 - val_loss: 0.0237 - val_accuracy: 0.9919\n",
            "Epoch 29/30\n",
            "938/938 [==============================] - 5s 6ms/step - loss: 0.0284 - accuracy: 0.9912 - val_loss: 0.0233 - val_accuracy: 0.9926\n",
            "Epoch 30/30\n",
            "938/938 [==============================] - 5s 6ms/step - loss: 0.0266 - accuracy: 0.9917 - val_loss: 0.0233 - val_accuracy: 0.9924\n",
            "313/313 [==============================] - 1s 2ms/step - loss: 0.0233 - accuracy: 0.9924\n",
            "> 99.240\n"
          ],
          "name": "stdout"
        }
      ]
    },
    {
      "cell_type": "code",
      "metadata": {
        "id": "SbQXP3SsTQL1",
        "outputId": "09e4a2a6-a338-4b22-96ad-16e58c2833b3",
        "colab": {
          "base_uri": "https://localhost:8080/",
          "height": 282
        }
      },
      "source": [
        "pyplot.plot(range(0,epochs2), history2.history['accuracy'])\n",
        "pyplot.plot(range(0,epochs2), history2.history['val_accuracy'])"
      ],
      "execution_count": 14,
      "outputs": [
        {
          "output_type": "execute_result",
          "data": {
            "text/plain": [
              "[<matplotlib.lines.Line2D at 0x7f59ba40b710>]"
            ]
          },
          "metadata": {
            "tags": []
          },
          "execution_count": 14
        },
        {
          "output_type": "display_data",
          "data": {
            "image/png": "[encoded data removed]",
            "text/plain": [
              "<Figure size 432x288 with 1 Axes>"
            ]
          },
          "metadata": {
            "tags": [],
            "needs_background": "light"
          }
        }
      ]
    },
    {
      "cell_type": "markdown",
      "metadata": {
        "id": "IDNcZGkuklrt"
      },
      "source": [
        "Looks like adding dropouts decreased the distance between training and test accuracy. It's probably because the model don't overfit to the training data."
      ]
    },
    {
      "cell_type": "markdown",
      "metadata": {
        "id": "OvYezqW1-whs"
      },
      "source": [
        "Let's now save our precious models:"
      ]
    },
    {
      "cell_type": "code",
      "metadata": {
        "id": "bVvS3TGd-hKu"
      },
      "source": [
        "model1.save('mnist1.h5')\n",
        "model2.save('mnist2.h5') "
      ],
      "execution_count": null,
      "outputs": []
    }
  ]
}