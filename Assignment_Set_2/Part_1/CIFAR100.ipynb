{
  "nbformat": 4,
  "nbformat_minor": 0,
  "metadata": {
    "accelerator": "GPU",
    "colab": {
      "name": "CIFAR100_2.ipynb",
      "provenance": [],
      "collapsed_sections": []
    },
    "kernelspec": {
      "display_name": "Python 3",
      "language": "python",
      "name": "python3"
    },
    "language_info": {
      "codemirror_mode": {
        "name": "ipython",
        "version": 3
      },
      "file_extension": ".py",
      "mimetype": "text/x-python",
      "name": "python",
      "nbconvert_exporter": "python",
      "pygments_lexer": "ipython3",
      "version": "3.7.7"
    }
  },
  "cells": [
    {
      "cell_type": "markdown",
      "metadata": {
        "id": "0nYQqaK8TQHG"
      },
      "source": [
        "Fatemeh Amanian"
      ]
    },
    {
      "cell_type": "markdown",
      "metadata": {
        "id": "I4kWnkgyTQHL"
      },
      "source": [
        "Train neural network models (at least two different networks for each dataset, i.e., no. layers, no. neurons, activation, ...) in either Tensorflow or Pytorch to perform classification on the following datasets:\n",
        "\n",
        "Cifar-100"
      ]
    },
    {
      "cell_type": "code",
      "metadata": {
        "id": "DOorW6XQTQHP"
      },
      "source": [
        "import sys\n",
        "from matplotlib import pyplot\n",
        "import numpy as np\n",
        "import PIL\n",
        "\n",
        "from tensorflow.keras.datasets import cifar10\n",
        "from tensorflow.keras.utils import to_categorical\n",
        "from tensorflow.keras.models import Sequential\n",
        "from tensorflow.keras.layers import Conv2D\n",
        "from tensorflow.keras.layers import MaxPooling2D\n",
        "from tensorflow.keras.layers import Dense\n",
        "from tensorflow.keras.layers import Flatten\n",
        "from tensorflow.keras.optimizers import SGD\n",
        "from tensorflow.keras.optimizers import Adam"
      ],
      "execution_count": 1,
      "outputs": []
    },
    {
      "cell_type": "markdown",
      "metadata": {
        "id": "0MUGdfJpvQJz"
      },
      "source": [
        "Download the data:"
      ]
    },
    {
      "cell_type": "code",
      "metadata": {
        "id": "UtuvU2FavSSb",
        "outputId": "30ee1a82-db92-40d3-b4c5-4231383071e9",
        "colab": {
          "base_uri": "https://localhost:8080/",
          "height": 51
        }
      },
      "source": [
        "from keras.datasets import cifar100\n",
        "x = cifar100.load_data()"
      ],
      "execution_count": 2,
      "outputs": [
        {
          "output_type": "stream",
          "text": [
            "Downloading data from https://www.cs.toronto.edu/~kriz/cifar-100-python.tar.gz\n",
            "169009152/169001437 [==============================] - 2s 0us/step\n"
          ],
          "name": "stdout"
        }
      ]
    },
    {
      "cell_type": "code",
      "metadata": {
        "id": "49CwJMWSxfTw",
        "outputId": "fabfd334-ddad-45ae-bbe3-0ae128543579",
        "colab": {
          "base_uri": "https://localhost:8080/",
          "height": 120
        }
      },
      "source": [
        "!mkdir /content/data\n",
        "!mkdir /content/data/cifar100\n",
        "!mv  -v /root/.keras/datasets/cifar-100-python/* /content/data/cifar100"
      ],
      "execution_count": 4,
      "outputs": [
        {
          "output_type": "stream",
          "text": [
            "mkdir: cannot create directory ‘/content/data’: File exists\n",
            "mkdir: cannot create directory ‘/content/data/cifar100’: File exists\n",
            "renamed '/root/.keras/datasets/cifar-100-python/file.txt~' -> '/content/data/cifar100/file.txt~'\n",
            "renamed '/root/.keras/datasets/cifar-100-python/meta' -> '/content/data/cifar100/meta'\n",
            "renamed '/root/.keras/datasets/cifar-100-python/test' -> '/content/data/cifar100/test'\n",
            "renamed '/root/.keras/datasets/cifar-100-python/train' -> '/content/data/cifar100/train'\n"
          ],
          "name": "stdout"
        }
      ]
    },
    {
      "cell_type": "markdown",
      "metadata": {
        "id": "25otVEtgTQHh"
      },
      "source": [
        "Import data:"
      ]
    },
    {
      "cell_type": "code",
      "metadata": {
        "id": "MzKNBvFgTQIO",
        "outputId": "94962a79-8ecc-4a62-b627-ea1ed82d4b0e",
        "colab": {
          "base_uri": "https://localhost:8080/",
          "height": 86
        }
      },
      "source": [
        "path='./data/cifar100'\n",
        "\n",
        "def unpickle(file):\n",
        "    import pickle\n",
        "    with open(file, 'rb') as fo:\n",
        "        dic = pickle.load(fo, encoding='bytes')\n",
        "    return dic\n",
        "\n",
        "train_batch = unpickle(path + \"/train\")\n",
        "test_batch = unpickle(path + \"/test\")\n",
        "\n",
        "train_labels = []\n",
        "\n",
        "train_data = np.array(train_batch[b'data'])\n",
        "train_labels.extend(np.array(train_batch[b'fine_labels']))\n",
        "train_data = train_data.reshape(-1, 3, 32, 32).transpose(0, 2, 3, 1)\n",
        "\n",
        "print(train_data.shape)\n",
        "print(len(train_labels))\n",
        "\n",
        "test_labels = []\n",
        "test_data = np.array(test_batch[b'data'])\n",
        "test_labels.extend(np.array(test_batch[b'fine_labels']))\n",
        "\n",
        "test_data = test_data.reshape(-1, 3, 32, 32).transpose(0, 2, 3, 1)\n",
        "\n",
        "print(test_data.shape)\n",
        "print(len(test_labels))\n",
        "\n",
        "\n",
        "import pickle\n",
        "with open((path + \"/meta\"), 'rb') as fo:\n",
        "    dic = pickle.load(fo, encoding='utf-8')\n",
        "    classes = np.array(dic['fine_label_names'])"
      ],
      "execution_count": 5,
      "outputs": [
        {
          "output_type": "stream",
          "text": [
            "(50000, 32, 32, 3)\n",
            "50000\n",
            "(10000, 32, 32, 3)\n",
            "10000\n"
          ],
          "name": "stdout"
        }
      ]
    },
    {
      "cell_type": "markdown",
      "metadata": {
        "id": "TgVvpmq1TQH_"
      },
      "source": [
        "Normalization:"
      ]
    },
    {
      "cell_type": "code",
      "metadata": {
        "id": "BiIYwVWgTQIB",
        "outputId": "3f4a37be-0d59-4c37-dbd1-45e7bdeea7d4",
        "colab": {
          "base_uri": "https://localhost:8080/",
          "height": 51
        }
      },
      "source": [
        "train_set = ((train_data/255.0), np.asarray(train_labels))\n",
        "test_set = (test_data/255.0, np.asarray(test_labels))\n",
        "# (x_train-x_train.mean())/x_train.std()\n",
        "print(train_set[0].shape, train_set[1].shape)\n",
        "print(test_set[0].shape, test_set[1].shape)"
      ],
      "execution_count": 6,
      "outputs": [
        {
          "output_type": "stream",
          "text": [
            "(50000, 32, 32, 3) (50000,)\n",
            "(10000, 32, 32, 3) (10000,)\n"
          ],
          "name": "stdout"
        }
      ]
    },
    {
      "cell_type": "code",
      "metadata": {
        "id": "TcVwbJriDBn1",
        "outputId": "730ed3d6-16fd-4e47-c21b-27392aeb538f",
        "colab": {
          "base_uri": "https://localhost:8080/",
          "height": 815
        }
      },
      "source": [
        "for i in range(0,3):\n",
        "    pyplot.figure()\n",
        "    pyplot.imshow(train_set[0][i])\n",
        "    print(classes[train_set[1][i]])"
      ],
      "execution_count": 7,
      "outputs": [
        {
          "output_type": "stream",
          "text": [
            "cattle\n",
            "dinosaur\n",
            "apple\n"
          ],
          "name": "stdout"
        },
        {
          "output_type": "display_data",
          "data": {
            "image/png": "[encoded data removed]",
            "text/plain": [
              "<Figure size 432x288 with 1 Axes>"
            ]
          },
          "metadata": {
            "tags": [],
            "needs_background": "light"
          }
        },
        {
          "output_type": "display_data",
          "data": {
            "image/png": "[encoded data removed]",
            "text/plain": [
              "<Figure size 432x288 with 1 Axes>"
            ]
          },
          "metadata": {
            "tags": [],
            "needs_background": "light"
          }
        },
        {
          "output_type": "display_data",
          "data": {
            "image/png": "[encoded data removed]",
            "text/plain": [
              "<Figure size 432x288 with 1 Axes>"
            ]
          },
          "metadata": {
            "tags": [],
            "needs_background": "light"
          }
        }
      ]
    },
    {
      "cell_type": "markdown",
      "metadata": {
        "id": "DmyMmMxoTQKD"
      },
      "source": [
        "Define a Convolutional Neural Network\n",
        "Using cifar10 first networks to compare"
      ]
    },
    {
      "cell_type": "code",
      "metadata": {
        "id": "pEolrQ248qO7"
      },
      "source": [
        "from tensorflow.keras.layers import Dropout\n",
        "model1 = Sequential()\n",
        "model1.add(Conv2D(32, (6, 6), activation='relu', kernel_initializer='he_uniform', padding='same', input_shape=(32, 32, 3)))\n",
        "model1.add(Conv2D(64, (3, 3), activation='relu', kernel_initializer='he_uniform', padding='same'))\n",
        "model1.add(MaxPooling2D((2, 2)))\n",
        "model1.add(Flatten())\n",
        "model1.add(Dropout(0.4))\n",
        "model1.add(Dense(198, activation='relu', kernel_initializer='he_uniform'))\n",
        "model1.add(Dropout(0.4))\n",
        "model1.add(Dense(100, activation='softmax'))"
      ],
      "execution_count": 8,
      "outputs": []
    },
    {
      "cell_type": "markdown",
      "metadata": {
        "id": "UmkmVq_PTQKR"
      },
      "source": [
        "Define a Loss function and optimizer"
      ]
    },
    {
      "cell_type": "code",
      "metadata": {
        "id": "SE_hEc8r9_Yu"
      },
      "source": [
        "# compile model\n",
        "opt1 = SGD(lr=0.001, momentum=0.9)\n",
        "model1.compile(optimizer=opt1, loss='sparse_categorical_crossentropy', metrics=['accuracy'])"
      ],
      "execution_count": 9,
      "outputs": []
    },
    {
      "cell_type": "markdown",
      "metadata": {
        "id": "dW-WISEBTQKf"
      },
      "source": [
        "Train the network\n",
        "\n",
        "This is when things start to get interesting. We simply have to loop over our data iterator, and feed the inputs to the network and optimize"
      ]
    },
    {
      "cell_type": "code",
      "metadata": {
        "id": "JJUR_jga9yO2",
        "outputId": "3f42f7e6-00fe-42e1-dd5f-c26dcd514367",
        "colab": {
          "base_uri": "https://localhost:8080/",
          "height": 1000
        }
      },
      "source": [
        "epochs=30\n",
        "# fit model\n",
        "history1 = model1.fit(train_set[0], train_set[1], epochs=epochs, batch_size=64, validation_data=(test_set[0], test_set[1]), verbose=1)\n",
        "# evaluate model\n",
        "_, acc1 = model1.evaluate(test_set[0], test_set[1], verbose=1)\n",
        "print('> %.3f' % (acc1 * 100.0))"
      ],
      "execution_count": 10,
      "outputs": [
        {
          "output_type": "stream",
          "text": [
            "Epoch 1/30\n",
            "782/782 [==============================] - 6s 8ms/step - loss: 4.5116 - accuracy: 0.0268 - val_loss: 4.2899 - val_accuracy: 0.0690\n",
            "Epoch 2/30\n",
            "782/782 [==============================] - 6s 7ms/step - loss: 4.2393 - accuracy: 0.0583 - val_loss: 4.0106 - val_accuracy: 0.1039\n",
            "Epoch 3/30\n",
            "782/782 [==============================] - 6s 7ms/step - loss: 4.0432 - accuracy: 0.0836 - val_loss: 3.8042 - val_accuracy: 0.1434\n",
            "Epoch 4/30\n",
            "782/782 [==============================] - 6s 7ms/step - loss: 3.8862 - accuracy: 0.1116 - val_loss: 3.6383 - val_accuracy: 0.1759\n",
            "Epoch 5/30\n",
            "782/782 [==============================] - 6s 7ms/step - loss: 3.7565 - accuracy: 0.1300 - val_loss: 3.5191 - val_accuracy: 0.1920\n",
            "Epoch 6/30\n",
            "782/782 [==============================] - 6s 7ms/step - loss: 3.6452 - accuracy: 0.1512 - val_loss: 3.4276 - val_accuracy: 0.2017\n",
            "Epoch 7/30\n",
            "782/782 [==============================] - 6s 7ms/step - loss: 3.5549 - accuracy: 0.1665 - val_loss: 3.3422 - val_accuracy: 0.2212\n",
            "Epoch 8/30\n",
            "782/782 [==============================] - 6s 7ms/step - loss: 3.4648 - accuracy: 0.1825 - val_loss: 3.2602 - val_accuracy: 0.2392\n",
            "Epoch 9/30\n",
            "782/782 [==============================] - 6s 7ms/step - loss: 3.3837 - accuracy: 0.1944 - val_loss: 3.1814 - val_accuracy: 0.2514\n",
            "Epoch 10/30\n",
            "782/782 [==============================] - 6s 7ms/step - loss: 3.3114 - accuracy: 0.2069 - val_loss: 3.1033 - val_accuracy: 0.2588\n",
            "Epoch 11/30\n",
            "782/782 [==============================] - 6s 7ms/step - loss: 3.2397 - accuracy: 0.2209 - val_loss: 3.0525 - val_accuracy: 0.2770\n",
            "Epoch 12/30\n",
            "782/782 [==============================] - 6s 7ms/step - loss: 3.1644 - accuracy: 0.2359 - val_loss: 2.9999 - val_accuracy: 0.2846\n",
            "Epoch 13/30\n",
            "782/782 [==============================] - 6s 7ms/step - loss: 3.1077 - accuracy: 0.2474 - val_loss: 2.9407 - val_accuracy: 0.2923\n",
            "Epoch 14/30\n",
            "782/782 [==============================] - 6s 7ms/step - loss: 3.0436 - accuracy: 0.2574 - val_loss: 2.8784 - val_accuracy: 0.2986\n",
            "Epoch 15/30\n",
            "782/782 [==============================] - 6s 7ms/step - loss: 2.9839 - accuracy: 0.2680 - val_loss: 2.8406 - val_accuracy: 0.3085\n",
            "Epoch 16/30\n",
            "782/782 [==============================] - 6s 7ms/step - loss: 2.9208 - accuracy: 0.2830 - val_loss: 2.7922 - val_accuracy: 0.3179\n",
            "Epoch 17/30\n",
            "782/782 [==============================] - 6s 7ms/step - loss: 2.8653 - accuracy: 0.2924 - val_loss: 2.7540 - val_accuracy: 0.3226\n",
            "Epoch 18/30\n",
            "782/782 [==============================] - 6s 7ms/step - loss: 2.8032 - accuracy: 0.3034 - val_loss: 2.7243 - val_accuracy: 0.3337\n",
            "Epoch 19/30\n",
            "782/782 [==============================] - 6s 7ms/step - loss: 2.7565 - accuracy: 0.3124 - val_loss: 2.6699 - val_accuracy: 0.3386\n",
            "Epoch 20/30\n",
            "782/782 [==============================] - 6s 7ms/step - loss: 2.7104 - accuracy: 0.3199 - val_loss: 2.6345 - val_accuracy: 0.3469\n",
            "Epoch 21/30\n",
            "782/782 [==============================] - 6s 7ms/step - loss: 2.6566 - accuracy: 0.3339 - val_loss: 2.6364 - val_accuracy: 0.3454\n",
            "Epoch 22/30\n",
            "782/782 [==============================] - 6s 7ms/step - loss: 2.6057 - accuracy: 0.3410 - val_loss: 2.5728 - val_accuracy: 0.3580\n",
            "Epoch 23/30\n",
            "782/782 [==============================] - 6s 7ms/step - loss: 2.5578 - accuracy: 0.3519 - val_loss: 2.5551 - val_accuracy: 0.3599\n",
            "Epoch 24/30\n",
            "782/782 [==============================] - 6s 7ms/step - loss: 2.5131 - accuracy: 0.3605 - val_loss: 2.5463 - val_accuracy: 0.3659\n",
            "Epoch 25/30\n",
            "782/782 [==============================] - 6s 7ms/step - loss: 2.4660 - accuracy: 0.3702 - val_loss: 2.5349 - val_accuracy: 0.3645\n",
            "Epoch 26/30\n",
            "782/782 [==============================] - 6s 7ms/step - loss: 2.4247 - accuracy: 0.3742 - val_loss: 2.4929 - val_accuracy: 0.3793\n",
            "Epoch 27/30\n",
            "782/782 [==============================] - 6s 7ms/step - loss: 2.3845 - accuracy: 0.3868 - val_loss: 2.4676 - val_accuracy: 0.3795\n",
            "Epoch 28/30\n",
            "782/782 [==============================] - 6s 7ms/step - loss: 2.3421 - accuracy: 0.3936 - val_loss: 2.4572 - val_accuracy: 0.3823\n",
            "Epoch 29/30\n",
            "782/782 [==============================] - 6s 7ms/step - loss: 2.2997 - accuracy: 0.4000 - val_loss: 2.4732 - val_accuracy: 0.3835\n",
            "Epoch 30/30\n",
            "782/782 [==============================] - 6s 7ms/step - loss: 2.2596 - accuracy: 0.4121 - val_loss: 2.4406 - val_accuracy: 0.3894\n",
            "313/313 [==============================] - 1s 2ms/step - loss: 2.4406 - accuracy: 0.3894\n",
            "> 38.940\n"
          ],
          "name": "stdout"
        }
      ]
    },
    {
      "cell_type": "code",
      "metadata": {
        "id": "vBJJegetTQLC",
        "outputId": "6ee06d15-edd6-4a53-c3a3-f9ab9274531b",
        "colab": {
          "base_uri": "https://localhost:8080/",
          "height": 282
        }
      },
      "source": [
        "pyplot.plot(range(0,epochs), history1.history['accuracy'])\n",
        "pyplot.plot(range(0,epochs), history1.history['val_accuracy'])"
      ],
      "execution_count": 11,
      "outputs": [
        {
          "output_type": "execute_result",
          "data": {
            "text/plain": [
              "[<matplotlib.lines.Line2D at 0x7f9618848710>]"
            ]
          },
          "metadata": {
            "tags": []
          },
          "execution_count": 11
        },
        {
          "output_type": "display_data",
          "data": {
            "image/png": "[encoded data removed]",
            "text/plain": [
              "<Figure size 432x288 with 1 Axes>"
            ]
          },
          "metadata": {
            "tags": [],
            "needs_background": "light"
          }
        }
      ]
    },
    {
      "cell_type": "markdown",
      "metadata": {
        "id": "iMqnGPRLid3R"
      },
      "source": [
        "Model 2:"
      ]
    },
    {
      "cell_type": "code",
      "metadata": {
        "id": "HTCURVP_idZI"
      },
      "source": [
        "# Create the model 2\n",
        "model2 = Sequential()\n",
        "model2.add(Conv2D(32, kernel_size=(3, 3), activation='relu', input_shape=(32, 32, 3)))\n",
        "model2.add(MaxPooling2D(pool_size=(2, 2)))\n",
        "model2.add(Dropout(0.2))\n",
        "model2.add(Conv2D(64, kernel_size=(3, 3), activation='relu'))\n",
        "model2.add(MaxPooling2D(pool_size=(2, 2)))\n",
        "model2.add(Dropout(0.3))\n",
        "model2.add(Conv2D(128, kernel_size=(3, 3), activation='relu'))\n",
        "model2.add(MaxPooling2D(pool_size=(2, 2)))\n",
        "model2.add(Dropout(0.4))\n",
        "model2.add(Flatten())\n",
        "model2.add(Dense(256, activation='relu'))\n",
        "model2.add(Dense(128, activation='relu'))\n",
        "model2.add(Dense(100, activation='softmax'))\n",
        "# compile model 2\n",
        "model2.compile(loss='sparse_categorical_crossentropy',optimizer=Adam(),metrics=['accuracy'])"
      ],
      "execution_count": 17,
      "outputs": []
    },
    {
      "cell_type": "code",
      "metadata": {
        "id": "Dz4MeDezcB87",
        "outputId": "9104c9d0-4ebc-486e-929a-9c84aeb1eeab",
        "colab": {
          "base_uri": "https://localhost:8080/",
          "height": 1000
        }
      },
      "source": [
        "epochs2=30\n",
        "# fit model\n",
        "history2 = model2.fit(train_set[0], train_set[1], epochs=30, batch_size=50, validation_data=(test_set[0], test_set[1]), verbose=1)\n",
        "# evaluate model\n",
        "_, acc2 = model2.evaluate(test_set[0], test_set[1], verbose=1)\n",
        "print('> %.3f' % (acc2 * 100.0))"
      ],
      "execution_count": 18,
      "outputs": [
        {
          "output_type": "stream",
          "text": [
            "Epoch 1/30\n",
            "1000/1000 [==============================] - 4s 4ms/step - loss: 4.1754 - accuracy: 0.0545 - val_loss: 3.8238 - val_accuracy: 0.1072\n",
            "Epoch 2/30\n",
            "1000/1000 [==============================] - 4s 4ms/step - loss: 3.6257 - accuracy: 0.1380 - val_loss: 3.4375 - val_accuracy: 0.1794\n",
            "Epoch 3/30\n",
            "1000/1000 [==============================] - 4s 4ms/step - loss: 3.3468 - accuracy: 0.1859 - val_loss: 3.2220 - val_accuracy: 0.2182\n",
            "Epoch 4/30\n",
            "1000/1000 [==============================] - 3s 3ms/step - loss: 3.1809 - accuracy: 0.2176 - val_loss: 2.9826 - val_accuracy: 0.2624\n",
            "Epoch 5/30\n",
            "1000/1000 [==============================] - 4s 4ms/step - loss: 3.0565 - accuracy: 0.2441 - val_loss: 2.8847 - val_accuracy: 0.2852\n",
            "Epoch 6/30\n",
            "1000/1000 [==============================] - 3s 3ms/step - loss: 2.9460 - accuracy: 0.2655 - val_loss: 2.8010 - val_accuracy: 0.3000\n",
            "Epoch 7/30\n",
            "1000/1000 [==============================] - 4s 4ms/step - loss: 2.8758 - accuracy: 0.2772 - val_loss: 2.7595 - val_accuracy: 0.3088\n",
            "Epoch 8/30\n",
            "1000/1000 [==============================] - 4s 4ms/step - loss: 2.8090 - accuracy: 0.2929 - val_loss: 2.6613 - val_accuracy: 0.3285\n",
            "Epoch 9/30\n",
            "1000/1000 [==============================] - 3s 3ms/step - loss: 2.7470 - accuracy: 0.3023 - val_loss: 2.7030 - val_accuracy: 0.3208\n",
            "Epoch 10/30\n",
            "1000/1000 [==============================] - 4s 4ms/step - loss: 2.7025 - accuracy: 0.3119 - val_loss: 2.6491 - val_accuracy: 0.3253\n",
            "Epoch 11/30\n",
            "1000/1000 [==============================] - 4s 4ms/step - loss: 2.6542 - accuracy: 0.3226 - val_loss: 2.6017 - val_accuracy: 0.3370\n",
            "Epoch 12/30\n",
            "1000/1000 [==============================] - 4s 4ms/step - loss: 2.6137 - accuracy: 0.3314 - val_loss: 2.5268 - val_accuracy: 0.3543\n",
            "Epoch 13/30\n",
            "1000/1000 [==============================] - 4s 4ms/step - loss: 2.5889 - accuracy: 0.3350 - val_loss: 2.5133 - val_accuracy: 0.3556\n",
            "Epoch 14/30\n",
            "1000/1000 [==============================] - 4s 4ms/step - loss: 2.5603 - accuracy: 0.3385 - val_loss: 2.5275 - val_accuracy: 0.3498\n",
            "Epoch 15/30\n",
            "1000/1000 [==============================] - 4s 4ms/step - loss: 2.5302 - accuracy: 0.3471 - val_loss: 2.4766 - val_accuracy: 0.3668\n",
            "Epoch 16/30\n",
            "1000/1000 [==============================] - 4s 4ms/step - loss: 2.5125 - accuracy: 0.3516 - val_loss: 2.5036 - val_accuracy: 0.3571\n",
            "Epoch 17/30\n",
            "1000/1000 [==============================] - 4s 4ms/step - loss: 2.4929 - accuracy: 0.3531 - val_loss: 2.4477 - val_accuracy: 0.3637\n",
            "Epoch 18/30\n",
            "1000/1000 [==============================] - 4s 4ms/step - loss: 2.4633 - accuracy: 0.3592 - val_loss: 2.4637 - val_accuracy: 0.3719\n",
            "Epoch 19/30\n",
            "1000/1000 [==============================] - 4s 4ms/step - loss: 2.4494 - accuracy: 0.3652 - val_loss: 2.4204 - val_accuracy: 0.3747\n",
            "Epoch 20/30\n",
            "1000/1000 [==============================] - 3s 3ms/step - loss: 2.4364 - accuracy: 0.3670 - val_loss: 2.4066 - val_accuracy: 0.3843\n",
            "Epoch 21/30\n",
            "1000/1000 [==============================] - 3s 3ms/step - loss: 2.4169 - accuracy: 0.3694 - val_loss: 2.4462 - val_accuracy: 0.3762\n",
            "Epoch 22/30\n",
            "1000/1000 [==============================] - 3s 3ms/step - loss: 2.3926 - accuracy: 0.3731 - val_loss: 2.3870 - val_accuracy: 0.3833\n",
            "Epoch 23/30\n",
            "1000/1000 [==============================] - 3s 3ms/step - loss: 2.3746 - accuracy: 0.3785 - val_loss: 2.4379 - val_accuracy: 0.3750\n",
            "Epoch 24/30\n",
            "1000/1000 [==============================] - 3s 3ms/step - loss: 2.3689 - accuracy: 0.3788 - val_loss: 2.3810 - val_accuracy: 0.3872\n",
            "Epoch 25/30\n",
            "1000/1000 [==============================] - 3s 3ms/step - loss: 2.3477 - accuracy: 0.3824 - val_loss: 2.3908 - val_accuracy: 0.3875\n",
            "Epoch 26/30\n",
            "1000/1000 [==============================] - 3s 3ms/step - loss: 2.3404 - accuracy: 0.3840 - val_loss: 2.4082 - val_accuracy: 0.3769\n",
            "Epoch 27/30\n",
            "1000/1000 [==============================] - 3s 3ms/step - loss: 2.3261 - accuracy: 0.3882 - val_loss: 2.4362 - val_accuracy: 0.3771\n",
            "Epoch 28/30\n",
            "1000/1000 [==============================] - 3s 3ms/step - loss: 2.3119 - accuracy: 0.3913 - val_loss: 2.3290 - val_accuracy: 0.4018\n",
            "Epoch 29/30\n",
            "1000/1000 [==============================] - 3s 3ms/step - loss: 2.3097 - accuracy: 0.3912 - val_loss: 2.3310 - val_accuracy: 0.3993\n",
            "Epoch 30/30\n",
            "1000/1000 [==============================] - 3s 3ms/step - loss: 2.2908 - accuracy: 0.3980 - val_loss: 2.3755 - val_accuracy: 0.3876\n",
            "313/313 [==============================] - 1s 2ms/step - loss: 2.3755 - accuracy: 0.3876\n",
            "> 38.760\n"
          ],
          "name": "stdout"
        }
      ]
    },
    {
      "cell_type": "code",
      "metadata": {
        "id": "SbQXP3SsTQL1",
        "outputId": "1b374c83-134b-4ad8-98ee-bf16778e3631",
        "colab": {
          "base_uri": "https://localhost:8080/",
          "height": 282
        }
      },
      "source": [
        "pyplot.plot(range(0,epochs2), history2.history['accuracy'])\n",
        "pyplot.plot(range(0,epochs2), history2.history['val_accuracy'])"
      ],
      "execution_count": 19,
      "outputs": [
        {
          "output_type": "execute_result",
          "data": {
            "text/plain": [
              "[<matplotlib.lines.Line2D at 0x7f95804eaa20>]"
            ]
          },
          "metadata": {
            "tags": []
          },
          "execution_count": 19
        },
        {
          "output_type": "display_data",
          "data": {
            "image/png": "[encoded data removed]",
            "text/plain": [
              "<Figure size 432x288 with 1 Axes>"
            ]
          },
          "metadata": {
            "tags": [],
            "needs_background": "light"
          }
        }
      ]
    },
    {
      "cell_type": "markdown",
      "metadata": {
        "id": "IDNcZGkuklrt"
      },
      "source": [
        "Looks like adding dropouts decreased the distance between training and test accuracy. It's probably because the model don't overfit to the training data.\n",
        "Also notice the some places in the plot where test accuracy became higher than the train thing."
      ]
    }
  ]
}