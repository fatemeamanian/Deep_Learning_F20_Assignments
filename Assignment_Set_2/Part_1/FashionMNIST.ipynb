{
  "nbformat": 4,
  "nbformat_minor": 0,
  "metadata": {
    "accelerator": "GPU",
    "colab": {
      "name": "FMNIST_2.ipynb",
      "provenance": [],
      "collapsed_sections": []
    },
    "kernelspec": {
      "display_name": "Python 3",
      "language": "python",
      "name": "python3"
    },
    "language_info": {
      "codemirror_mode": {
        "name": "ipython",
        "version": 3
      },
      "file_extension": ".py",
      "mimetype": "text/x-python",
      "name": "python",
      "nbconvert_exporter": "python",
      "pygments_lexer": "ipython3",
      "version": "3.7.7"
    }
  },
  "cells": [
    {
      "cell_type": "markdown",
      "metadata": {
        "id": "0nYQqaK8TQHG"
      },
      "source": [
        "Fatemeh Amanian"
      ]
    },
    {
      "cell_type": "markdown",
      "metadata": {
        "id": "I4kWnkgyTQHL"
      },
      "source": [
        "Train neural network models (at least two different networks for each dataset, i.e., no. layers, no. neurons, activation, ...) in either Tensorflow or Pytorch to perform classification on the following datasets:\n",
        "\n",
        "Fashion-MNIST"
      ]
    },
    {
      "cell_type": "code",
      "metadata": {
        "id": "DOorW6XQTQHP"
      },
      "source": [
        "import sys\n",
        "from matplotlib import pyplot\n",
        "import numpy as np\n",
        "import PIL\n",
        "\n",
        "from tensorflow.keras.datasets import cifar10\n",
        "from tensorflow.keras.utils import to_categorical\n",
        "from tensorflow.keras.models import Sequential\n",
        "from tensorflow.keras.layers import Conv2D\n",
        "from tensorflow.keras.layers import MaxPooling2D\n",
        "from tensorflow.keras.layers import Dense\n",
        "from tensorflow.keras.layers import Flatten\n",
        "from tensorflow.keras.optimizers import SGD"
      ],
      "execution_count": 1,
      "outputs": []
    },
    {
      "cell_type": "markdown",
      "metadata": {
        "id": "0MUGdfJpvQJz"
      },
      "source": [
        "Download the data:"
      ]
    },
    {
      "cell_type": "code",
      "metadata": {
        "id": "UtuvU2FavSSb",
        "outputId": "3b808a29-a46d-4bfa-866e-f5b9ec41f74f",
        "colab": {
          "base_uri": "https://localhost:8080/",
          "height": 154
        }
      },
      "source": [
        "from keras.datasets import fashion_mnist\n",
        "x = fashion_mnist.load_data()"
      ],
      "execution_count": 2,
      "outputs": [
        {
          "output_type": "stream",
          "text": [
            "Downloading data from https://storage.googleapis.com/tensorflow/tf-keras-datasets/train-labels-idx1-ubyte.gz\n",
            "32768/29515 [=================================] - 0s 0us/step\n",
            "Downloading data from https://storage.googleapis.com/tensorflow/tf-keras-datasets/train-images-idx3-ubyte.gz\n",
            "26427392/26421880 [==============================] - 0s 0us/step\n",
            "Downloading data from https://storage.googleapis.com/tensorflow/tf-keras-datasets/t10k-labels-idx1-ubyte.gz\n",
            "8192/5148 [===============================================] - 0s 0us/step\n",
            "Downloading data from https://storage.googleapis.com/tensorflow/tf-keras-datasets/t10k-images-idx3-ubyte.gz\n",
            "4423680/4422102 [==============================] - 0s 0us/step\n"
          ],
          "name": "stdout"
        }
      ]
    },
    {
      "cell_type": "code",
      "metadata": {
        "id": "HM7fEVVsw87V",
        "outputId": "a0e89590-75f5-4318-8bd8-dedf14a8c6e2",
        "colab": {
          "base_uri": "https://localhost:8080/",
          "height": 34
        }
      },
      "source": [
        "!ls /root/.keras/datasets/"
      ],
      "execution_count": 3,
      "outputs": [
        {
          "output_type": "stream",
          "text": [
            "fashion-mnist\n"
          ],
          "name": "stdout"
        }
      ]
    },
    {
      "cell_type": "code",
      "metadata": {
        "id": "49CwJMWSxfTw",
        "outputId": "b3d742e4-8805-457e-a9a0-b59bdf6364cd",
        "colab": {
          "base_uri": "https://localhost:8080/",
          "height": 86
        }
      },
      "source": [
        "!mkdir /content/data\n",
        "!mkdir /content/data/fmnist\n",
        "!mv  -v /root/.keras/datasets/fashion-mnist/* /content/data/fmnist"
      ],
      "execution_count": 4,
      "outputs": [
        {
          "output_type": "stream",
          "text": [
            "renamed '/root/.keras/datasets/fashion-mnist/t10k-images-idx3-ubyte.gz' -> '/content/data/fmnist/t10k-images-idx3-ubyte.gz'\n",
            "renamed '/root/.keras/datasets/fashion-mnist/t10k-labels-idx1-ubyte.gz' -> '/content/data/fmnist/t10k-labels-idx1-ubyte.gz'\n",
            "renamed '/root/.keras/datasets/fashion-mnist/train-images-idx3-ubyte.gz' -> '/content/data/fmnist/train-images-idx3-ubyte.gz'\n",
            "renamed '/root/.keras/datasets/fashion-mnist/train-labels-idx1-ubyte.gz' -> '/content/data/fmnist/train-labels-idx1-ubyte.gz'\n"
          ],
          "name": "stdout"
        }
      ]
    },
    {
      "cell_type": "code",
      "metadata": {
        "id": "FdC2_TxvkkOO"
      },
      "source": [
        "!gunzip /content/data/fmnist/*.gz"
      ],
      "execution_count": 5,
      "outputs": []
    },
    {
      "cell_type": "markdown",
      "metadata": {
        "id": "25otVEtgTQHh"
      },
      "source": [
        "Import data:"
      ]
    },
    {
      "cell_type": "code",
      "metadata": {
        "id": "MzKNBvFgTQIO",
        "outputId": "33fa23a7-a590-4662-8dbf-50275bda5bb1",
        "colab": {
          "base_uri": "https://localhost:8080/",
          "height": 86
        }
      },
      "source": [
        "def loadMNIST( prefix, folder ):\n",
        "    intType = np.dtype( 'int32' ).newbyteorder( '>' )\n",
        "    nMetaDataBytes = 4 * intType.itemsize\n",
        "\n",
        "    data = np.fromfile( folder + \"/\" + prefix + '-images-idx3-ubyte', dtype = 'ubyte' )\n",
        "    magicBytes, nImages, width, height = np.frombuffer( data[:nMetaDataBytes].tobytes(), intType )\n",
        "    data = data[nMetaDataBytes:].astype( dtype = 'float32' ).reshape( [ nImages, width, height ] )\n",
        "\n",
        "    labels = np.fromfile( folder + \"/\" + prefix + '-labels-idx1-ubyte',\n",
        "                          dtype = 'ubyte' )[2 * intType.itemsize:]\n",
        "\n",
        "    return data, labels\n",
        "\n",
        "path='./data/fmnist'\n",
        "train_data, train_labels = loadMNIST( \"train\", path)\n",
        "test_data, test_labels = loadMNIST( \"t10k\", path)\n",
        "\n",
        "print(train_data.shape)\n",
        "print(len(train_labels))\n",
        "\n",
        "print(test_data.shape)\n",
        "print(len(test_labels))"
      ],
      "execution_count": 6,
      "outputs": [
        {
          "output_type": "stream",
          "text": [
            "(60000, 28, 28)\n",
            "60000\n",
            "(10000, 28, 28)\n",
            "10000\n"
          ],
          "name": "stdout"
        }
      ]
    },
    {
      "cell_type": "code",
      "metadata": {
        "id": "HUJxce7XiPCf"
      },
      "source": [
        "classes = [ 'Tshirt', 'Trouser', 'Pullover', 'Dress', 'Coat', 'Sandal', 'Shirt', 'Sneaker', 'Bag', 'Boot' ]"
      ],
      "execution_count": 7,
      "outputs": []
    },
    {
      "cell_type": "markdown",
      "metadata": {
        "id": "TgVvpmq1TQH_"
      },
      "source": [
        "Normalization:"
      ]
    },
    {
      "cell_type": "code",
      "metadata": {
        "id": "BiIYwVWgTQIB",
        "outputId": "911e5bc8-8d65-41ff-e06f-6f2250a2186b",
        "colab": {
          "base_uri": "https://localhost:8080/",
          "height": 51
        }
      },
      "source": [
        "train_set = ((train_data[..., np.newaxis]/255.0), np.asarray(train_labels))\n",
        "test_set = (test_data[..., np.newaxis]/255.0, np.asarray(test_labels))\n",
        "# (x_train-x_train.mean())/x_train.std()\n",
        "print(train_set[0].shape, train_set[1].shape)\n",
        "print(test_set[0].shape, test_set[1].shape)"
      ],
      "execution_count": 8,
      "outputs": [
        {
          "output_type": "stream",
          "text": [
            "(60000, 28, 28, 1) (60000,)\n",
            "(10000, 28, 28, 1) (10000,)\n"
          ],
          "name": "stdout"
        }
      ]
    },
    {
      "cell_type": "code",
      "metadata": {
        "id": "TcVwbJriDBn1",
        "outputId": "7ab11f0a-49c3-4f1c-d90c-904df7698e9e",
        "colab": {
          "base_uri": "https://localhost:8080/",
          "height": 282
        }
      },
      "source": [
        "pyplot.imshow(np.squeeze(train_set[0][0]))\n",
        "print(classes[train_set[1][0]])"
      ],
      "execution_count": 9,
      "outputs": [
        {
          "output_type": "stream",
          "text": [
            "Boot\n"
          ],
          "name": "stdout"
        },
        {
          "output_type": "display_data",
          "data": {
            "image/png": "[encoded data removed]",
            "text/plain": [
              "<Figure size 432x288 with 1 Axes>"
            ]
          },
          "metadata": {
            "tags": [],
            "needs_background": "light"
          }
        }
      ]
    },
    {
      "cell_type": "markdown",
      "metadata": {
        "id": "DmyMmMxoTQKD"
      },
      "source": [
        "Define a Convolutional Neural Network"
      ]
    },
    {
      "cell_type": "code",
      "metadata": {
        "id": "pEolrQ248qO7"
      },
      "source": [
        "model1 = Sequential()\n",
        "model1.add(Conv2D(32, (3, 3), activation='relu', kernel_initializer='he_uniform', padding='same', input_shape=(28, 28, 1)))\n",
        "model1.add(Conv2D(32, (3, 3), activation='relu', kernel_initializer='he_uniform', padding='same'))\n",
        "model1.add(MaxPooling2D((2, 2)))\n",
        "model1.add(Flatten())\n",
        "model1.add(Dense(128, activation='relu', kernel_initializer='he_uniform'))\n",
        "model1.add(Dense(10, activation='softmax'))"
      ],
      "execution_count": 10,
      "outputs": []
    },
    {
      "cell_type": "markdown",
      "metadata": {
        "id": "UmkmVq_PTQKR"
      },
      "source": [
        "Define a Loss function and optimizer"
      ]
    },
    {
      "cell_type": "code",
      "metadata": {
        "id": "SE_hEc8r9_Yu"
      },
      "source": [
        "# compile model\n",
        "opt1 = SGD(lr=0.001, momentum=0.9)\n",
        "model1.compile(optimizer=opt1, loss='sparse_categorical_crossentropy', metrics=['accuracy'])"
      ],
      "execution_count": 11,
      "outputs": []
    },
    {
      "cell_type": "markdown",
      "metadata": {
        "id": "dW-WISEBTQKf"
      },
      "source": [
        "Train the network\n",
        "\n",
        "This is when things start to get interesting. We simply have to loop over our data iterator, and feed the inputs to the network and optimize"
      ]
    },
    {
      "cell_type": "code",
      "metadata": {
        "id": "JJUR_jga9yO2",
        "outputId": "1a005c38-25a6-40c8-ea52-1c10169ea5f6",
        "colab": {
          "base_uri": "https://localhost:8080/",
          "height": 1000
        }
      },
      "source": [
        "epochs=30\n",
        "# fit model\n",
        "history1 = model1.fit(train_set[0], train_set[1], epochs=epochs, batch_size=64, validation_data=(test_set[0], test_set[1]), verbose=1)\n",
        "# evaluate model\n",
        "_, acc1 = model1.evaluate(test_set[0], test_set[1], verbose=1)\n",
        "print('> %.3f' % (acc1 * 100.0))"
      ],
      "execution_count": 12,
      "outputs": [
        {
          "output_type": "stream",
          "text": [
            "Epoch 1/30\n",
            "938/938 [==============================] - 4s 4ms/step - loss: 0.5320 - accuracy: 0.8141 - val_loss: 0.4176 - val_accuracy: 0.8561\n",
            "Epoch 2/30\n",
            "938/938 [==============================] - 3s 4ms/step - loss: 0.3746 - accuracy: 0.8688 - val_loss: 0.3661 - val_accuracy: 0.8737\n",
            "Epoch 3/30\n",
            "938/938 [==============================] - 3s 4ms/step - loss: 0.3317 - accuracy: 0.8834 - val_loss: 0.3393 - val_accuracy: 0.8809\n",
            "Epoch 4/30\n",
            "938/938 [==============================] - 3s 4ms/step - loss: 0.3022 - accuracy: 0.8927 - val_loss: 0.3258 - val_accuracy: 0.8847\n",
            "Epoch 5/30\n",
            "938/938 [==============================] - 3s 4ms/step - loss: 0.2799 - accuracy: 0.8999 - val_loss: 0.3153 - val_accuracy: 0.8871\n",
            "Epoch 6/30\n",
            "938/938 [==============================] - 4s 4ms/step - loss: 0.2646 - accuracy: 0.9045 - val_loss: 0.3490 - val_accuracy: 0.8765\n",
            "Epoch 7/30\n",
            "938/938 [==============================] - 3s 4ms/step - loss: 0.2484 - accuracy: 0.9100 - val_loss: 0.2920 - val_accuracy: 0.8922\n",
            "Epoch 8/30\n",
            "938/938 [==============================] - 3s 4ms/step - loss: 0.2343 - accuracy: 0.9159 - val_loss: 0.2832 - val_accuracy: 0.8976\n",
            "Epoch 9/30\n",
            "938/938 [==============================] - 4s 4ms/step - loss: 0.2223 - accuracy: 0.9204 - val_loss: 0.2826 - val_accuracy: 0.8968\n",
            "Epoch 10/30\n",
            "938/938 [==============================] - 4s 4ms/step - loss: 0.2142 - accuracy: 0.9231 - val_loss: 0.2865 - val_accuracy: 0.8952\n",
            "Epoch 11/30\n",
            "938/938 [==============================] - 3s 4ms/step - loss: 0.2029 - accuracy: 0.9265 - val_loss: 0.2883 - val_accuracy: 0.8947\n",
            "Epoch 12/30\n",
            "938/938 [==============================] - 3s 4ms/step - loss: 0.1960 - accuracy: 0.9295 - val_loss: 0.2638 - val_accuracy: 0.9044\n",
            "Epoch 13/30\n",
            "938/938 [==============================] - 3s 4ms/step - loss: 0.1877 - accuracy: 0.9317 - val_loss: 0.2562 - val_accuracy: 0.9105\n",
            "Epoch 14/30\n",
            "938/938 [==============================] - 4s 4ms/step - loss: 0.1780 - accuracy: 0.9360 - val_loss: 0.2487 - val_accuracy: 0.9131\n",
            "Epoch 15/30\n",
            "938/938 [==============================] - 3s 4ms/step - loss: 0.1712 - accuracy: 0.9387 - val_loss: 0.2573 - val_accuracy: 0.9102\n",
            "Epoch 16/30\n",
            "938/938 [==============================] - 3s 4ms/step - loss: 0.1649 - accuracy: 0.9411 - val_loss: 0.2474 - val_accuracy: 0.9136\n",
            "Epoch 17/30\n",
            "938/938 [==============================] - 4s 4ms/step - loss: 0.1562 - accuracy: 0.9443 - val_loss: 0.2545 - val_accuracy: 0.9098\n",
            "Epoch 18/30\n",
            "938/938 [==============================] - 4s 4ms/step - loss: 0.1510 - accuracy: 0.9464 - val_loss: 0.2540 - val_accuracy: 0.9124\n",
            "Epoch 19/30\n",
            "938/938 [==============================] - 3s 4ms/step - loss: 0.1436 - accuracy: 0.9496 - val_loss: 0.2508 - val_accuracy: 0.9163\n",
            "Epoch 20/30\n",
            "938/938 [==============================] - 3s 4ms/step - loss: 0.1386 - accuracy: 0.9512 - val_loss: 0.2537 - val_accuracy: 0.9142\n",
            "Epoch 21/30\n",
            "938/938 [==============================] - 4s 4ms/step - loss: 0.1310 - accuracy: 0.9536 - val_loss: 0.2458 - val_accuracy: 0.9167\n",
            "Epoch 22/30\n",
            "938/938 [==============================] - 4s 4ms/step - loss: 0.1265 - accuracy: 0.9546 - val_loss: 0.2675 - val_accuracy: 0.9116\n",
            "Epoch 23/30\n",
            "938/938 [==============================] - 3s 4ms/step - loss: 0.1215 - accuracy: 0.9571 - val_loss: 0.2541 - val_accuracy: 0.9144\n",
            "Epoch 24/30\n",
            "938/938 [==============================] - 4s 4ms/step - loss: 0.1164 - accuracy: 0.9592 - val_loss: 0.2621 - val_accuracy: 0.9149\n",
            "Epoch 25/30\n",
            "938/938 [==============================] - 3s 4ms/step - loss: 0.1109 - accuracy: 0.9607 - val_loss: 0.2558 - val_accuracy: 0.9159\n",
            "Epoch 26/30\n",
            "938/938 [==============================] - 4s 4ms/step - loss: 0.1067 - accuracy: 0.9626 - val_loss: 0.2503 - val_accuracy: 0.9190\n",
            "Epoch 27/30\n",
            "938/938 [==============================] - 4s 4ms/step - loss: 0.1023 - accuracy: 0.9644 - val_loss: 0.2712 - val_accuracy: 0.9140\n",
            "Epoch 28/30\n",
            "938/938 [==============================] - 3s 4ms/step - loss: 0.0971 - accuracy: 0.9669 - val_loss: 0.2659 - val_accuracy: 0.9168\n",
            "Epoch 29/30\n",
            "938/938 [==============================] - 3s 4ms/step - loss: 0.0916 - accuracy: 0.9684 - val_loss: 0.2767 - val_accuracy: 0.9111\n",
            "Epoch 30/30\n",
            "938/938 [==============================] - 3s 4ms/step - loss: 0.0879 - accuracy: 0.9692 - val_loss: 0.2655 - val_accuracy: 0.9180\n",
            "313/313 [==============================] - 1s 2ms/step - loss: 0.2655 - accuracy: 0.9180\n",
            "> 91.800\n"
          ],
          "name": "stdout"
        }
      ]
    },
    {
      "cell_type": "code",
      "metadata": {
        "id": "vBJJegetTQLC",
        "outputId": "d74c1e40-419b-4254-e012-40583210618f",
        "colab": {
          "base_uri": "https://localhost:8080/",
          "height": 282
        }
      },
      "source": [
        "pyplot.plot(range(0,epochs), history1.history['accuracy'])\n",
        "pyplot.plot(range(0,epochs), history1.history['val_accuracy'])"
      ],
      "execution_count": 13,
      "outputs": [
        {
          "output_type": "execute_result",
          "data": {
            "text/plain": [
              "[<matplotlib.lines.Line2D at 0x7f3e6f46d4e0>]"
            ]
          },
          "metadata": {
            "tags": []
          },
          "execution_count": 13
        },
        {
          "output_type": "display_data",
          "data": {
            "image/png": "[encoded data removed]",
            "text/plain": [
              "<Figure size 432x288 with 1 Axes>"
            ]
          },
          "metadata": {
            "tags": [],
            "needs_background": "light"
          }
        }
      ]
    },
    {
      "cell_type": "markdown",
      "metadata": {
        "id": "iMqnGPRLid3R"
      },
      "source": [
        "Model 2:"
      ]
    },
    {
      "cell_type": "code",
      "metadata": {
        "id": "HTCURVP_idZI"
      },
      "source": [
        "from tensorflow.keras.layers import Dropout\n",
        "model2 = Sequential()\n",
        "model2.add(Conv2D(32, (6, 6), activation='relu', kernel_initializer='he_uniform', padding='same', input_shape=(28, 28, 1)))\n",
        "model2.add(Conv2D(64, (3, 3), activation='relu', kernel_initializer='he_uniform', padding='same'))\n",
        "model2.add(MaxPooling2D((2, 2)))\n",
        "model2.add(Flatten())\n",
        "model2.add(Dropout(0.4))\n",
        "model2.add(Dense(198, activation='relu', kernel_initializer='he_uniform'))\n",
        "model2.add(Dropout(0.4))\n",
        "model2.add(Dense(10, activation='softmax'))\n",
        "# compile model\n",
        "opt2 = SGD(lr=0.001, momentum=0.9)\n",
        "model2.compile(optimizer=opt2, loss='sparse_categorical_crossentropy', metrics=['accuracy'])"
      ],
      "execution_count": 16,
      "outputs": []
    },
    {
      "cell_type": "code",
      "metadata": {
        "id": "Dz4MeDezcB87",
        "outputId": "a91013b0-59a1-426d-f79f-9a9ba6b3a323",
        "colab": {
          "base_uri": "https://localhost:8080/",
          "height": 1000
        }
      },
      "source": [
        "epochs2=30\n",
        "# fit model\n",
        "history2 = model2.fit(train_set[0], train_set[1], epochs=30, batch_size=64, validation_data=(test_set[0], test_set[1]), verbose=1)\n",
        "# evaluate model\n",
        "_, acc2 = model2.evaluate(test_set[0], test_set[1], verbose=1)\n",
        "print('> %.3f' % (acc2 * 100.0))"
      ],
      "execution_count": 17,
      "outputs": [
        {
          "output_type": "stream",
          "text": [
            "Epoch 1/30\n",
            "938/938 [==============================] - 5s 6ms/step - loss: 0.6666 - accuracy: 0.7643 - val_loss: 0.4436 - val_accuracy: 0.8432\n",
            "Epoch 2/30\n",
            "938/938 [==============================] - 5s 6ms/step - loss: 0.4579 - accuracy: 0.8392 - val_loss: 0.3904 - val_accuracy: 0.8602\n",
            "Epoch 3/30\n",
            "938/938 [==============================] - 5s 6ms/step - loss: 0.4105 - accuracy: 0.8545 - val_loss: 0.3623 - val_accuracy: 0.8687\n",
            "Epoch 4/30\n",
            "938/938 [==============================] - 5s 6ms/step - loss: 0.3801 - accuracy: 0.8652 - val_loss: 0.3414 - val_accuracy: 0.8766\n",
            "Epoch 5/30\n",
            "938/938 [==============================] - 5s 6ms/step - loss: 0.3576 - accuracy: 0.8734 - val_loss: 0.3337 - val_accuracy: 0.8807\n",
            "Epoch 6/30\n",
            "938/938 [==============================] - 5s 6ms/step - loss: 0.3393 - accuracy: 0.8792 - val_loss: 0.3154 - val_accuracy: 0.8842\n",
            "Epoch 7/30\n",
            "938/938 [==============================] - 5s 6ms/step - loss: 0.3274 - accuracy: 0.8827 - val_loss: 0.3089 - val_accuracy: 0.8873\n",
            "Epoch 8/30\n",
            "938/938 [==============================] - 5s 6ms/step - loss: 0.3137 - accuracy: 0.8881 - val_loss: 0.3034 - val_accuracy: 0.8887\n",
            "Epoch 9/30\n",
            "938/938 [==============================] - 5s 6ms/step - loss: 0.3048 - accuracy: 0.8897 - val_loss: 0.2917 - val_accuracy: 0.8942\n",
            "Epoch 10/30\n",
            "938/938 [==============================] - 5s 6ms/step - loss: 0.2947 - accuracy: 0.8939 - val_loss: 0.2876 - val_accuracy: 0.8939\n",
            "Epoch 11/30\n",
            "938/938 [==============================] - 5s 6ms/step - loss: 0.2865 - accuracy: 0.8972 - val_loss: 0.2800 - val_accuracy: 0.8980\n",
            "Epoch 12/30\n",
            "938/938 [==============================] - 5s 6ms/step - loss: 0.2804 - accuracy: 0.8998 - val_loss: 0.2779 - val_accuracy: 0.8999\n",
            "Epoch 13/30\n",
            "938/938 [==============================] - 5s 6ms/step - loss: 0.2723 - accuracy: 0.9000 - val_loss: 0.2732 - val_accuracy: 0.8995\n",
            "Epoch 14/30\n",
            "938/938 [==============================] - 5s 6ms/step - loss: 0.2643 - accuracy: 0.9044 - val_loss: 0.2654 - val_accuracy: 0.9017\n",
            "Epoch 15/30\n",
            "938/938 [==============================] - 5s 6ms/step - loss: 0.2587 - accuracy: 0.9057 - val_loss: 0.2613 - val_accuracy: 0.9049\n",
            "Epoch 16/30\n",
            "938/938 [==============================] - 5s 6ms/step - loss: 0.2532 - accuracy: 0.9078 - val_loss: 0.2602 - val_accuracy: 0.9050\n",
            "Epoch 17/30\n",
            "938/938 [==============================] - 5s 5ms/step - loss: 0.2481 - accuracy: 0.9094 - val_loss: 0.2575 - val_accuracy: 0.9063\n",
            "Epoch 18/30\n",
            "938/938 [==============================] - 5s 6ms/step - loss: 0.2416 - accuracy: 0.9115 - val_loss: 0.2572 - val_accuracy: 0.9072\n",
            "Epoch 19/30\n",
            "938/938 [==============================] - 5s 5ms/step - loss: 0.2368 - accuracy: 0.9143 - val_loss: 0.2507 - val_accuracy: 0.9070\n",
            "Epoch 20/30\n",
            "938/938 [==============================] - 5s 6ms/step - loss: 0.2313 - accuracy: 0.9157 - val_loss: 0.2475 - val_accuracy: 0.9087\n",
            "Epoch 21/30\n",
            "938/938 [==============================] - 5s 6ms/step - loss: 0.2289 - accuracy: 0.9158 - val_loss: 0.2445 - val_accuracy: 0.9111\n",
            "Epoch 22/30\n",
            "938/938 [==============================] - 5s 6ms/step - loss: 0.2246 - accuracy: 0.9173 - val_loss: 0.2428 - val_accuracy: 0.9110\n",
            "Epoch 23/30\n",
            "938/938 [==============================] - 5s 6ms/step - loss: 0.2202 - accuracy: 0.9195 - val_loss: 0.2387 - val_accuracy: 0.9141\n",
            "Epoch 24/30\n",
            "938/938 [==============================] - 5s 6ms/step - loss: 0.2167 - accuracy: 0.9206 - val_loss: 0.2374 - val_accuracy: 0.9126\n",
            "Epoch 25/30\n",
            "938/938 [==============================] - 5s 6ms/step - loss: 0.2136 - accuracy: 0.9209 - val_loss: 0.2373 - val_accuracy: 0.9134\n",
            "Epoch 26/30\n",
            "938/938 [==============================] - 5s 6ms/step - loss: 0.2080 - accuracy: 0.9240 - val_loss: 0.2351 - val_accuracy: 0.9154\n",
            "Epoch 27/30\n",
            "938/938 [==============================] - 5s 6ms/step - loss: 0.2036 - accuracy: 0.9259 - val_loss: 0.2327 - val_accuracy: 0.9151\n",
            "Epoch 28/30\n",
            "938/938 [==============================] - 5s 6ms/step - loss: 0.2045 - accuracy: 0.9249 - val_loss: 0.2336 - val_accuracy: 0.9155\n",
            "Epoch 29/30\n",
            "938/938 [==============================] - 5s 6ms/step - loss: 0.1976 - accuracy: 0.9279 - val_loss: 0.2305 - val_accuracy: 0.9157\n",
            "Epoch 30/30\n",
            "938/938 [==============================] - 5s 6ms/step - loss: 0.1941 - accuracy: 0.9283 - val_loss: 0.2286 - val_accuracy: 0.9148\n",
            "313/313 [==============================] - 1s 2ms/step - loss: 0.2286 - accuracy: 0.9148\n",
            "> 91.480\n"
          ],
          "name": "stdout"
        }
      ]
    },
    {
      "cell_type": "code",
      "metadata": {
        "id": "SbQXP3SsTQL1",
        "outputId": "39d7df5b-64f3-4dee-dcaf-8e06cc42a327",
        "colab": {
          "base_uri": "https://localhost:8080/",
          "height": 282
        }
      },
      "source": [
        "pyplot.plot(range(0,epochs2), history2.history['accuracy'])\n",
        "pyplot.plot(range(0,epochs2), history2.history['val_accuracy'])"
      ],
      "execution_count": 18,
      "outputs": [
        {
          "output_type": "execute_result",
          "data": {
            "text/plain": [
              "[<matplotlib.lines.Line2D at 0x7f3e0ad05eb8>]"
            ]
          },
          "metadata": {
            "tags": []
          },
          "execution_count": 18
        },
        {
          "output_type": "display_data",
          "data": {
            "image/png": "[encoded data removed]",
            "text/plain": [
              "<Figure size 432x288 with 1 Axes>"
            ]
          },
          "metadata": {
            "tags": [],
            "needs_background": "light"
          }
        }
      ]
    },
    {
      "cell_type": "markdown",
      "metadata": {
        "id": "IDNcZGkuklrt"
      },
      "source": [
        "Looks like adding dropouts decreased the distance between training and test accuracy. It's probably because the model don't overfit to the training data."
      ]
    }
  ]
}