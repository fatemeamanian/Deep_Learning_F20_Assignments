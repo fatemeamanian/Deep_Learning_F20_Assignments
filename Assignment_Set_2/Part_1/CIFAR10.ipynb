{
  "nbformat": 4,
  "nbformat_minor": 0,
  "metadata": {
    "kernelspec": {
      "display_name": "Python 3",
      "language": "python",
      "name": "python3"
    },
    "language_info": {
      "codemirror_mode": {
        "name": "ipython",
        "version": 3
      },
      "file_extension": ".py",
      "mimetype": "text/x-python",
      "name": "python",
      "nbconvert_exporter": "python",
      "pygments_lexer": "ipython3",
      "version": "3.7.7"
    },
    "colab": {
      "name": "CIFAR10_2.ipynb",
      "provenance": [],
      "collapsed_sections": []
    },
    "accelerator": "GPU"
  },
  "cells": [
    {
      "cell_type": "markdown",
      "metadata": {
        "id": "0nYQqaK8TQHG"
      },
      "source": [
        "Fatemeh Amanian"
      ]
    },
    {
      "cell_type": "markdown",
      "metadata": {
        "id": "I4kWnkgyTQHL"
      },
      "source": [
        "Train neural network models (at least two different networks for each dataset, i.e., no. layers, no. neurons, activation, ...) in either Tensorflow or Pytorch to perform classification on the following datasets:\n",
        "\n",
        "Cifar-10"
      ]
    },
    {
      "cell_type": "code",
      "metadata": {
        "id": "DOorW6XQTQHP"
      },
      "source": [
        "import sys\n",
        "from matplotlib import pyplot\n",
        "import numpy as np\n",
        "import PIL\n",
        "\n",
        "from tensorflow.keras.datasets import cifar10\n",
        "from tensorflow.keras.utils import to_categorical\n",
        "from tensorflow.keras.models import Sequential\n",
        "from tensorflow.keras.layers import Conv2D\n",
        "from tensorflow.keras.layers import MaxPooling2D\n",
        "from tensorflow.keras.layers import Dense\n",
        "from tensorflow.keras.layers import Flatten\n",
        "from tensorflow.keras.optimizers import SGD"
      ],
      "execution_count": 1,
      "outputs": []
    },
    {
      "cell_type": "markdown",
      "metadata": {
        "id": "0MUGdfJpvQJz"
      },
      "source": [
        "Download the data:"
      ]
    },
    {
      "cell_type": "code",
      "metadata": {
        "id": "UtuvU2FavSSb",
        "outputId": "b5dbad78-7756-4b61-c821-15ecfd8be527",
        "colab": {
          "base_uri": "https://localhost:8080/",
          "height": 51
        }
      },
      "source": [
        "from keras.datasets import cifar10\n",
        "x = cifar10.load_data()"
      ],
      "execution_count": 2,
      "outputs": [
        {
          "output_type": "stream",
          "text": [
            "Downloading data from https://www.cs.toronto.edu/~kriz/cifar-10-python.tar.gz\n",
            "170500096/170498071 [==============================] - 4s 0us/step\n"
          ],
          "name": "stdout"
        }
      ]
    },
    {
      "cell_type": "code",
      "metadata": {
        "id": "HM7fEVVsw87V",
        "outputId": "0df5a239-9c70-4eff-8172-99a930ad8397",
        "colab": {
          "base_uri": "https://localhost:8080/",
          "height": 34
        }
      },
      "source": [
        "!find / -type f -name \"data_batch_1\""
      ],
      "execution_count": 3,
      "outputs": [
        {
          "output_type": "stream",
          "text": [
            "/root/.keras/datasets/cifar-10-batches-py/data_batch_1\n"
          ],
          "name": "stdout"
        }
      ]
    },
    {
      "cell_type": "code",
      "metadata": {
        "id": "49CwJMWSxfTw",
        "outputId": "0f839b42-8d28-495b-a157-c5c8b52232e4",
        "colab": {
          "base_uri": "https://localhost:8080/",
          "height": 154
        }
      },
      "source": [
        "!mkdir /content/data\n",
        "!mkdir /content/data/cifar10\n",
        "!mv  -v /root/.keras/datasets/cifar-10-batches-py/* /content/data/cifar10"
      ],
      "execution_count": 4,
      "outputs": [
        {
          "output_type": "stream",
          "text": [
            "renamed '/root/.keras/datasets/cifar-10-batches-py/batches.meta' -> '/content/data/cifar10/batches.meta'\n",
            "renamed '/root/.keras/datasets/cifar-10-batches-py/data_batch_1' -> '/content/data/cifar10/data_batch_1'\n",
            "renamed '/root/.keras/datasets/cifar-10-batches-py/data_batch_2' -> '/content/data/cifar10/data_batch_2'\n",
            "renamed '/root/.keras/datasets/cifar-10-batches-py/data_batch_3' -> '/content/data/cifar10/data_batch_3'\n",
            "renamed '/root/.keras/datasets/cifar-10-batches-py/data_batch_4' -> '/content/data/cifar10/data_batch_4'\n",
            "renamed '/root/.keras/datasets/cifar-10-batches-py/data_batch_5' -> '/content/data/cifar10/data_batch_5'\n",
            "renamed '/root/.keras/datasets/cifar-10-batches-py/readme.html' -> '/content/data/cifar10/readme.html'\n",
            "renamed '/root/.keras/datasets/cifar-10-batches-py/test_batch' -> '/content/data/cifar10/test_batch'\n"
          ],
          "name": "stdout"
        }
      ]
    },
    {
      "cell_type": "markdown",
      "metadata": {
        "id": "25otVEtgTQHh"
      },
      "source": [
        "Import data:"
      ]
    },
    {
      "cell_type": "code",
      "metadata": {
        "jupyter": {
          "source_hidden": true
        },
        "id": "MzKNBvFgTQIO",
        "outputId": "fbf34494-06d9-42ce-f4bb-9cd9b0951fb4",
        "colab": {
          "base_uri": "https://localhost:8080/",
          "height": 86
        }
      },
      "source": [
        "path='./data/cifar10'\n",
        "\n",
        "def unpickle(file):\n",
        "    import pickle\n",
        "    with open(file, 'rb') as fo:\n",
        "        dic = pickle.load(fo, encoding='bytes')\n",
        "    return dic\n",
        "\n",
        "train_batch =[]\n",
        "for i in range(5):\n",
        "    train_batch.append(unpickle(path + \"/data_batch_\" + str(i+1) ))\n",
        "test_batch = unpickle(path + \"/test_batch\")\n",
        "\n",
        "\n",
        "train_data = []\n",
        "train_labels = []\n",
        "for batch in train_batch:\n",
        "    train_data.append(np.array(batch[b'data']))\n",
        "    train_labels.extend(np.array(batch[b'labels']))\n",
        "train_data = np.stack(train_data, axis=0)\n",
        "train_data = train_data.reshape(-1, 3, 32, 32).transpose(0, 2, 3, 1)\n",
        "\n",
        "print(train_data.shape)\n",
        "\n",
        "print(len(train_labels))\n",
        "\n",
        "test_labels = []\n",
        "test_data = np.array(test_batch[b'data'])\n",
        "test_labels.extend(np.array(test_batch[b'labels']))\n",
        "\n",
        "test_data = test_data.reshape(-1, 3, 32, 32).transpose(0, 2, 3, 1)\n",
        "\n",
        "print(test_data.shape)\n",
        "print(len(test_labels))"
      ],
      "execution_count": 5,
      "outputs": [
        {
          "output_type": "stream",
          "text": [
            "(50000, 32, 32, 3)\n",
            "50000\n",
            "(10000, 32, 32, 3)\n",
            "10000\n"
          ],
          "name": "stdout"
        }
      ]
    },
    {
      "cell_type": "code",
      "metadata": {
        "id": "HUJxce7XiPCf"
      },
      "source": [
        "classes = [ \"airplane\", \"car\", \"bird\", \"cat\", \"deer\", \"dog\", \"frog\", \"horse\", \"ship\", \"truck\" ]"
      ],
      "execution_count": 6,
      "outputs": []
    },
    {
      "cell_type": "markdown",
      "metadata": {
        "id": "TgVvpmq1TQH_"
      },
      "source": [
        "Normalization:"
      ]
    },
    {
      "cell_type": "code",
      "metadata": {
        "id": "BiIYwVWgTQIB",
        "outputId": "29846430-fc3b-4317-bc2f-db94a45cdbbe",
        "colab": {
          "base_uri": "https://localhost:8080/",
          "height": 51
        }
      },
      "source": [
        "train_set = ((train_data/255.0), np.asarray(train_labels))\n",
        "test_set = (test_data/255.0, np.asarray(test_labels))\n",
        "# (x_train-x_train.mean())/x_train.std()\n",
        "print(train_set[0].shape, train_set[1].shape)\n",
        "print(test_set[0].shape, test_set[1].shape)"
      ],
      "execution_count": 7,
      "outputs": [
        {
          "output_type": "stream",
          "text": [
            "(50000, 32, 32, 3) (50000,)\n",
            "(10000, 32, 32, 3) (10000,)\n"
          ],
          "name": "stdout"
        }
      ]
    },
    {
      "cell_type": "code",
      "metadata": {
        "id": "TcVwbJriDBn1",
        "outputId": "88cc202f-9d67-4c89-b763-6a1b02a270c3",
        "colab": {
          "base_uri": "https://localhost:8080/",
          "height": 283
        }
      },
      "source": [
        "pyplot.imshow(train_set[0][0])\n",
        "print(classes[train_set[1][0]])"
      ],
      "execution_count": 8,
      "outputs": [
        {
          "output_type": "stream",
          "text": [
            "frog\n"
          ],
          "name": "stdout"
        },
        {
          "output_type": "display_data",
          "data": {
            "image/png": "[encoded data removed]",
            "text/plain": [
              "<Figure size 432x288 with 1 Axes>"
            ]
          },
          "metadata": {
            "tags": [],
            "needs_background": "light"
          }
        }
      ]
    },
    {
      "cell_type": "markdown",
      "metadata": {
        "id": "DmyMmMxoTQKD"
      },
      "source": [
        "Define a Convolutional Neural Network"
      ]
    },
    {
      "cell_type": "code",
      "metadata": {
        "id": "pEolrQ248qO7"
      },
      "source": [
        "model1 = Sequential()\n",
        "model1.add(Conv2D(32, (3, 3), activation='relu', kernel_initializer='he_uniform', padding='same', input_shape=(32, 32, 3)))\n",
        "model1.add(Conv2D(32, (3, 3), activation='relu', kernel_initializer='he_uniform', padding='same'))\n",
        "model1.add(MaxPooling2D((2, 2)))\n",
        "model1.add(Flatten())\n",
        "model1.add(Dense(128, activation='relu', kernel_initializer='he_uniform'))\n",
        "model1.add(Dense(10, activation='softmax'))"
      ],
      "execution_count": 9,
      "outputs": []
    },
    {
      "cell_type": "markdown",
      "metadata": {
        "id": "UmkmVq_PTQKR"
      },
      "source": [
        "Define a Loss function and optimizer"
      ]
    },
    {
      "cell_type": "code",
      "metadata": {
        "id": "SE_hEc8r9_Yu"
      },
      "source": [
        "# compile model\n",
        "opt1 = SGD(lr=0.001, momentum=0.9)\n",
        "model1.compile(optimizer=opt1, loss='sparse_categorical_crossentropy', metrics=['accuracy'])"
      ],
      "execution_count": 10,
      "outputs": []
    },
    {
      "cell_type": "markdown",
      "metadata": {
        "id": "dW-WISEBTQKf"
      },
      "source": [
        "Train the network\n",
        "\n",
        "This is when things start to get interesting. We simply have to loop over our data iterator, and feed the inputs to the network and optimize"
      ]
    },
    {
      "cell_type": "code",
      "metadata": {
        "id": "JJUR_jga9yO2",
        "outputId": "a9d2c740-794e-4864-e462-6c8074112eb1",
        "colab": {
          "base_uri": "https://localhost:8080/",
          "height": 1000
        }
      },
      "source": [
        "epochs=30\n",
        "# fit model\n",
        "history1 = model1.fit(train_set[0], train_set[1], epochs=epochs, batch_size=64, validation_data=(test_set[0], test_set[1]), verbose=1)\n",
        "# evaluate model\n",
        "_, acc1 = model1.evaluate(test_set[0], test_set[1], verbose=1)\n",
        "print('> %.3f' % (acc1 * 100.0))"
      ],
      "execution_count": 11,
      "outputs": [
        {
          "output_type": "stream",
          "text": [
            "Epoch 1/30\n",
            "782/782 [==============================] - 4s 5ms/step - loss: 1.7812 - accuracy: 0.3664 - val_loss: 1.5247 - val_accuracy: 0.4554\n",
            "Epoch 2/30\n",
            "782/782 [==============================] - 3s 4ms/step - loss: 1.4445 - accuracy: 0.4896 - val_loss: 1.3430 - val_accuracy: 0.5232\n",
            "Epoch 3/30\n",
            "782/782 [==============================] - 3s 4ms/step - loss: 1.2850 - accuracy: 0.5490 - val_loss: 1.2507 - val_accuracy: 0.5614\n",
            "Epoch 4/30\n",
            "782/782 [==============================] - 3s 4ms/step - loss: 1.1748 - accuracy: 0.5905 - val_loss: 1.1620 - val_accuracy: 0.5914\n",
            "Epoch 5/30\n",
            "782/782 [==============================] - 3s 4ms/step - loss: 1.0847 - accuracy: 0.6241 - val_loss: 1.0931 - val_accuracy: 0.6145\n",
            "Epoch 6/30\n",
            "782/782 [==============================] - 3s 4ms/step - loss: 1.0140 - accuracy: 0.6480 - val_loss: 1.0805 - val_accuracy: 0.6211\n",
            "Epoch 7/30\n",
            "782/782 [==============================] - 3s 4ms/step - loss: 0.9564 - accuracy: 0.6681 - val_loss: 1.0249 - val_accuracy: 0.6438\n",
            "Epoch 8/30\n",
            "782/782 [==============================] - 3s 4ms/step - loss: 0.9052 - accuracy: 0.6877 - val_loss: 0.9994 - val_accuracy: 0.6559\n",
            "Epoch 9/30\n",
            "782/782 [==============================] - 3s 4ms/step - loss: 0.8597 - accuracy: 0.7023 - val_loss: 1.0160 - val_accuracy: 0.6453\n",
            "Epoch 10/30\n",
            "782/782 [==============================] - 3s 4ms/step - loss: 0.8127 - accuracy: 0.7188 - val_loss: 0.9899 - val_accuracy: 0.6625\n",
            "Epoch 11/30\n",
            "782/782 [==============================] - 3s 4ms/step - loss: 0.7673 - accuracy: 0.7374 - val_loss: 0.9828 - val_accuracy: 0.6614\n",
            "Epoch 12/30\n",
            "782/782 [==============================] - 3s 4ms/step - loss: 0.7295 - accuracy: 0.7498 - val_loss: 0.9603 - val_accuracy: 0.6726\n",
            "Epoch 13/30\n",
            "782/782 [==============================] - 3s 4ms/step - loss: 0.6887 - accuracy: 0.7632 - val_loss: 0.9907 - val_accuracy: 0.6618\n",
            "Epoch 14/30\n",
            "782/782 [==============================] - 3s 4ms/step - loss: 0.6485 - accuracy: 0.7772 - val_loss: 0.9685 - val_accuracy: 0.6699\n",
            "Epoch 15/30\n",
            "782/782 [==============================] - 3s 4ms/step - loss: 0.6074 - accuracy: 0.7938 - val_loss: 0.9720 - val_accuracy: 0.6757\n",
            "Epoch 16/30\n",
            "782/782 [==============================] - 3s 4ms/step - loss: 0.5679 - accuracy: 0.8069 - val_loss: 0.9979 - val_accuracy: 0.6720\n",
            "Epoch 17/30\n",
            "782/782 [==============================] - 3s 4ms/step - loss: 0.5280 - accuracy: 0.8214 - val_loss: 1.0204 - val_accuracy: 0.6707\n",
            "Epoch 18/30\n",
            "782/782 [==============================] - 3s 4ms/step - loss: 0.4851 - accuracy: 0.8376 - val_loss: 1.0046 - val_accuracy: 0.6748\n",
            "Epoch 19/30\n",
            "782/782 [==============================] - 3s 4ms/step - loss: 0.4433 - accuracy: 0.8523 - val_loss: 1.0525 - val_accuracy: 0.6739\n",
            "Epoch 20/30\n",
            "782/782 [==============================] - 3s 4ms/step - loss: 0.4007 - accuracy: 0.8681 - val_loss: 1.0839 - val_accuracy: 0.6730\n",
            "Epoch 21/30\n",
            "782/782 [==============================] - 4s 5ms/step - loss: 0.3662 - accuracy: 0.8795 - val_loss: 1.0873 - val_accuracy: 0.6714\n",
            "Epoch 22/30\n",
            "782/782 [==============================] - 3s 4ms/step - loss: 0.3250 - accuracy: 0.8956 - val_loss: 1.1467 - val_accuracy: 0.6702\n",
            "Epoch 23/30\n",
            "782/782 [==============================] - 3s 4ms/step - loss: 0.2879 - accuracy: 0.9094 - val_loss: 1.1686 - val_accuracy: 0.6668\n",
            "Epoch 24/30\n",
            "782/782 [==============================] - 3s 4ms/step - loss: 0.2476 - accuracy: 0.9237 - val_loss: 1.2245 - val_accuracy: 0.6681\n",
            "Epoch 25/30\n",
            "782/782 [==============================] - 4s 4ms/step - loss: 0.2179 - accuracy: 0.9353 - val_loss: 1.2735 - val_accuracy: 0.6654\n",
            "Epoch 26/30\n",
            "782/782 [==============================] - 3s 4ms/step - loss: 0.1847 - accuracy: 0.9468 - val_loss: 1.3323 - val_accuracy: 0.6617\n",
            "Epoch 27/30\n",
            "782/782 [==============================] - 3s 4ms/step - loss: 0.1545 - accuracy: 0.9581 - val_loss: 1.3839 - val_accuracy: 0.6671\n",
            "Epoch 28/30\n",
            "782/782 [==============================] - 3s 4ms/step - loss: 0.1288 - accuracy: 0.9676 - val_loss: 1.4653 - val_accuracy: 0.6702\n",
            "Epoch 29/30\n",
            "782/782 [==============================] - 4s 5ms/step - loss: 0.1055 - accuracy: 0.9758 - val_loss: 1.5243 - val_accuracy: 0.6627\n",
            "Epoch 30/30\n",
            "782/782 [==============================] - 4s 4ms/step - loss: 0.0846 - accuracy: 0.9839 - val_loss: 1.5245 - val_accuracy: 0.6724\n",
            "313/313 [==============================] - 1s 2ms/step - loss: 1.5245 - accuracy: 0.6724\n",
            "> 67.240\n"
          ],
          "name": "stdout"
        }
      ]
    },
    {
      "cell_type": "code",
      "metadata": {
        "id": "vBJJegetTQLC",
        "outputId": "68588f23-8fe9-46a2-8ff2-b47172f33ebb",
        "colab": {
          "base_uri": "https://localhost:8080/",
          "height": 282
        }
      },
      "source": [
        "pyplot.plot(range(0,epochs), history1.history['accuracy'])\n",
        "pyplot.plot(range(0,epochs), history1.history['val_accuracy'])"
      ],
      "execution_count": 13,
      "outputs": [
        {
          "output_type": "execute_result",
          "data": {
            "text/plain": [
              "[<matplotlib.lines.Line2D at 0x7f838ffc1eb8>]"
            ]
          },
          "metadata": {
            "tags": []
          },
          "execution_count": 13
        },
        {
          "output_type": "display_data",
          "data": {
            "image/png": "[encoded data removed]",
            "text/plain": [
              "<Figure size 432x288 with 1 Axes>"
            ]
          },
          "metadata": {
            "tags": [],
            "needs_background": "light"
          }
        }
      ]
    },
    {
      "cell_type": "markdown",
      "metadata": {
        "id": "iMqnGPRLid3R"
      },
      "source": [
        "Model 2:"
      ]
    },
    {
      "cell_type": "code",
      "metadata": {
        "id": "HTCURVP_idZI"
      },
      "source": [
        "from tensorflow.keras.layers import Dropout\n",
        "model2 = Sequential()\n",
        "model2.add(Conv2D(32, (6, 6), activation='relu', kernel_initializer='he_uniform', padding='same', input_shape=(32, 32, 3)))\n",
        "model2.add(Conv2D(64, (3, 3), activation='relu', kernel_initializer='he_uniform', padding='same'))\n",
        "model2.add(MaxPooling2D((2, 2)))\n",
        "model2.add(Flatten())\n",
        "model2.add(Dropout(0.4))\n",
        "model2.add(Dense(198, activation='relu', kernel_initializer='he_uniform'))\n",
        "model2.add(Dropout(0.4))\n",
        "model2.add(Dense(10, activation='softmax'))\n",
        "# compile model\n",
        "opt2 = SGD(lr=0.001, momentum=0.9)\n",
        "model2.compile(optimizer=opt2, loss='sparse_categorical_crossentropy', metrics=['accuracy'])"
      ],
      "execution_count": 20,
      "outputs": []
    },
    {
      "cell_type": "code",
      "metadata": {
        "id": "Dz4MeDezcB87",
        "outputId": "e635b18d-b6e0-4b87-969f-40671120068c",
        "colab": {
          "base_uri": "https://localhost:8080/",
          "height": 1000
        }
      },
      "source": [
        "epochs2=30\n",
        "# fit model\n",
        "history2 = model2.fit(train_set[0], train_set[1], epochs=30, batch_size=64, validation_data=(test_set[0], test_set[1]), verbose=1)\n",
        "# evaluate model\n",
        "_, acc2 = model2.evaluate(test_set[0], test_set[1], verbose=1)\n",
        "print('> %.3f' % (acc2 * 100.0))"
      ],
      "execution_count": 21,
      "outputs": [
        {
          "output_type": "stream",
          "text": [
            "Epoch 1/30\n",
            "782/782 [==============================] - 6s 7ms/step - loss: 1.9440 - accuracy: 0.2874 - val_loss: 1.6265 - val_accuracy: 0.4175\n",
            "Epoch 2/30\n",
            "782/782 [==============================] - 5s 7ms/step - loss: 1.6399 - accuracy: 0.4070 - val_loss: 1.4599 - val_accuracy: 0.4812\n",
            "Epoch 3/30\n",
            "782/782 [==============================] - 5s 7ms/step - loss: 1.5077 - accuracy: 0.4507 - val_loss: 1.3518 - val_accuracy: 0.5161\n",
            "Epoch 4/30\n",
            "782/782 [==============================] - 5s 7ms/step - loss: 1.4299 - accuracy: 0.4829 - val_loss: 1.3032 - val_accuracy: 0.5309\n",
            "Epoch 5/30\n",
            "782/782 [==============================] - 5s 7ms/step - loss: 1.3660 - accuracy: 0.5077 - val_loss: 1.2526 - val_accuracy: 0.5588\n",
            "Epoch 6/30\n",
            "782/782 [==============================] - 5s 7ms/step - loss: 1.3115 - accuracy: 0.5297 - val_loss: 1.2078 - val_accuracy: 0.5733\n",
            "Epoch 7/30\n",
            "782/782 [==============================] - 5s 7ms/step - loss: 1.2641 - accuracy: 0.5470 - val_loss: 1.1644 - val_accuracy: 0.5857\n",
            "Epoch 8/30\n",
            "782/782 [==============================] - 5s 7ms/step - loss: 1.2200 - accuracy: 0.5624 - val_loss: 1.1380 - val_accuracy: 0.5999\n",
            "Epoch 9/30\n",
            "782/782 [==============================] - 5s 7ms/step - loss: 1.1740 - accuracy: 0.5803 - val_loss: 1.1048 - val_accuracy: 0.6140\n",
            "Epoch 10/30\n",
            "782/782 [==============================] - 5s 7ms/step - loss: 1.1328 - accuracy: 0.5960 - val_loss: 1.0602 - val_accuracy: 0.6298\n",
            "Epoch 11/30\n",
            "782/782 [==============================] - 5s 7ms/step - loss: 1.0987 - accuracy: 0.6113 - val_loss: 1.0515 - val_accuracy: 0.6341\n",
            "Epoch 12/30\n",
            "782/782 [==============================] - 5s 7ms/step - loss: 1.0615 - accuracy: 0.6212 - val_loss: 1.0358 - val_accuracy: 0.6378\n",
            "Epoch 13/30\n",
            "782/782 [==============================] - 5s 7ms/step - loss: 1.0329 - accuracy: 0.6340 - val_loss: 0.9966 - val_accuracy: 0.6522\n",
            "Epoch 14/30\n",
            "782/782 [==============================] - 5s 7ms/step - loss: 1.0046 - accuracy: 0.6434 - val_loss: 0.9738 - val_accuracy: 0.6647\n",
            "Epoch 15/30\n",
            "782/782 [==============================] - 5s 7ms/step - loss: 0.9773 - accuracy: 0.6547 - val_loss: 0.9530 - val_accuracy: 0.6687\n",
            "Epoch 16/30\n",
            "782/782 [==============================] - 5s 7ms/step - loss: 0.9498 - accuracy: 0.6629 - val_loss: 0.9485 - val_accuracy: 0.6719\n",
            "Epoch 17/30\n",
            "782/782 [==============================] - 5s 7ms/step - loss: 0.9301 - accuracy: 0.6706 - val_loss: 0.9400 - val_accuracy: 0.6770\n",
            "Epoch 18/30\n",
            "782/782 [==============================] - 5s 7ms/step - loss: 0.9018 - accuracy: 0.6812 - val_loss: 0.9191 - val_accuracy: 0.6843\n",
            "Epoch 19/30\n",
            "782/782 [==============================] - 6s 7ms/step - loss: 0.8851 - accuracy: 0.6889 - val_loss: 0.9174 - val_accuracy: 0.6812\n",
            "Epoch 20/30\n",
            "782/782 [==============================] - 5s 7ms/step - loss: 0.8632 - accuracy: 0.6956 - val_loss: 0.8968 - val_accuracy: 0.6923\n",
            "Epoch 21/30\n",
            "782/782 [==============================] - 5s 7ms/step - loss: 0.8374 - accuracy: 0.7043 - val_loss: 0.9166 - val_accuracy: 0.6849\n",
            "Epoch 22/30\n",
            "782/782 [==============================] - 5s 7ms/step - loss: 0.8206 - accuracy: 0.7105 - val_loss: 0.8876 - val_accuracy: 0.6955\n",
            "Epoch 23/30\n",
            "782/782 [==============================] - 5s 7ms/step - loss: 0.7989 - accuracy: 0.7152 - val_loss: 0.8861 - val_accuracy: 0.6947\n",
            "Epoch 24/30\n",
            "782/782 [==============================] - 5s 7ms/step - loss: 0.7821 - accuracy: 0.7249 - val_loss: 0.8954 - val_accuracy: 0.6888\n",
            "Epoch 25/30\n",
            "782/782 [==============================] - 5s 7ms/step - loss: 0.7664 - accuracy: 0.7290 - val_loss: 0.8664 - val_accuracy: 0.7019\n",
            "Epoch 26/30\n",
            "782/782 [==============================] - 5s 7ms/step - loss: 0.7451 - accuracy: 0.7370 - val_loss: 0.8644 - val_accuracy: 0.7019\n",
            "Epoch 27/30\n",
            "782/782 [==============================] - 5s 7ms/step - loss: 0.7284 - accuracy: 0.7427 - val_loss: 0.8598 - val_accuracy: 0.7017\n",
            "Epoch 28/30\n",
            "782/782 [==============================] - 5s 7ms/step - loss: 0.7142 - accuracy: 0.7479 - val_loss: 0.8469 - val_accuracy: 0.7091\n",
            "Epoch 29/30\n",
            "782/782 [==============================] - 5s 7ms/step - loss: 0.6990 - accuracy: 0.7555 - val_loss: 0.8435 - val_accuracy: 0.7074\n",
            "Epoch 30/30\n",
            "782/782 [==============================] - 5s 7ms/step - loss: 0.6771 - accuracy: 0.7597 - val_loss: 0.8391 - val_accuracy: 0.7130\n",
            "313/313 [==============================] - 1s 2ms/step - loss: 0.8391 - accuracy: 0.7130\n",
            "> 71.300\n"
          ],
          "name": "stdout"
        }
      ]
    },
    {
      "cell_type": "code",
      "metadata": {
        "id": "SbQXP3SsTQL1",
        "outputId": "f0329ec7-dc89-46ee-f5dd-1c11354aaeeb",
        "colab": {
          "base_uri": "https://localhost:8080/",
          "height": 282
        }
      },
      "source": [
        "pyplot.plot(range(0,epochs2), history2.history['accuracy'])\n",
        "pyplot.plot(range(0,epochs2), history2.history['val_accuracy'])"
      ],
      "execution_count": 23,
      "outputs": [
        {
          "output_type": "execute_result",
          "data": {
            "text/plain": [
              "[<matplotlib.lines.Line2D at 0x7f8390491710>]"
            ]
          },
          "metadata": {
            "tags": []
          },
          "execution_count": 23
        },
        {
          "output_type": "display_data",
          "data": {
            "image/png": "[encoded data removed]",
            "text/plain": [
              "<Figure size 432x288 with 1 Axes>"
            ]
          },
          "metadata": {
            "tags": [],
            "needs_background": "light"
          }
        }
      ]
    },
    {
      "cell_type": "markdown",
      "metadata": {
        "id": "IDNcZGkuklrt"
      },
      "source": [
        "Looks like adding dropouts decreased the distance between training and test accuracy. It's probably because the model don't overfit to the training data."
      ]
    }
  ]
}